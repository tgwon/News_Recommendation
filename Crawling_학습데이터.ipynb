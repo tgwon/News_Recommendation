{
 "cells": [
  {
   "cell_type": "code",
   "execution_count": 2,
   "id": "7bbbf486",
   "metadata": {},
   "outputs": [],
   "source": [
    "import pandas as pd\n",
    "import numpy as np\n",
    "import time\n",
    "import re\n",
    "\n",
    "from bs4 import BeautifulSoup\n",
    "from datetime import datetime\n",
    "from tqdm import tqdm\n",
    "import requests\n",
    "\n",
    "# path를 자신의 경로에 맞게 지정!\n",
    "path = \"/Users/Goo/대구_빅데이터/\""
   ]
  },
  {
   "cell_type": "markdown",
   "id": "2a52876b",
   "metadata": {},
   "source": [
    "### Search_content 항목\n",
    "0. 여행(소비,여행 | 소비,숙소 | 소비,펜션 | 소비,호텔 | 소비,모텔 | 소비,항공 | 소비,택시 | 소비,버스 | 소비,기차 | 소비,교통 | 소비,렌트카)\n",
    "1. 취미(소비,레져 | 소비,공연 | 소비,골프 | 소비,악기 | 소비,스포츠 | 소비,영화 | 소비,티켓팅)\n",
    "2. IT_전자_자동차(소비,스마트폰 | 소비,아이폰 | 소비,갤럭시 | 소비,가전제품 | 소비,국산차 | 소비,외제차)\n",
    "3. 생활(소비,할인 | 소비,마트 | 소비,편의점 | 소비,주유 | 소비,생활용품 | 소비,생필품 | 소비,가구 | 소비,주방용품 )\n",
    "4. 패션_뷰티(소비,의류 | 소비,패션 | 소비,뷰티 | 소비,패션잡화 | 소비,화장품 | 소비,미용 | 소비,백화점 )\n",
    "5. 교육(소비,교육 | 소비,문제집 | 소비,학원 | 소비,도서 | 소비,교재 | 소비,입시 | 소비,수능 | 소비,내신 | 소비,학종)\n",
    "6. 의료(소비,병원 | 소비,약국 | 소비,건강식품 | 소비,보험 | 소비,한약 | 소비,진료)\n",
    "7. 외식(소비,외식 | 소비,간편식 | 소비,한식 | 소비,중식 | 소비,양식 | 소비,일식 | 소비,주점 | 소비,제과점)\n",
    "\n",
    "연도 기준 : 18년 6월부터 23년 5월까지의 뉴스 데이터  \n",
    "봄 : 3-5월, 여름 : 6-8월, 가을 9-11월, 겨울 12-2월  \n",
    "-> 페이지 수로 뉴스를 가져왔을때 업종별, 계절별로 크롤링 해올 수 있는 뉴스의 개수가 모두 달라서 최신년도부터 계절별로 300개씩 크롤링해와 업종별 1200개의 소비자 뉴스를 통해 계절성을 반영할 수 있도록 학습데이터를 구축하였습니다. ex) 특정 계절의 23년도 뉴스를 모두 크롤링 해왔는데 300개가 되지 않았으면 22년도 해당 계절의 뉴스를 이어서 크롤링 해옴.  \n",
    "\n",
    "URL Format : https://search.naver.com/search.naver?where=news&sm=tab_pge&query={search_content}&start={page}&pd=3&ds={start_day}&de={end_day}  \n",
    "-조건 : start_day, end_day = \"yyyy.mm.dd\"형식, page는 1, 11, 21형식으로 페이지마다 10씩 늘어남\n",
    "\n",
    "Features : 신문사, 링크, 제목, 원문, label"
   ]
  },
  {
   "cell_type": "code",
   "execution_count": 2,
   "id": "abfa8a73",
   "metadata": {
    "scrolled": true
   },
   "outputs": [
    {
     "name": "stdout",
     "output_type": "stream",
     "text": [
      "검색할 키워드를 입력해주세요. ex) 축구 | 농구 | 야구('|' 사이 공백 필수) : 소비,병원 | 소비,약국 | 소비,건강식품 | 소비,보험 | 소비,한약 | 소비,진료\n",
      "\n",
      "몇 개의 뉴스를 크롤링할지 입력해주세요. ex) 1000(숫자만입력): 300\n",
      "\n",
      "업종명을 입력해주세요. ex) 여행, 취미, IT_전자_자동차, 생활, ...: 의료\n",
      "\n",
      "Label을 입력해주세요. ex) 0, 1, 2, 3, ...: 6\n"
     ]
    }
   ],
   "source": [
    "# 필요한 키워드 입력\n",
    "search_content = input(\"검색할 키워드를 입력해주세요. ex) 축구 | 농구 | 야구('|' 사이 공백 필수) : \")\n",
    "max_news = int(input(\"\\n몇 개의 뉴스를 크롤링할지 입력해주세요. ex) 1000(숫자만입력): \"))\n",
    "sector = input(\"\\n업종명을 입력해주세요. ex) 여행, 취미, IT_전자_자동차, 생활, ...: \")\n",
    "label = int(input(\"\\nLabel을 입력해주세요. ex) 0, 1, 2, 3, ...: \"))"
   ]
  },
  {
   "cell_type": "code",
   "execution_count": 3,
   "id": "b303925f",
   "metadata": {},
   "outputs": [],
   "source": [
    "# 4계절 크롤링할 기간 설정\n",
    "spring_startday_list = [\"2023.03.01\", \"2022.03.01\", \"2021.03.01\", \"2020.03.01\", \"2019.03.01\"]\n",
    "spring_endday_list = [\"2023.05.31\", \"2022.05.31\", \"2021.05.31\", \"2020.05.31\", \"2019.05.31\"]\n",
    "\n",
    "summer_startday_list = [\"2022.06.01\", \"2021.06.01\", \"2020.06.01\", \"2019.06.01\", \"2018.06.01\"]\n",
    "summer_endday_list = [\"2022.08.31\", \"2021.08.31\", \"2020.08.31\", \"2019.08.31\", \"2018.08.31\"]\n",
    "\n",
    "fall_startday_list = [\"2022.09.01\", \"2021.09.01\", \"2020.09.01\", \"2019.09.01\", \"2018.09.01\"]\n",
    "fall_endday_list = [\"2022.11.30\", \"2021.11.30\", \"2020.11.30\", \"2019.11.30\", \"2018.11.30\"]\n",
    "\n",
    "winter_startday_list = [\"2022.12.01\", \"2021.12.01\", \"2020.12.01\",\"2019.12.01\", \"2018.12.01\"]\n",
    "winter_endday_list = [\"2023.02.28\", \"2022.02.28\", \"2021.02.28\", \"2020.02.29\", \"2019.02.28\"]"
   ]
  },
  {
   "cell_type": "code",
   "execution_count": 4,
   "id": "35f5cc8a",
   "metadata": {
    "scrolled": true
   },
   "outputs": [
    {
     "name": "stdout",
     "output_type": "stream",
     "text": [
      "검색 항목 :  소비,병원 | 소비,약국 | 소비,건강식품 | 소비,보험 | 소비,한약 | 소비,진료\n",
      "계절별 최대 뉴스 개수 :  300\n",
      "업종명 :  의료\n",
      "Label :  6\n"
     ]
    }
   ],
   "source": [
    "print(\"검색 항목 : \", search_content)\n",
    "print(\"계절별 최대 뉴스 개수 : \", max_news)\n",
    "print(\"업종명 : \", sector)\n",
    "print(\"Label : \", label)"
   ]
  },
  {
   "cell_type": "code",
   "execution_count": 5,
   "id": "abdc068e",
   "metadata": {},
   "outputs": [],
   "source": [
    "# URL 계절별 crawling 함수\n",
    "# -> Redirect 되지않는 네이버뉴스 max_news개가 추출될때까지 크롤링을 계속하는 함수\n",
    "\n",
    "headers = {\"User-Agent\": \"Mozilla/5.0 (Windows NT 10.0; Win64; x64) Chrome/98.0.4758.102\"}\n",
    "\n",
    "def url_crawling(search_content, start_season, end_season, max_news):\n",
    "    \n",
    "    # 집합 형태로 저장해 중복 url 제거\n",
    "    url_set = set()\n",
    "    for start_day, end_day in zip(start_season, end_season):    \n",
    "        for page in tqdm(range(1, 10000, 10)):\n",
    "            response = requests.get(f\"https://search.naver.com/search.naver?where=news&sm=tab_pge&query={search_content}&start={page}&pd=3&ds={start_day}&de={end_day}\", headers=headers)\n",
    "            # page를 넘기다 page가 없으면 종료\n",
    "            # 200은 HTTP 상태코드중 하나로 OK의 의미를 가짐. 요청이 성공적으로 처리되었음을 나타냄. 200이 아니라는것은 페이지가 없어 페이지를 넘길 수 없다는 의미\n",
    "            if response.status_code != 200:\n",
    "                print(f\"페이지 {page//10}가 없습니다. Exiting.\")\n",
    "                break\n",
    "            html = response.text\n",
    "            soup = BeautifulSoup(html, 'html.parser')\n",
    "            ul = soup.select_one(\"div.group_news > ul.list_news\")\n",
    "\n",
    "            if ul is None:\n",
    "                break\n",
    "            li_list = ul.find_all('li')\n",
    "            for li in li_list:\n",
    "                a_list = li.select('div.news_area > div.news_info > div.info_group > a.info')\n",
    "                for a_tag in a_list:\n",
    "                    href = a_tag.get('href')\n",
    "                    # href 속성값이 \"n.news.naver.com\"(네이버 뉴스)을 포함하는지 확인한다.\n",
    "                    if \"n.news.naver.com\" in href:\n",
    "                        try:\n",
    "                            # request.head()로 추출한 url이 rediret되는지 확인한다. redirect 되지않은 url만 저장한다.\n",
    "                            response = requests.head(href, allow_redirects=True)\n",
    "                            if response.status_code == 200:\n",
    "                                url_set.add(href)\n",
    "                                # 계절별 300개의 기사가 모두 크롤링 되었으면 크롤링 종료\n",
    "                                if len(url_set) >= max_news:\n",
    "                                    return list(url_set)\n",
    "                        except Exception as e:\n",
    "                            print(f\"An error occurred: {e}\")\n",
    "            time.sleep(1)\n",
    "\n",
    "    return list(url_set)"
   ]
  },
  {
   "cell_type": "code",
   "execution_count": 6,
   "id": "9dcd8d7d",
   "metadata": {},
   "outputs": [
    {
     "name": "stderr",
     "output_type": "stream",
     "text": [
      " 15%|██████                                  | 153/1000 [04:38<25:39,  1.82s/it]\n"
     ]
    },
    {
     "data": {
      "text/plain": [
       "300"
      ]
     },
     "execution_count": 6,
     "metadata": {},
     "output_type": "execute_result"
    }
   ],
   "source": [
    "url_spring = url_crawling(search_content, spring_startday_list, spring_endday_list, max_news)\n",
    "len(url_spring)"
   ]
  },
  {
   "cell_type": "code",
   "execution_count": 7,
   "id": "4bbc6310",
   "metadata": {},
   "outputs": [
    {
     "name": "stderr",
     "output_type": "stream",
     "text": [
      " 17%|██████▊                                 | 169/1000 [05:14<25:46,  1.86s/it]\n"
     ]
    },
    {
     "data": {
      "text/plain": [
       "300"
      ]
     },
     "execution_count": 7,
     "metadata": {},
     "output_type": "execute_result"
    }
   ],
   "source": [
    "url_summer = url_crawling(search_content, summer_startday_list, summer_endday_list, max_news)\n",
    "len(url_summer)"
   ]
  },
  {
   "cell_type": "code",
   "execution_count": 8,
   "id": "1048f614",
   "metadata": {},
   "outputs": [
    {
     "name": "stderr",
     "output_type": "stream",
     "text": [
      " 16%|██████▍                                 | 160/1000 [05:06<26:48,  1.92s/it]\n"
     ]
    },
    {
     "data": {
      "text/plain": [
       "300"
      ]
     },
     "execution_count": 8,
     "metadata": {},
     "output_type": "execute_result"
    }
   ],
   "source": [
    "url_fall = url_crawling(search_content, fall_startday_list, fall_endday_list, max_news)\n",
    "len(url_fall)"
   ]
  },
  {
   "cell_type": "code",
   "execution_count": 9,
   "id": "a0088d6e",
   "metadata": {},
   "outputs": [
    {
     "name": "stderr",
     "output_type": "stream",
     "text": [
      " 16%|██████▍                                 | 162/1000 [05:03<26:09,  1.87s/it]\n"
     ]
    },
    {
     "data": {
      "text/plain": [
       "300"
      ]
     },
     "execution_count": 9,
     "metadata": {},
     "output_type": "execute_result"
    }
   ],
   "source": [
    "url_winter = url_crawling(search_content, winter_startday_list, winter_endday_list, max_news)\n",
    "len(url_winter)"
   ]
  },
  {
   "cell_type": "code",
   "execution_count": 16,
   "id": "28861e70",
   "metadata": {},
   "outputs": [],
   "source": [
    "news_url = url_spring + url_summer + url_fall + url_winter"
   ]
  },
  {
   "cell_type": "code",
   "execution_count": 17,
   "id": "fd657dba",
   "metadata": {},
   "outputs": [
    {
     "name": "stderr",
     "output_type": "stream",
     "text": [
      "100%|███████████████████████████████████████| 1200/1200 [02:44<00:00,  7.32it/s]\n"
     ]
    }
   ],
   "source": [
    "# 신문사, 제목, 본문 추출\n",
    "news_company = []\n",
    "news_title = []\n",
    "news_content = []\n",
    "\n",
    "for url in tqdm(news_url):\n",
    "    response = requests.get(url, headers=headers)\n",
    "    soup = BeautifulSoup(response.text, 'html.parser')\n",
    "    \n",
    "    company = soup.select_one(\"#ct > div.media_end_head.go_trans > div.media_end_head_top > a > img[alt]\")\n",
    "    news_company.append(company['alt'] if company else 'None')\n",
    "    title = soup.select_one(\"#ct > div.media_end_head.go_trans > div.media_end_head_title > h2\")\n",
    "    news_title.append(title.text if title else 'None')\n",
    "    content = soup.select_one(\"article#dic_area\")\n",
    "    news_content.append(content.text if content else 'None')"
   ]
  },
  {
   "cell_type": "code",
   "execution_count": 18,
   "id": "b8861891",
   "metadata": {
    "scrolled": true
   },
   "outputs": [
    {
     "data": {
      "text/html": [
       "<div>\n",
       "<style scoped>\n",
       "    .dataframe tbody tr th:only-of-type {\n",
       "        vertical-align: middle;\n",
       "    }\n",
       "\n",
       "    .dataframe tbody tr th {\n",
       "        vertical-align: top;\n",
       "    }\n",
       "\n",
       "    .dataframe thead th {\n",
       "        text-align: right;\n",
       "    }\n",
       "</style>\n",
       "<table border=\"1\" class=\"dataframe\">\n",
       "  <thead>\n",
       "    <tr style=\"text-align: right;\">\n",
       "      <th></th>\n",
       "      <th>company</th>\n",
       "      <th>url</th>\n",
       "      <th>title</th>\n",
       "      <th>content</th>\n",
       "      <th>label</th>\n",
       "    </tr>\n",
       "  </thead>\n",
       "  <tbody>\n",
       "    <tr>\n",
       "      <th>0</th>\n",
       "      <td>조세일보</td>\n",
       "      <td>https://n.news.naver.com/mnews/article/123/000...</td>\n",
       "      <td>동아제약, 챔프시럽 '빨간색'만 회수…\"책임 다할 것\"</td>\n",
       "      <td>\\n- 챔프 이부펜 시럽 등 문제없어…소비자 환불 등 개시- \"챔프는 빨간색(아세트...</td>\n",
       "      <td>6</td>\n",
       "    </tr>\n",
       "    <tr>\n",
       "      <th>1</th>\n",
       "      <td>이데일리</td>\n",
       "      <td>https://n.news.naver.com/mnews/article/018/000...</td>\n",
       "      <td>'손해사정사 선임권' 알고 계셨나요?…보험사 안내문 뜯어보니</td>\n",
       "      <td>\\n'보험사 셀프 논란 방지' 손해사정사 선임권, 법제화 3년\"달라진게 없다\" 국내...</td>\n",
       "      <td>6</td>\n",
       "    </tr>\n",
       "    <tr>\n",
       "      <th>2</th>\n",
       "      <td>한국경제</td>\n",
       "      <td>https://n.news.naver.com/mnews/article/015/000...</td>\n",
       "      <td>시늉만 내는 '비대면 초진'</td>\n",
       "      <td>\\n복지부, 6월 1일부터 시범사업 시행소아과, 야간·휴일 상담만 가능…처방은 못 ...</td>\n",
       "      <td>6</td>\n",
       "    </tr>\n",
       "    <tr>\n",
       "      <th>3</th>\n",
       "      <td>데일리안</td>\n",
       "      <td>https://n.news.naver.com/mnews/article/119/000...</td>\n",
       "      <td>[데일리안 주간 포토] 누리호 3차 발사 성공! 대한민국 우주개발 시대 열렸다!</td>\n",
       "      <td>\\n\\n\\n\\n\\nⓒ데일리안[데일리안 = 홍금표기자, 박항구 기자] \\n\\n\\n\\n...</td>\n",
       "      <td>6</td>\n",
       "    </tr>\n",
       "    <tr>\n",
       "      <th>4</th>\n",
       "      <td>파이낸셜뉴스</td>\n",
       "      <td>https://n.news.naver.com/mnews/article/014/000...</td>\n",
       "      <td>\"사무장 병원 감시 강화된다\"…건보공단이 보건‧의료생협 실질 감독</td>\n",
       "      <td>\\n\\n\\n\\n\\n자료사진.연합뉴스  [파이낸셜뉴스] 보건·의료생협에 대한 국민건강...</td>\n",
       "      <td>6</td>\n",
       "    </tr>\n",
       "  </tbody>\n",
       "</table>\n",
       "</div>"
      ],
      "text/plain": [
       "  company                                                url  \\\n",
       "0    조세일보  https://n.news.naver.com/mnews/article/123/000...   \n",
       "1    이데일리  https://n.news.naver.com/mnews/article/018/000...   \n",
       "2    한국경제  https://n.news.naver.com/mnews/article/015/000...   \n",
       "3    데일리안  https://n.news.naver.com/mnews/article/119/000...   \n",
       "4  파이낸셜뉴스  https://n.news.naver.com/mnews/article/014/000...   \n",
       "\n",
       "                                          title  \\\n",
       "0                동아제약, 챔프시럽 '빨간색'만 회수…\"책임 다할 것\"   \n",
       "1             '손해사정사 선임권' 알고 계셨나요?…보험사 안내문 뜯어보니   \n",
       "2                               시늉만 내는 '비대면 초진'   \n",
       "3  [데일리안 주간 포토] 누리호 3차 발사 성공! 대한민국 우주개발 시대 열렸다!   \n",
       "4          \"사무장 병원 감시 강화된다\"…건보공단이 보건‧의료생협 실질 감독   \n",
       "\n",
       "                                             content  label  \n",
       "0  \\n- 챔프 이부펜 시럽 등 문제없어…소비자 환불 등 개시- \"챔프는 빨간색(아세트...      6  \n",
       "1  \\n'보험사 셀프 논란 방지' 손해사정사 선임권, 법제화 3년\"달라진게 없다\" 국내...      6  \n",
       "2  \\n복지부, 6월 1일부터 시범사업 시행소아과, 야간·휴일 상담만 가능…처방은 못 ...      6  \n",
       "3  \\n\\n\\n\\n\\nⓒ데일리안[데일리안 = 홍금표기자, 박항구 기자] \\n\\n\\n\\n...      6  \n",
       "4  \\n\\n\\n\\n\\n자료사진.연합뉴스  [파이낸셜뉴스] 보건·의료생협에 대한 국민건강...      6  "
      ]
     },
     "execution_count": 18,
     "metadata": {},
     "output_type": "execute_result"
    }
   ],
   "source": [
    "# 데이터프레임 생성\n",
    "columns = [\"company\", \"url\", \"title\", \"content\", \"label\"]\n",
    "\n",
    "data = {\n",
    "    \"company\": news_company,\n",
    "    \"url\": news_url,\n",
    "    \"title\": news_title,\n",
    "    \"content\": news_content,\n",
    "    \"label\" : [label] * len(news_company)\n",
    "}\n",
    "\n",
    "learn_news = pd.DataFrame(data, columns=columns)\n",
    "learn_news.head()"
   ]
  },
  {
   "cell_type": "code",
   "execution_count": 19,
   "id": "af387cc9",
   "metadata": {},
   "outputs": [
    {
     "data": {
      "text/plain": [
       "1200"
      ]
     },
     "execution_count": 19,
     "metadata": {},
     "output_type": "execute_result"
    }
   ],
   "source": [
    "len(learn_news)"
   ]
  },
  {
   "cell_type": "code",
   "execution_count": 22,
   "id": "b5666f87",
   "metadata": {},
   "outputs": [],
   "source": [
    "# 내용 기준 중복 뉴스 제거\n",
    "learn_news = learn_news.drop_duplicates(subset=['content'], keep='first')"
   ]
  },
  {
   "cell_type": "code",
   "execution_count": 23,
   "id": "fcac9b82",
   "metadata": {},
   "outputs": [
    {
     "data": {
      "text/plain": [
       "1199"
      ]
     },
     "execution_count": 23,
     "metadata": {},
     "output_type": "execute_result"
    }
   ],
   "source": [
    "len(learn_news)"
   ]
  },
  {
   "cell_type": "markdown",
   "id": "397fb997",
   "metadata": {},
   "source": [
    "re.sub() : 정규식을 사용하여 문자열 내에서 특정 패턴을 찾아 다른 문자열로 대체  \n",
    "\n",
    "re.sub(pattern, repl, string)      \n",
    "-pattern: 찾고자 하는 정규식 패턴을 지정합니다.  \n",
    "-repl: 대체할 문자열을 지정합니다.  \n",
    "-string: 대상 문자열을 지정합니다.  "
   ]
  },
  {
   "cell_type": "code",
   "execution_count": 24,
   "id": "e9664aaa",
   "metadata": {},
   "outputs": [],
   "source": [
    "# Escape문자 제거\n",
    "learn_news['content'] = learn_news['content'].apply(lambda x: re.sub(r'\\s+', ' ', x))"
   ]
  },
  {
   "cell_type": "code",
   "execution_count": 25,
   "id": "c424779f",
   "metadata": {
    "scrolled": false
   },
   "outputs": [
    {
     "data": {
      "text/html": [
       "<div>\n",
       "<style scoped>\n",
       "    .dataframe tbody tr th:only-of-type {\n",
       "        vertical-align: middle;\n",
       "    }\n",
       "\n",
       "    .dataframe tbody tr th {\n",
       "        vertical-align: top;\n",
       "    }\n",
       "\n",
       "    .dataframe thead th {\n",
       "        text-align: right;\n",
       "    }\n",
       "</style>\n",
       "<table border=\"1\" class=\"dataframe\">\n",
       "  <thead>\n",
       "    <tr style=\"text-align: right;\">\n",
       "      <th></th>\n",
       "      <th>company</th>\n",
       "      <th>url</th>\n",
       "      <th>title</th>\n",
       "      <th>content</th>\n",
       "      <th>label</th>\n",
       "    </tr>\n",
       "  </thead>\n",
       "  <tbody>\n",
       "    <tr>\n",
       "      <th>0</th>\n",
       "      <td>조세일보</td>\n",
       "      <td>https://n.news.naver.com/mnews/article/123/000...</td>\n",
       "      <td>동아제약, 챔프시럽 '빨간색'만 회수…\"책임 다할 것\"</td>\n",
       "      <td>- 챔프 이부펜 시럽 등 문제없어…소비자 환불 등 개시- \"챔프는 빨간색(아세트아...</td>\n",
       "      <td>6</td>\n",
       "    </tr>\n",
       "    <tr>\n",
       "      <th>1</th>\n",
       "      <td>이데일리</td>\n",
       "      <td>https://n.news.naver.com/mnews/article/018/000...</td>\n",
       "      <td>'손해사정사 선임권' 알고 계셨나요?…보험사 안내문 뜯어보니</td>\n",
       "      <td>'보험사 셀프 논란 방지' 손해사정사 선임권, 법제화 3년\"달라진게 없다\" 국내 ...</td>\n",
       "      <td>6</td>\n",
       "    </tr>\n",
       "    <tr>\n",
       "      <th>2</th>\n",
       "      <td>한국경제</td>\n",
       "      <td>https://n.news.naver.com/mnews/article/015/000...</td>\n",
       "      <td>시늉만 내는 '비대면 초진'</td>\n",
       "      <td>복지부, 6월 1일부터 시범사업 시행소아과, 야간·휴일 상담만 가능…처방은 못 받...</td>\n",
       "      <td>6</td>\n",
       "    </tr>\n",
       "    <tr>\n",
       "      <th>3</th>\n",
       "      <td>데일리안</td>\n",
       "      <td>https://n.news.naver.com/mnews/article/119/000...</td>\n",
       "      <td>[데일리안 주간 포토] 누리호 3차 발사 성공! 대한민국 우주개발 시대 열렸다!</td>\n",
       "      <td>ⓒ데일리안[데일리안 = 홍금표기자, 박항구 기자] ⓒ데일리안 박항구 기자박민식 국...</td>\n",
       "      <td>6</td>\n",
       "    </tr>\n",
       "    <tr>\n",
       "      <th>4</th>\n",
       "      <td>파이낸셜뉴스</td>\n",
       "      <td>https://n.news.naver.com/mnews/article/014/000...</td>\n",
       "      <td>\"사무장 병원 감시 강화된다\"…건보공단이 보건‧의료생협 실질 감독</td>\n",
       "      <td>자료사진.연합뉴스 [파이낸셜뉴스] 보건·의료생협에 대한 국민건강보험공단의 관리 범...</td>\n",
       "      <td>6</td>\n",
       "    </tr>\n",
       "  </tbody>\n",
       "</table>\n",
       "</div>"
      ],
      "text/plain": [
       "  company                                                url  \\\n",
       "0    조세일보  https://n.news.naver.com/mnews/article/123/000...   \n",
       "1    이데일리  https://n.news.naver.com/mnews/article/018/000...   \n",
       "2    한국경제  https://n.news.naver.com/mnews/article/015/000...   \n",
       "3    데일리안  https://n.news.naver.com/mnews/article/119/000...   \n",
       "4  파이낸셜뉴스  https://n.news.naver.com/mnews/article/014/000...   \n",
       "\n",
       "                                          title  \\\n",
       "0                동아제약, 챔프시럽 '빨간색'만 회수…\"책임 다할 것\"   \n",
       "1             '손해사정사 선임권' 알고 계셨나요?…보험사 안내문 뜯어보니   \n",
       "2                               시늉만 내는 '비대면 초진'   \n",
       "3  [데일리안 주간 포토] 누리호 3차 발사 성공! 대한민국 우주개발 시대 열렸다!   \n",
       "4          \"사무장 병원 감시 강화된다\"…건보공단이 보건‧의료생협 실질 감독   \n",
       "\n",
       "                                             content  label  \n",
       "0   - 챔프 이부펜 시럽 등 문제없어…소비자 환불 등 개시- \"챔프는 빨간색(아세트아...      6  \n",
       "1   '보험사 셀프 논란 방지' 손해사정사 선임권, 법제화 3년\"달라진게 없다\" 국내 ...      6  \n",
       "2   복지부, 6월 1일부터 시범사업 시행소아과, 야간·휴일 상담만 가능…처방은 못 받...      6  \n",
       "3   ⓒ데일리안[데일리안 = 홍금표기자, 박항구 기자] ⓒ데일리안 박항구 기자박민식 국...      6  \n",
       "4   자료사진.연합뉴스 [파이낸셜뉴스] 보건·의료생협에 대한 국민건강보험공단의 관리 범...      6  "
      ]
     },
     "execution_count": 25,
     "metadata": {},
     "output_type": "execute_result"
    }
   ],
   "source": [
    "learn_news.head()"
   ]
  },
  {
   "cell_type": "code",
   "execution_count": 26,
   "id": "cd2a30da",
   "metadata": {},
   "outputs": [],
   "source": [
    "learn_news.to_csv(path+sector+f\"_{label}.csv\", index=False)"
   ]
  },
  {
   "cell_type": "code",
   "execution_count": 17,
   "id": "e8e9f791",
   "metadata": {
    "scrolled": false
   },
   "outputs": [
    {
     "data": {
      "text/html": [
       "<div>\n",
       "<style scoped>\n",
       "    .dataframe tbody tr th:only-of-type {\n",
       "        vertical-align: middle;\n",
       "    }\n",
       "\n",
       "    .dataframe tbody tr th {\n",
       "        vertical-align: top;\n",
       "    }\n",
       "\n",
       "    .dataframe thead th {\n",
       "        text-align: right;\n",
       "    }\n",
       "</style>\n",
       "<table border=\"1\" class=\"dataframe\">\n",
       "  <thead>\n",
       "    <tr style=\"text-align: right;\">\n",
       "      <th></th>\n",
       "      <th>company</th>\n",
       "      <th>url</th>\n",
       "      <th>title</th>\n",
       "      <th>content</th>\n",
       "      <th>label</th>\n",
       "    </tr>\n",
       "  </thead>\n",
       "  <tbody>\n",
       "    <tr>\n",
       "      <th>0</th>\n",
       "      <td>조세일보</td>\n",
       "      <td>https://n.news.naver.com/mnews/article/123/000...</td>\n",
       "      <td>동아제약, 챔프시럽 '빨간색'만 회수…\"책임 다할 것\"</td>\n",
       "      <td>- 챔프 이부펜 시럽 등 문제없어…소비자 환불 등 개시- \"챔프는 빨간색(아세트아...</td>\n",
       "      <td>6</td>\n",
       "    </tr>\n",
       "    <tr>\n",
       "      <th>1</th>\n",
       "      <td>이데일리</td>\n",
       "      <td>https://n.news.naver.com/mnews/article/018/000...</td>\n",
       "      <td>'손해사정사 선임권' 알고 계셨나요?…보험사 안내문 뜯어보니</td>\n",
       "      <td>'보험사 셀프 논란 방지' 손해사정사 선임권, 법제화 3년\"달라진게 없다\" 국내 ...</td>\n",
       "      <td>6</td>\n",
       "    </tr>\n",
       "    <tr>\n",
       "      <th>2</th>\n",
       "      <td>한국경제</td>\n",
       "      <td>https://n.news.naver.com/mnews/article/015/000...</td>\n",
       "      <td>시늉만 내는 '비대면 초진'</td>\n",
       "      <td>복지부, 6월 1일부터 시범사업 시행소아과, 야간·휴일 상담만 가능…처방은 못 받...</td>\n",
       "      <td>6</td>\n",
       "    </tr>\n",
       "    <tr>\n",
       "      <th>3</th>\n",
       "      <td>데일리안</td>\n",
       "      <td>https://n.news.naver.com/mnews/article/119/000...</td>\n",
       "      <td>[데일리안 주간 포토] 누리호 3차 발사 성공! 대한민국 우주개발 시대 열렸다!</td>\n",
       "      <td>ⓒ데일리안[데일리안 = 홍금표기자, 박항구 기자] ⓒ데일리안 박항구 기자박민식 국...</td>\n",
       "      <td>6</td>\n",
       "    </tr>\n",
       "    <tr>\n",
       "      <th>4</th>\n",
       "      <td>파이낸셜뉴스</td>\n",
       "      <td>https://n.news.naver.com/mnews/article/014/000...</td>\n",
       "      <td>\"사무장 병원 감시 강화된다\"…건보공단이 보건‧의료생협 실질 감독</td>\n",
       "      <td>자료사진.연합뉴스 [파이낸셜뉴스] 보건·의료생협에 대한 국민건강보험공단의 관리 범...</td>\n",
       "      <td>6</td>\n",
       "    </tr>\n",
       "    <tr>\n",
       "      <th>5</th>\n",
       "      <td>스포츠동아</td>\n",
       "      <td>https://n.news.naver.com/mnews/article/382/000...</td>\n",
       "      <td>‘커피와 단백질을 한번에’…K&amp;C 헬스바이오 단백질 커피 ‘프로루틴’ 출시</td>\n",
       "      <td>K&amp;C헬스바이오는 커피를 즐기면서 단백질도 보충할 수 있는 고단백 음료 ‘프로루틴...</td>\n",
       "      <td>6</td>\n",
       "    </tr>\n",
       "    <tr>\n",
       "      <th>6</th>\n",
       "      <td>디지털타임스</td>\n",
       "      <td>https://n.news.naver.com/mnews/article/029/000...</td>\n",
       "      <td>[오늘의DT인] 판매왕·임원까지 거친 `보험고수`… \"모르면 차라리 가입하지 마세요\"</td>\n",
       "      <td>보험사는 고객이 1~2년내 해지하면 완납유지보다 더 수익 높아지는 구조오래된 보험...</td>\n",
       "      <td>6</td>\n",
       "    </tr>\n",
       "    <tr>\n",
       "      <th>7</th>\n",
       "      <td>매일경제</td>\n",
       "      <td>https://n.news.naver.com/mnews/article/009/000...</td>\n",
       "      <td>너도나도 뛰어드는 펫 영양제 시장 \"전문성 갖춰야 반려인 마음 잡죠\"</td>\n",
       "      <td>'반려동물이 곧 가족' 인식 확산간식 하나도 성분 따져 구입펫 영양제, 차별화 전...</td>\n",
       "      <td>6</td>\n",
       "    </tr>\n",
       "  </tbody>\n",
       "</table>\n",
       "</div>"
      ],
      "text/plain": [
       "  company                                                url  \\\n",
       "0    조세일보  https://n.news.naver.com/mnews/article/123/000...   \n",
       "1    이데일리  https://n.news.naver.com/mnews/article/018/000...   \n",
       "2    한국경제  https://n.news.naver.com/mnews/article/015/000...   \n",
       "3    데일리안  https://n.news.naver.com/mnews/article/119/000...   \n",
       "4  파이낸셜뉴스  https://n.news.naver.com/mnews/article/014/000...   \n",
       "5   스포츠동아  https://n.news.naver.com/mnews/article/382/000...   \n",
       "6  디지털타임스  https://n.news.naver.com/mnews/article/029/000...   \n",
       "7    매일경제  https://n.news.naver.com/mnews/article/009/000...   \n",
       "\n",
       "                                             title  \\\n",
       "0                   동아제약, 챔프시럽 '빨간색'만 회수…\"책임 다할 것\"   \n",
       "1                '손해사정사 선임권' 알고 계셨나요?…보험사 안내문 뜯어보니   \n",
       "2                                  시늉만 내는 '비대면 초진'   \n",
       "3     [데일리안 주간 포토] 누리호 3차 발사 성공! 대한민국 우주개발 시대 열렸다!   \n",
       "4             \"사무장 병원 감시 강화된다\"…건보공단이 보건‧의료생협 실질 감독   \n",
       "5        ‘커피와 단백질을 한번에’…K&C 헬스바이오 단백질 커피 ‘프로루틴’ 출시   \n",
       "6  [오늘의DT인] 판매왕·임원까지 거친 `보험고수`… \"모르면 차라리 가입하지 마세요\"   \n",
       "7           너도나도 뛰어드는 펫 영양제 시장 \"전문성 갖춰야 반려인 마음 잡죠\"   \n",
       "\n",
       "                                             content  label  \n",
       "0   - 챔프 이부펜 시럽 등 문제없어…소비자 환불 등 개시- \"챔프는 빨간색(아세트아...      6  \n",
       "1   '보험사 셀프 논란 방지' 손해사정사 선임권, 법제화 3년\"달라진게 없다\" 국내 ...      6  \n",
       "2   복지부, 6월 1일부터 시범사업 시행소아과, 야간·휴일 상담만 가능…처방은 못 받...      6  \n",
       "3   ⓒ데일리안[데일리안 = 홍금표기자, 박항구 기자] ⓒ데일리안 박항구 기자박민식 국...      6  \n",
       "4   자료사진.연합뉴스 [파이낸셜뉴스] 보건·의료생협에 대한 국민건강보험공단의 관리 범...      6  \n",
       "5   K&C헬스바이오는 커피를 즐기면서 단백질도 보충할 수 있는 고단백 음료 ‘프로루틴...      6  \n",
       "6   보험사는 고객이 1~2년내 해지하면 완납유지보다 더 수익 높아지는 구조오래된 보험...      6  \n",
       "7   '반려동물이 곧 가족' 인식 확산간식 하나도 성분 따져 구입펫 영양제, 차별화 전...      6  "
      ]
     },
     "execution_count": 17,
     "metadata": {},
     "output_type": "execute_result"
    }
   ],
   "source": [
    "pd.read_csv(path+\"의료_6.csv\").head(8)"
   ]
  },
  {
   "cell_type": "code",
   "execution_count": null,
   "id": "dc333709",
   "metadata": {},
   "outputs": [],
   "source": []
  },
  {
   "cell_type": "code",
   "execution_count": null,
   "id": "7efca106",
   "metadata": {},
   "outputs": [],
   "source": []
  },
  {
   "cell_type": "code",
   "execution_count": 13,
   "id": "1ea0da07",
   "metadata": {},
   "outputs": [],
   "source": [
    "pd.set_option(\"display.max_rows\", None)  # 모든 행 표시\n",
    "pd.set_option(\"display.max_columns\", None)  # 모든 열 표시\n",
    "\n",
    "pd.set_option(\"display.max_rows\", 10)  # 최대 10개의 행만 표시\n"
   ]
  },
  {
   "cell_type": "code",
   "execution_count": 15,
   "id": "b760984a",
   "metadata": {},
   "outputs": [
    {
     "data": {
      "text/html": [
       "<div>\n",
       "<style scoped>\n",
       "    .dataframe tbody tr th:only-of-type {\n",
       "        vertical-align: middle;\n",
       "    }\n",
       "\n",
       "    .dataframe tbody tr th {\n",
       "        vertical-align: top;\n",
       "    }\n",
       "\n",
       "    .dataframe thead th {\n",
       "        text-align: right;\n",
       "    }\n",
       "</style>\n",
       "<table border=\"1\" class=\"dataframe\">\n",
       "  <thead>\n",
       "    <tr style=\"text-align: right;\">\n",
       "      <th></th>\n",
       "      <th>업종분류</th>\n",
       "      <th>검색 키워드</th>\n",
       "    </tr>\n",
       "  </thead>\n",
       "  <tbody>\n",
       "    <tr>\n",
       "      <th>0</th>\n",
       "      <td>여행</td>\n",
       "      <td>소비,여행 | 소비,숙소 | 소비,펜션 | 소비,호텔 | 소비,모텔 | 소비,항공 ...</td>\n",
       "    </tr>\n",
       "    <tr>\n",
       "      <th>1</th>\n",
       "      <td>취미</td>\n",
       "      <td>소비,레져 | 소비,공연 | 소비,골프 | 소비,악기 | 소비,스포츠 | 소비,영화...</td>\n",
       "    </tr>\n",
       "    <tr>\n",
       "      <th>2</th>\n",
       "      <td>IT_전자_자동차</td>\n",
       "      <td>소비,스마트폰 | 소비,아이폰 | 소비,갤럭시 | 소비,가전제품 | 소비,국산차 |...</td>\n",
       "    </tr>\n",
       "    <tr>\n",
       "      <th>3</th>\n",
       "      <td>생활</td>\n",
       "      <td>소비,할인 | 소비,마트 | 소비,편의점 | 소비,주유 | 소비,생활용품 | 소비,...</td>\n",
       "    </tr>\n",
       "    <tr>\n",
       "      <th>4</th>\n",
       "      <td>패션_뷰티</td>\n",
       "      <td>소비,의류 | 소비,패션 | 소비,뷰티 | 소비,패션잡화 | 소비,화장품 | 소비,...</td>\n",
       "    </tr>\n",
       "    <tr>\n",
       "      <th>5</th>\n",
       "      <td>교육</td>\n",
       "      <td>소비,교육 | 소비,문제집 | 소비,학원 | 소비,도서 | 소비,교재 | 소비,입시...</td>\n",
       "    </tr>\n",
       "    <tr>\n",
       "      <th>6</th>\n",
       "      <td>의료</td>\n",
       "      <td>소비,병원 | 소비,약국 | 소비,건강식품 | 소비,보험 | 소비,한약 | 소비,진료</td>\n",
       "    </tr>\n",
       "    <tr>\n",
       "      <th>7</th>\n",
       "      <td>외식</td>\n",
       "      <td>소비,외식 | 소비,간편식 | 소비,한식 | 소비,중식 | 소비,양식 | 소비,일식...</td>\n",
       "    </tr>\n",
       "  </tbody>\n",
       "</table>\n",
       "</div>"
      ],
      "text/plain": [
       "        업종분류                                             검색 키워드\n",
       "0         여행  소비,여행 | 소비,숙소 | 소비,펜션 | 소비,호텔 | 소비,모텔 | 소비,항공 ...\n",
       "1         취미  소비,레져 | 소비,공연 | 소비,골프 | 소비,악기 | 소비,스포츠 | 소비,영화...\n",
       "2  IT_전자_자동차  소비,스마트폰 | 소비,아이폰 | 소비,갤럭시 | 소비,가전제품 | 소비,국산차 |...\n",
       "3         생활  소비,할인 | 소비,마트 | 소비,편의점 | 소비,주유 | 소비,생활용품 | 소비,...\n",
       "4      패션_뷰티  소비,의류 | 소비,패션 | 소비,뷰티 | 소비,패션잡화 | 소비,화장품 | 소비,...\n",
       "5         교육  소비,교육 | 소비,문제집 | 소비,학원 | 소비,도서 | 소비,교재 | 소비,입시...\n",
       "6         의료    소비,병원 | 소비,약국 | 소비,건강식품 | 소비,보험 | 소비,한약 | 소비,진료\n",
       "7         외식  소비,외식 | 소비,간편식 | 소비,한식 | 소비,중식 | 소비,양식 | 소비,일식..."
      ]
     },
     "execution_count": 15,
     "metadata": {},
     "output_type": "execute_result"
    }
   ],
   "source": [
    "import pandas as pd\n",
    "\n",
    "data = [\n",
    "    (\"여행\", \"소비,여행 | 소비,숙소 | 소비,펜션 | 소비,호텔 | 소비,모텔 | 소비,항공 | 소비,택시 | 소비,버스 | 소비,기차 | 소비,교통 | 소비,렌트카\"),\n",
    "    (\"취미\", \"소비,레져 | 소비,공연 | 소비,골프 | 소비,악기 | 소비,스포츠 | 소비,영화 | 소비,티켓팅\"),\n",
    "    (\"IT_전자_자동차\", \"소비,스마트폰 | 소비,아이폰 | 소비,갤럭시 | 소비,가전제품 | 소비,국산차 | 소비,외제차\"),\n",
    "    (\"생활\", \"소비,할인 | 소비,마트 | 소비,편의점 | 소비,주유 | 소비,생활용품 | 소비,생필품 | 소비,가구 | 소비,주방용품\"),\n",
    "    (\"패션_뷰티\", \"소비,의류 | 소비,패션 | 소비,뷰티 | 소비,패션잡화 | 소비,화장품 | 소비,미용 | 소비,백화점\"),\n",
    "    (\"교육\", \"소비,교육 | 소비,문제집 | 소비,학원 | 소비,도서 | 소비,교재 | 소비,입시 | 소비,수능 | 소비,내신 | 소비,학종\"),\n",
    "    (\"의료\", \"소비,병원 | 소비,약국 | 소비,건강식품 | 소비,보험 | 소비,한약 | 소비,진료\"),\n",
    "    (\"외식\", \"소비,외식 | 소비,간편식 | 소비,한식 | 소비,중식 | 소비,양식 | 소비,일식 | 소비,주점 | 소비,제과점\")\n",
    "]\n",
    "\n",
    "# 데이터 가공 및 데이터프레임 생성\n",
    "\n",
    "\n",
    "df = pd.DataFrame(data, columns=[\"업종분류\", \"검색 키워드\"])\n",
    "\n",
    "df"
   ]
  },
  {
   "cell_type": "code",
   "execution_count": null,
   "id": "a15cfcfb",
   "metadata": {},
   "outputs": [],
   "source": [
    "da = pd.DataFrame(data={})"
   ]
  },
  {
   "cell_type": "code",
   "execution_count": null,
   "id": "34497b37",
   "metadata": {},
   "outputs": [],
   "source": []
  }
 ],
 "metadata": {
  "kernelspec": {
   "display_name": "Python 3 (ipykernel)",
   "language": "python",
   "name": "python3"
  },
  "language_info": {
   "codemirror_mode": {
    "name": "ipython",
    "version": 3
   },
   "file_extension": ".py",
   "mimetype": "text/x-python",
   "name": "python",
   "nbconvert_exporter": "python",
   "pygments_lexer": "ipython3",
   "version": "3.11.3"
  }
 },
 "nbformat": 4,
 "nbformat_minor": 5
}
