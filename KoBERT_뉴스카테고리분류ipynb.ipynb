{
  "cells": [
    {
      "cell_type": "markdown",
      "metadata": {
        "id": "view-in-github",
        "colab_type": "text"
      },
      "source": [
        "<a href=\"https://colab.research.google.com/github/ytg000629/daegu_bigdata/blob/main/KoBERT_%EB%89%B4%EC%8A%A4%EC%B9%B4%ED%85%8C%EA%B3%A0%EB%A6%AC%EB%B6%84%EB%A5%98ipynb.ipynb\" target=\"_parent\"><img src=\"https://colab.research.google.com/assets/colab-badge.svg\" alt=\"Open In Colab\"/></a>"
      ]
    },
    {
      "cell_type": "markdown",
      "source": [
        "# install 및 import"
      ],
      "metadata": {
        "id": "8yMQlIbVOiL8"
      }
    },
    {
      "cell_type": "code",
      "source": [
        "#!pip install git+https://git@github.com/SKTBrain/KoBERT.git@master"
      ],
      "metadata": {
        "id": "_hZ5jDNU-Jya"
      },
      "execution_count": 2,
      "outputs": []
    },
    {
      "cell_type": "code",
      "source": [
        "# ★\n",
        "!pip install 'git+https://github.com/SKTBrain/KoBERT.git#egg=kobert_tokenizer&subdirectory=kobert_hf'"
      ],
      "metadata": {
        "colab": {
          "base_uri": "https://localhost:8080/"
        },
        "id": "IOyxc7TkDhjO",
        "outputId": "953ffb9d-64f9-4e24-c19b-6daec6ab5c51"
      },
      "execution_count": 3,
      "outputs": [
        {
          "output_type": "stream",
          "name": "stdout",
          "text": [
            "Collecting kobert_tokenizer\n",
            "  Cloning https://github.com/SKTBrain/KoBERT.git to /tmp/pip-install-6rd654gh/kobert-tokenizer_642c14aa9b9a42898a66b0304ad6f882\n",
            "  Running command git clone --filter=blob:none --quiet https://github.com/SKTBrain/KoBERT.git /tmp/pip-install-6rd654gh/kobert-tokenizer_642c14aa9b9a42898a66b0304ad6f882\n",
            "  Resolved https://github.com/SKTBrain/KoBERT.git to commit 47a69af87928fc24e20f571fe10c3cc9dd9af9a3\n",
            "  Preparing metadata (setup.py) ... \u001b[?25l\u001b[?25hdone\n",
            "Building wheels for collected packages: kobert_tokenizer\n",
            "  Building wheel for kobert_tokenizer (setup.py) ... \u001b[?25l\u001b[?25hdone\n",
            "  Created wheel for kobert_tokenizer: filename=kobert_tokenizer-0.1-py3-none-any.whl size=4632 sha256=2e64efd39e66e922a37607fb494a53b72157f9c837d116a0d6274f72b17b9f3e\n",
            "  Stored in directory: /tmp/pip-ephem-wheel-cache-774b7x3b/wheels/e9/1a/3f/a864970e8a169c176befa3c4a1e07aa612f69195907a4045fe\n",
            "Successfully built kobert_tokenizer\n",
            "Installing collected packages: kobert_tokenizer\n",
            "Successfully installed kobert_tokenizer-0.1\n"
          ]
        }
      ]
    },
    {
      "cell_type": "code",
      "source": [
        "!pip install mxnet\n",
        "!pip install gluonnlp==0.8.0\n",
        "!pip install sentencepiece==0.1.96\n",
        "!pip install transformers\n",
        "!pip install torch"
      ],
      "metadata": {
        "colab": {
          "base_uri": "https://localhost:8080/"
        },
        "id": "XysvTCPr-beR",
        "outputId": "cff8961f-6de6-446b-def1-d093b98a2df5"
      },
      "execution_count": 4,
      "outputs": [
        {
          "output_type": "stream",
          "name": "stdout",
          "text": [
            "Collecting mxnet\n",
            "  Downloading mxnet-1.9.1-py3-none-manylinux2014_x86_64.whl (49.1 MB)\n",
            "\u001b[2K     \u001b[90m━━━━━━━━━━━━━━━━━━━━━━━━━━━━━━━━━━━━━━━━\u001b[0m \u001b[32m49.1/49.1 MB\u001b[0m \u001b[31m17.6 MB/s\u001b[0m eta \u001b[36m0:00:00\u001b[0m\n",
            "\u001b[?25hRequirement already satisfied: numpy<2.0.0,>1.16.0 in /usr/local/lib/python3.10/dist-packages (from mxnet) (1.23.5)\n",
            "Requirement already satisfied: requests<3,>=2.20.0 in /usr/local/lib/python3.10/dist-packages (from mxnet) (2.31.0)\n",
            "Collecting graphviz<0.9.0,>=0.8.1 (from mxnet)\n",
            "  Downloading graphviz-0.8.4-py2.py3-none-any.whl (16 kB)\n",
            "Requirement already satisfied: charset-normalizer<4,>=2 in /usr/local/lib/python3.10/dist-packages (from requests<3,>=2.20.0->mxnet) (3.2.0)\n",
            "Requirement already satisfied: idna<4,>=2.5 in /usr/local/lib/python3.10/dist-packages (from requests<3,>=2.20.0->mxnet) (3.4)\n",
            "Requirement already satisfied: urllib3<3,>=1.21.1 in /usr/local/lib/python3.10/dist-packages (from requests<3,>=2.20.0->mxnet) (2.0.4)\n",
            "Requirement already satisfied: certifi>=2017.4.17 in /usr/local/lib/python3.10/dist-packages (from requests<3,>=2.20.0->mxnet) (2023.7.22)\n",
            "Installing collected packages: graphviz, mxnet\n",
            "  Attempting uninstall: graphviz\n",
            "    Found existing installation: graphviz 0.20.1\n",
            "    Uninstalling graphviz-0.20.1:\n",
            "      Successfully uninstalled graphviz-0.20.1\n",
            "Successfully installed graphviz-0.8.4 mxnet-1.9.1\n",
            "Collecting gluonnlp==0.8.0\n",
            "  Downloading gluonnlp-0.8.0.tar.gz (235 kB)\n",
            "\u001b[2K     \u001b[90m━━━━━━━━━━━━━━━━━━━━━━━━━━━━━━━━━━━━━━━\u001b[0m \u001b[32m235.5/235.5 kB\u001b[0m \u001b[31m4.4 MB/s\u001b[0m eta \u001b[36m0:00:00\u001b[0m\n",
            "\u001b[?25h  Preparing metadata (setup.py) ... \u001b[?25l\u001b[?25hdone\n",
            "Requirement already satisfied: numpy in /usr/local/lib/python3.10/dist-packages (from gluonnlp==0.8.0) (1.23.5)\n",
            "Building wheels for collected packages: gluonnlp\n",
            "  Building wheel for gluonnlp (setup.py) ... \u001b[?25l\u001b[?25hdone\n",
            "  Created wheel for gluonnlp: filename=gluonnlp-0.8.0-py3-none-any.whl size=292697 sha256=2b5dec76f38275709b8af6f9ef5d902a04f8b6b3d526c73ff716730c26024ade\n",
            "  Stored in directory: /root/.cache/pip/wheels/2d/cc/dc/7ec84dced25f738b8be400101abb67e4b50c905090a51017e4\n",
            "Successfully built gluonnlp\n",
            "Installing collected packages: gluonnlp\n",
            "Successfully installed gluonnlp-0.8.0\n",
            "Collecting sentencepiece==0.1.96\n",
            "  Downloading sentencepiece-0.1.96-cp310-cp310-manylinux_2_17_x86_64.manylinux2014_x86_64.whl (1.2 MB)\n",
            "\u001b[2K     \u001b[90m━━━━━━━━━━━━━━━━━━━━━━━━━━━━━━━━━━━━━━━━\u001b[0m \u001b[32m1.2/1.2 MB\u001b[0m \u001b[31m13.6 MB/s\u001b[0m eta \u001b[36m0:00:00\u001b[0m\n",
            "\u001b[?25hInstalling collected packages: sentencepiece\n",
            "Successfully installed sentencepiece-0.1.96\n",
            "Collecting transformers\n",
            "  Downloading transformers-4.31.0-py3-none-any.whl (7.4 MB)\n",
            "\u001b[2K     \u001b[90m━━━━━━━━━━━━━━━━━━━━━━━━━━━━━━━━━━━━━━━━\u001b[0m \u001b[32m7.4/7.4 MB\u001b[0m \u001b[31m63.1 MB/s\u001b[0m eta \u001b[36m0:00:00\u001b[0m\n",
            "\u001b[?25hRequirement already satisfied: filelock in /usr/local/lib/python3.10/dist-packages (from transformers) (3.12.2)\n",
            "Collecting huggingface-hub<1.0,>=0.14.1 (from transformers)\n",
            "  Downloading huggingface_hub-0.16.4-py3-none-any.whl (268 kB)\n",
            "\u001b[2K     \u001b[90m━━━━━━━━━━━━━━━━━━━━━━━━━━━━━━━━━━━━━━\u001b[0m \u001b[32m268.8/268.8 kB\u001b[0m \u001b[31m34.7 MB/s\u001b[0m eta \u001b[36m0:00:00\u001b[0m\n",
            "\u001b[?25hRequirement already satisfied: numpy>=1.17 in /usr/local/lib/python3.10/dist-packages (from transformers) (1.23.5)\n",
            "Requirement already satisfied: packaging>=20.0 in /usr/local/lib/python3.10/dist-packages (from transformers) (23.1)\n",
            "Requirement already satisfied: pyyaml>=5.1 in /usr/local/lib/python3.10/dist-packages (from transformers) (6.0.1)\n",
            "Requirement already satisfied: regex!=2019.12.17 in /usr/local/lib/python3.10/dist-packages (from transformers) (2023.6.3)\n",
            "Requirement already satisfied: requests in /usr/local/lib/python3.10/dist-packages (from transformers) (2.31.0)\n",
            "Collecting tokenizers!=0.11.3,<0.14,>=0.11.1 (from transformers)\n",
            "  Downloading tokenizers-0.13.3-cp310-cp310-manylinux_2_17_x86_64.manylinux2014_x86_64.whl (7.8 MB)\n",
            "\u001b[2K     \u001b[90m━━━━━━━━━━━━━━━━━━━━━━━━━━━━━━━━━━━━━━━━\u001b[0m \u001b[32m7.8/7.8 MB\u001b[0m \u001b[31m110.3 MB/s\u001b[0m eta \u001b[36m0:00:00\u001b[0m\n",
            "\u001b[?25hCollecting safetensors>=0.3.1 (from transformers)\n",
            "  Downloading safetensors-0.3.2-cp310-cp310-manylinux_2_17_x86_64.manylinux2014_x86_64.whl (1.3 MB)\n",
            "\u001b[2K     \u001b[90m━━━━━━━━━━━━━━━━━━━━━━━━━━━━━━━━━━━━━━━━\u001b[0m \u001b[32m1.3/1.3 MB\u001b[0m \u001b[31m87.0 MB/s\u001b[0m eta \u001b[36m0:00:00\u001b[0m\n",
            "\u001b[?25hRequirement already satisfied: tqdm>=4.27 in /usr/local/lib/python3.10/dist-packages (from transformers) (4.66.1)\n",
            "Requirement already satisfied: fsspec in /usr/local/lib/python3.10/dist-packages (from huggingface-hub<1.0,>=0.14.1->transformers) (2023.6.0)\n",
            "Requirement already satisfied: typing-extensions>=3.7.4.3 in /usr/local/lib/python3.10/dist-packages (from huggingface-hub<1.0,>=0.14.1->transformers) (4.7.1)\n",
            "Requirement already satisfied: charset-normalizer<4,>=2 in /usr/local/lib/python3.10/dist-packages (from requests->transformers) (3.2.0)\n",
            "Requirement already satisfied: idna<4,>=2.5 in /usr/local/lib/python3.10/dist-packages (from requests->transformers) (3.4)\n",
            "Requirement already satisfied: urllib3<3,>=1.21.1 in /usr/local/lib/python3.10/dist-packages (from requests->transformers) (2.0.4)\n",
            "Requirement already satisfied: certifi>=2017.4.17 in /usr/local/lib/python3.10/dist-packages (from requests->transformers) (2023.7.22)\n",
            "Installing collected packages: tokenizers, safetensors, huggingface-hub, transformers\n",
            "Successfully installed huggingface-hub-0.16.4 safetensors-0.3.2 tokenizers-0.13.3 transformers-4.31.0\n",
            "Requirement already satisfied: torch in /usr/local/lib/python3.10/dist-packages (2.0.1+cu118)\n",
            "Requirement already satisfied: filelock in /usr/local/lib/python3.10/dist-packages (from torch) (3.12.2)\n",
            "Requirement already satisfied: typing-extensions in /usr/local/lib/python3.10/dist-packages (from torch) (4.7.1)\n",
            "Requirement already satisfied: sympy in /usr/local/lib/python3.10/dist-packages (from torch) (1.12)\n",
            "Requirement already satisfied: networkx in /usr/local/lib/python3.10/dist-packages (from torch) (3.1)\n",
            "Requirement already satisfied: jinja2 in /usr/local/lib/python3.10/dist-packages (from torch) (3.1.2)\n",
            "Requirement already satisfied: triton==2.0.0 in /usr/local/lib/python3.10/dist-packages (from torch) (2.0.0)\n",
            "Requirement already satisfied: cmake in /usr/local/lib/python3.10/dist-packages (from triton==2.0.0->torch) (3.27.2)\n",
            "Requirement already satisfied: lit in /usr/local/lib/python3.10/dist-packages (from triton==2.0.0->torch) (16.0.6)\n",
            "Requirement already satisfied: MarkupSafe>=2.0 in /usr/local/lib/python3.10/dist-packages (from jinja2->torch) (2.1.3)\n",
            "Requirement already satisfied: mpmath>=0.19 in /usr/local/lib/python3.10/dist-packages (from sympy->torch) (1.3.0)\n"
          ]
        }
      ]
    },
    {
      "cell_type": "code",
      "source": [
        "import torch\n",
        "from torch import nn\n",
        "import torch.nn.functional as F\n",
        "import torch.optim as optim\n",
        "from torch.utils.data import Dataset, DataLoader\n",
        "import gluonnlp as nlp\n",
        "import numpy as np\n",
        "from tqdm import tqdm\n",
        "from tqdm import notebook\n",
        "from sklearn.model_selection import train_test_split\n",
        "import re\n",
        "import string\n",
        "import pandas as pd"
      ],
      "metadata": {
        "colab": {
          "base_uri": "https://localhost:8080/"
        },
        "id": "gZZHHGD3-Swz",
        "outputId": "6220c979-95ce-4777-a173-edc169ad4c99"
      },
      "execution_count": 5,
      "outputs": [
        {
          "output_type": "stream",
          "name": "stderr",
          "text": [
            "/usr/local/lib/python3.10/dist-packages/mxnet/optimizer/optimizer.py:163: UserWarning: WARNING: New optimizer gluonnlp.optimizer.lamb.LAMB is overriding existing optimizer mxnet.optimizer.optimizer.LAMB\n",
            "  warnings.warn('WARNING: New optimizer %s.%s is overriding '\n"
          ]
        }
      ]
    },
    {
      "cell_type": "code",
      "source": [
        "## GPU\n",
        "device = torch.device(\"cuda:0\")"
      ],
      "metadata": {
        "id": "ZEhenseG-hdk"
      },
      "execution_count": 6,
      "outputs": []
    },
    {
      "cell_type": "code",
      "source": [
        "#Hugging Face를 통한 모델 및 토크나이저 Import\n",
        "from transformers import BertModel\n",
        "from transformers import AdamW\n",
        "from transformers.optimization import get_cosine_schedule_with_warmup\n",
        "from kobert_tokenizer import KoBERTTokenizer"
      ],
      "metadata": {
        "id": "qazR1x5u-4uB"
      },
      "execution_count": 7,
      "outputs": []
    },
    {
      "cell_type": "code",
      "source": [
        "tokenizer = KoBERTTokenizer.from_pretrained('skt/kobert-base-v1')\n",
        "bertmodel = BertModel.from_pretrained('skt/kobert-base-v1', return_dict=False)\n",
        "vocab = nlp.vocab.BERTVocab.from_sentencepiece(tokenizer.vocab_file, padding_token='[PAD]')"
      ],
      "metadata": {
        "colab": {
          "base_uri": "https://localhost:8080/",
          "height": 233,
          "referenced_widgets": [
            "967c2ca343814c35b486b21ce8d01473",
            "3e808503582a4f1cba4f06b586ea7020",
            "be38b9baabf74e6a99c1f9429e0a04aa",
            "4b0d22f15037462a86ceafa218e0b60b",
            "7c3ac610dab84da08e377a60dd98ed91",
            "530632d20b9743b6bd0f36111e349ef8",
            "4b4987fcfbe14e35b596e9b096f13a03",
            "467219cae5924fa9a7cadfecda6beb80",
            "1d479b0018134973b3811bdee4c196e6",
            "5d8c637c722a4170a119f80b253b5919",
            "0b01c62a241a4beaac479a8b64f73f39",
            "bdd42ba1376240e4a1644cb344a371ce",
            "0612141825d342e788dbc2118d4ea2b8",
            "9bef33c189424c6ea3b23f4c6e794a51",
            "9ab0ea0ec69346a1b677c46c7078ab4a",
            "b66caf434847496fb71f3edcc299c759",
            "2bb99022ce8f466dbac205ba9019dc73",
            "263af45c5e4f49b6a1b74b5afb464138",
            "dfb796c615fb45d783b042806781d170",
            "3ccd8b2db7be4ddf8fe20731d27d315b",
            "195343aebccc4df3bf77cc7fcfb3c728",
            "5be97a3058fd490a9f59a2511eca440f",
            "e05ef630262147c887fa3ce9a9164f00",
            "02fd564b0cc5478a8c24f654a8978a34",
            "10dae7bbc12c45a7b7cdc5afebd77a51",
            "656033c9189540fa84233707d0c9bdda",
            "0a66b227691c4fad82cee67c400ad3e4",
            "762d6aefde9d445ab108ed6f84bdf637",
            "b21218b426cc4e24814120fe686e1ea9",
            "bc400fc411d742a3a23ba46832b9057b",
            "c64f3958ff204011ab7ff73109e49be9",
            "40604dc0396942e089a1192d964ba904",
            "4a5e4f88d2a643b5b28a85adde4648b7",
            "4ac442d89575451bb51d75d4aa17fc10",
            "a6ba73b9fe7343568d49a483b429f058",
            "b018f1b82b3b46fab9a7a54c1db31126",
            "f79a078f5b3346f29de18137ebd0b40e",
            "155a9bd76d514f92bc3ef402e12e3f4a",
            "16cf66e5f2514f62a82539cc99a7d762",
            "f29b1d7ff5234096b6a170a845ce7273",
            "c901fc9923dd4d7f8e92794e8de2c470",
            "24b4d9bf367e4832b57c5c595a82c11e",
            "cd88bcb264c94bb2b05812e7c6abac0a",
            "28dea8111336475b8e23d38fba9b42ef",
            "9ff68d59006d46ca9e79049f5c310b56",
            "0b38211ce9d243af9659ed053ca40c00",
            "9ad1252143f14afea53ef947219251d8",
            "33ed674544a24656bde5862f81f4466e",
            "925e86aa14c14a0f825cbf4807dfceb6",
            "f9fda7617888404098db78f3f9313903",
            "09954d25b4644b2d9f09b7dbfedc7164",
            "f4005ab03a0a46909ffdfaa2e7bc7c5d",
            "895008e173e447a18dd34b54ab194d67",
            "4bfe896e098a4d7fb1dd00280e41e492",
            "c37308fc60404f8ca8e3410df4349376"
          ]
        },
        "id": "NDS0E1Ro_Tlp",
        "outputId": "86e11e4e-1163-4444-dd25-b3306cca361e"
      },
      "execution_count": 8,
      "outputs": [
        {
          "output_type": "display_data",
          "data": {
            "text/plain": [
              "Downloading (…)ve/main/spiece.model:   0%|          | 0.00/371k [00:00<?, ?B/s]"
            ],
            "application/vnd.jupyter.widget-view+json": {
              "version_major": 2,
              "version_minor": 0,
              "model_id": "967c2ca343814c35b486b21ce8d01473"
            }
          },
          "metadata": {}
        },
        {
          "output_type": "display_data",
          "data": {
            "text/plain": [
              "Downloading (…)cial_tokens_map.json:   0%|          | 0.00/244 [00:00<?, ?B/s]"
            ],
            "application/vnd.jupyter.widget-view+json": {
              "version_major": 2,
              "version_minor": 0,
              "model_id": "bdd42ba1376240e4a1644cb344a371ce"
            }
          },
          "metadata": {}
        },
        {
          "output_type": "display_data",
          "data": {
            "text/plain": [
              "Downloading (…)okenizer_config.json:   0%|          | 0.00/432 [00:00<?, ?B/s]"
            ],
            "application/vnd.jupyter.widget-view+json": {
              "version_major": 2,
              "version_minor": 0,
              "model_id": "e05ef630262147c887fa3ce9a9164f00"
            }
          },
          "metadata": {}
        },
        {
          "output_type": "stream",
          "name": "stderr",
          "text": [
            "The tokenizer class you load from this checkpoint is not the same type as the class this function is called from. It may result in unexpected tokenization. \n",
            "The tokenizer class you load from this checkpoint is 'XLNetTokenizer'. \n",
            "The class this function is called from is 'KoBERTTokenizer'.\n"
          ]
        },
        {
          "output_type": "display_data",
          "data": {
            "text/plain": [
              "Downloading (…)lve/main/config.json:   0%|          | 0.00/535 [00:00<?, ?B/s]"
            ],
            "application/vnd.jupyter.widget-view+json": {
              "version_major": 2,
              "version_minor": 0,
              "model_id": "4ac442d89575451bb51d75d4aa17fc10"
            }
          },
          "metadata": {}
        },
        {
          "output_type": "display_data",
          "data": {
            "text/plain": [
              "Downloading pytorch_model.bin:   0%|          | 0.00/369M [00:00<?, ?B/s]"
            ],
            "application/vnd.jupyter.widget-view+json": {
              "version_major": 2,
              "version_minor": 0,
              "model_id": "9ff68d59006d46ca9e79049f5c310b56"
            }
          },
          "metadata": {}
        }
      ]
    },
    {
      "cell_type": "markdown",
      "source": [
        "# 데이터 준비"
      ],
      "metadata": {
        "id": "8WtPfaijTWTA"
      }
    },
    {
      "cell_type": "code",
      "execution_count": 78,
      "metadata": {
        "id": "5daesSK7uN6e",
        "colab": {
          "base_uri": "https://localhost:8080/"
        },
        "outputId": "21116614-ad30-4aeb-d316-48c9c88e90c7"
      },
      "outputs": [
        {
          "output_type": "stream",
          "name": "stdout",
          "text": [
            "Drive already mounted at /content/drive; to attempt to forcibly remount, call drive.mount(\"/content/drive\", force_remount=True).\n"
          ]
        }
      ],
      "source": [
        "from google.colab import drive\n",
        "drive.mount('/content/drive')"
      ]
    },
    {
      "cell_type": "code",
      "execution_count": 79,
      "metadata": {
        "id": "ZoMM9jtPywVv"
      },
      "outputs": [],
      "source": [
        "one = pd.read_csv('/content/drive/MyDrive/대구 빅데이터/data/학습용_데이터/생활0.csv')\n",
        "two = pd.read_csv('/content/drive/MyDrive/대구 빅데이터/data/학습용_데이터/IT_전자1.csv')\n",
        "three = pd.read_csv('/content/drive/MyDrive/대구 빅데이터/data/학습용_데이터/의류_패션잡화2.csv')\n",
        "four = pd.read_csv('/content/drive/MyDrive/대구 빅데이터/data/학습용_데이터/음식3.csv')\n",
        "five = pd.read_csv('/content/drive/MyDrive/대구 빅데이터/data/학습용_데이터/문화4.csv')\n",
        "six = pd.read_csv('/content/drive/MyDrive/대구 빅데이터/data/학습용_데이터/교육5.csv')\n",
        "\n",
        "df = [one, two, three, four, five, six]\n",
        "df = pd.concat(df, ignore_index=True)"
      ]
    },
    {
      "cell_type": "code",
      "execution_count": 80,
      "metadata": {
        "colab": {
          "base_uri": "https://localhost:8080/",
          "height": 0
        },
        "id": "iR03oGT5A0wQ",
        "outputId": "f9baac58-5b44-455d-d314-eafd2a1f2175"
      },
      "outputs": [
        {
          "output_type": "execute_result",
          "data": {
            "text/plain": [
              "  company                                                url  \\\n",
              "0     머니S  https://n.news.naver.com/mnews/article/417/000...   \n",
              "1     뉴시스  https://n.news.naver.com/mnews/article/003/001...   \n",
              "2   스포츠서울  https://n.news.naver.com/mnews/article/468/000...   \n",
              "3    한국경제  https://n.news.naver.com/mnews/article/015/000...   \n",
              "4    동아일보  https://n.news.naver.com/mnews/article/020/000...   \n",
              "\n",
              "                                        title  \\\n",
              "0  '중국 앓이' 대기업 울고 '실속 챙긴' 중소기업 웃고… 희비 갈린 K-뷰티   \n",
              "1      '최대 66% 할인' 명품페스타…루트에너지 '태양광 펀드'[중기소식]   \n",
              "2             성남산업진흥원, 남다른상점 ‘성료’... 11월 또 개장   \n",
              "3            지금은 우리가 사모펀드처럼 투자할 때[김태엽의 PEF썰전]   \n",
              "4            “살려 달라”…대낮 서울 신림동 공원서 여성 때리고 성폭행   \n",
              "\n",
              "                                             content  label  \n",
              "0   [머니S리포트 - 판 커지는 K-뷰티(1)] ①'입소문' 난 중소 브랜드, K-뷰...      0  \n",
              "1   [서울=뉴시스] 대명아임레디 '명품 기획전'. (이미지=대명스테이션 제공) 202...      0  \n",
              "2   중소기업 유망브랜드 마켓 ‘남다른상점’. 제공=성남산업진흥원〔스포츠서울│성남=좌승...      0  \n",
              "3   [한경 CFO Insight]김태엽 어펄마캐피탈 한국대표 taeyub.kim@af...      0  \n",
              "4   서울 관악구 신림동의 도심 공원에서 여성을 무차별적으로 폭행한 후 성폭행까지 한 ...      0  "
            ],
            "text/html": [
              "\n",
              "  <div id=\"df-81aefd41-e976-495f-ad80-aff7e5aed051\" class=\"colab-df-container\">\n",
              "    <div>\n",
              "<style scoped>\n",
              "    .dataframe tbody tr th:only-of-type {\n",
              "        vertical-align: middle;\n",
              "    }\n",
              "\n",
              "    .dataframe tbody tr th {\n",
              "        vertical-align: top;\n",
              "    }\n",
              "\n",
              "    .dataframe thead th {\n",
              "        text-align: right;\n",
              "    }\n",
              "</style>\n",
              "<table border=\"1\" class=\"dataframe\">\n",
              "  <thead>\n",
              "    <tr style=\"text-align: right;\">\n",
              "      <th></th>\n",
              "      <th>company</th>\n",
              "      <th>url</th>\n",
              "      <th>title</th>\n",
              "      <th>content</th>\n",
              "      <th>label</th>\n",
              "    </tr>\n",
              "  </thead>\n",
              "  <tbody>\n",
              "    <tr>\n",
              "      <th>0</th>\n",
              "      <td>머니S</td>\n",
              "      <td>https://n.news.naver.com/mnews/article/417/000...</td>\n",
              "      <td>'중국 앓이' 대기업 울고 '실속 챙긴' 중소기업 웃고… 희비 갈린 K-뷰티</td>\n",
              "      <td>[머니S리포트 - 판 커지는 K-뷰티(1)] ①'입소문' 난 중소 브랜드, K-뷰...</td>\n",
              "      <td>0</td>\n",
              "    </tr>\n",
              "    <tr>\n",
              "      <th>1</th>\n",
              "      <td>뉴시스</td>\n",
              "      <td>https://n.news.naver.com/mnews/article/003/001...</td>\n",
              "      <td>'최대 66% 할인' 명품페스타…루트에너지 '태양광 펀드'[중기소식]</td>\n",
              "      <td>[서울=뉴시스] 대명아임레디 '명품 기획전'. (이미지=대명스테이션 제공) 202...</td>\n",
              "      <td>0</td>\n",
              "    </tr>\n",
              "    <tr>\n",
              "      <th>2</th>\n",
              "      <td>스포츠서울</td>\n",
              "      <td>https://n.news.naver.com/mnews/article/468/000...</td>\n",
              "      <td>성남산업진흥원, 남다른상점 ‘성료’... 11월 또 개장</td>\n",
              "      <td>중소기업 유망브랜드 마켓 ‘남다른상점’. 제공=성남산업진흥원〔스포츠서울│성남=좌승...</td>\n",
              "      <td>0</td>\n",
              "    </tr>\n",
              "    <tr>\n",
              "      <th>3</th>\n",
              "      <td>한국경제</td>\n",
              "      <td>https://n.news.naver.com/mnews/article/015/000...</td>\n",
              "      <td>지금은 우리가 사모펀드처럼 투자할 때[김태엽의 PEF썰전]</td>\n",
              "      <td>[한경 CFO Insight]김태엽 어펄마캐피탈 한국대표 taeyub.kim@af...</td>\n",
              "      <td>0</td>\n",
              "    </tr>\n",
              "    <tr>\n",
              "      <th>4</th>\n",
              "      <td>동아일보</td>\n",
              "      <td>https://n.news.naver.com/mnews/article/020/000...</td>\n",
              "      <td>“살려 달라”…대낮 서울 신림동 공원서 여성 때리고 성폭행</td>\n",
              "      <td>서울 관악구 신림동의 도심 공원에서 여성을 무차별적으로 폭행한 후 성폭행까지 한 ...</td>\n",
              "      <td>0</td>\n",
              "    </tr>\n",
              "  </tbody>\n",
              "</table>\n",
              "</div>\n",
              "    <div class=\"colab-df-buttons\">\n",
              "\n",
              "  <div class=\"colab-df-container\">\n",
              "    <button class=\"colab-df-convert\" onclick=\"convertToInteractive('df-81aefd41-e976-495f-ad80-aff7e5aed051')\"\n",
              "            title=\"Convert this dataframe to an interactive table.\"\n",
              "            style=\"display:none;\">\n",
              "\n",
              "  <svg xmlns=\"http://www.w3.org/2000/svg\" height=\"24px\" viewBox=\"0 -960 960 960\">\n",
              "    <path d=\"M120-120v-720h720v720H120Zm60-500h600v-160H180v160Zm220 220h160v-160H400v160Zm0 220h160v-160H400v160ZM180-400h160v-160H180v160Zm440 0h160v-160H620v160ZM180-180h160v-160H180v160Zm440 0h160v-160H620v160Z\"/>\n",
              "  </svg>\n",
              "    </button>\n",
              "\n",
              "  <style>\n",
              "    .colab-df-container {\n",
              "      display:flex;\n",
              "      gap: 12px;\n",
              "    }\n",
              "\n",
              "    .colab-df-convert {\n",
              "      background-color: #E8F0FE;\n",
              "      border: none;\n",
              "      border-radius: 50%;\n",
              "      cursor: pointer;\n",
              "      display: none;\n",
              "      fill: #1967D2;\n",
              "      height: 32px;\n",
              "      padding: 0 0 0 0;\n",
              "      width: 32px;\n",
              "    }\n",
              "\n",
              "    .colab-df-convert:hover {\n",
              "      background-color: #E2EBFA;\n",
              "      box-shadow: 0px 1px 2px rgba(60, 64, 67, 0.3), 0px 1px 3px 1px rgba(60, 64, 67, 0.15);\n",
              "      fill: #174EA6;\n",
              "    }\n",
              "\n",
              "    .colab-df-buttons div {\n",
              "      margin-bottom: 4px;\n",
              "    }\n",
              "\n",
              "    [theme=dark] .colab-df-convert {\n",
              "      background-color: #3B4455;\n",
              "      fill: #D2E3FC;\n",
              "    }\n",
              "\n",
              "    [theme=dark] .colab-df-convert:hover {\n",
              "      background-color: #434B5C;\n",
              "      box-shadow: 0px 1px 3px 1px rgba(0, 0, 0, 0.15);\n",
              "      filter: drop-shadow(0px 1px 2px rgba(0, 0, 0, 0.3));\n",
              "      fill: #FFFFFF;\n",
              "    }\n",
              "  </style>\n",
              "\n",
              "    <script>\n",
              "      const buttonEl =\n",
              "        document.querySelector('#df-81aefd41-e976-495f-ad80-aff7e5aed051 button.colab-df-convert');\n",
              "      buttonEl.style.display =\n",
              "        google.colab.kernel.accessAllowed ? 'block' : 'none';\n",
              "\n",
              "      async function convertToInteractive(key) {\n",
              "        const element = document.querySelector('#df-81aefd41-e976-495f-ad80-aff7e5aed051');\n",
              "        const dataTable =\n",
              "          await google.colab.kernel.invokeFunction('convertToInteractive',\n",
              "                                                    [key], {});\n",
              "        if (!dataTable) return;\n",
              "\n",
              "        const docLinkHtml = 'Like what you see? Visit the ' +\n",
              "          '<a target=\"_blank\" href=https://colab.research.google.com/notebooks/data_table.ipynb>data table notebook</a>'\n",
              "          + ' to learn more about interactive tables.';\n",
              "        element.innerHTML = '';\n",
              "        dataTable['output_type'] = 'display_data';\n",
              "        await google.colab.output.renderOutput(dataTable, element);\n",
              "        const docLink = document.createElement('div');\n",
              "        docLink.innerHTML = docLinkHtml;\n",
              "        element.appendChild(docLink);\n",
              "      }\n",
              "    </script>\n",
              "  </div>\n",
              "\n",
              "\n",
              "<div id=\"df-4c7ebc63-855b-4a1d-b1ff-60888c68a0b0\">\n",
              "  <button class=\"colab-df-quickchart\" onclick=\"quickchart('df-4c7ebc63-855b-4a1d-b1ff-60888c68a0b0')\"\n",
              "            title=\"Suggest charts.\"\n",
              "            style=\"display:none;\">\n",
              "\n",
              "<svg xmlns=\"http://www.w3.org/2000/svg\" height=\"24px\"viewBox=\"0 0 24 24\"\n",
              "     width=\"24px\">\n",
              "    <g>\n",
              "        <path d=\"M19 3H5c-1.1 0-2 .9-2 2v14c0 1.1.9 2 2 2h14c1.1 0 2-.9 2-2V5c0-1.1-.9-2-2-2zM9 17H7v-7h2v7zm4 0h-2V7h2v10zm4 0h-2v-4h2v4z\"/>\n",
              "    </g>\n",
              "</svg>\n",
              "  </button>\n",
              "\n",
              "<style>\n",
              "  .colab-df-quickchart {\n",
              "    background-color: #E8F0FE;\n",
              "    border: none;\n",
              "    border-radius: 50%;\n",
              "    cursor: pointer;\n",
              "    display: none;\n",
              "    fill: #1967D2;\n",
              "    height: 32px;\n",
              "    padding: 0 0 0 0;\n",
              "    width: 32px;\n",
              "  }\n",
              "\n",
              "  .colab-df-quickchart:hover {\n",
              "    background-color: #E2EBFA;\n",
              "    box-shadow: 0px 1px 2px rgba(60, 64, 67, 0.3), 0px 1px 3px 1px rgba(60, 64, 67, 0.15);\n",
              "    fill: #174EA6;\n",
              "  }\n",
              "\n",
              "  [theme=dark] .colab-df-quickchart {\n",
              "    background-color: #3B4455;\n",
              "    fill: #D2E3FC;\n",
              "  }\n",
              "\n",
              "  [theme=dark] .colab-df-quickchart:hover {\n",
              "    background-color: #434B5C;\n",
              "    box-shadow: 0px 1px 3px 1px rgba(0, 0, 0, 0.15);\n",
              "    filter: drop-shadow(0px 1px 2px rgba(0, 0, 0, 0.3));\n",
              "    fill: #FFFFFF;\n",
              "  }\n",
              "</style>\n",
              "\n",
              "  <script>\n",
              "    async function quickchart(key) {\n",
              "      const charts = await google.colab.kernel.invokeFunction(\n",
              "          'suggestCharts', [key], {});\n",
              "    }\n",
              "    (() => {\n",
              "      let quickchartButtonEl =\n",
              "        document.querySelector('#df-4c7ebc63-855b-4a1d-b1ff-60888c68a0b0 button');\n",
              "      quickchartButtonEl.style.display =\n",
              "        google.colab.kernel.accessAllowed ? 'block' : 'none';\n",
              "    })();\n",
              "  </script>\n",
              "</div>\n",
              "    </div>\n",
              "  </div>\n"
            ]
          },
          "metadata": {},
          "execution_count": 80
        }
      ],
      "source": [
        "df.head()"
      ]
    },
    {
      "cell_type": "markdown",
      "source": [
        "# 텍스트 데이터 전처리"
      ],
      "metadata": {
        "id": "ixlvHHP6UbIG"
      }
    },
    {
      "cell_type": "code",
      "execution_count": 16,
      "metadata": {
        "id": "Oyui9spv_XDI"
      },
      "outputs": [],
      "source": [
        "#불용어 처리\n",
        "\n",
        "#불용어 사전 구축 후 사용\n",
        "with open('/content/drive/MyDrive/대구 빅데이터/data/korean_stopwords.txt','r',encoding='utf-8-sig') as f:\n",
        "    stopwords_list=[]\n",
        "    example =f.readlines()\n",
        "    for line in example:\n",
        "        stopwords_list.append(line.strip())\n",
        "\n",
        "#추가하고 싶은 불용어가 있다면 다음과 같이 넣어서 사용\n",
        "korean_stopwords='단독 기자 속보 사진'\n",
        "stop_words = korean_stopwords.split(' ')\n",
        "\n",
        "#불용어 사전 정의\n",
        "stop = stop_words+stopwords_list"
      ]
    },
    {
      "cell_type": "code",
      "source": [
        "#중복 기사 제거\n",
        "\n",
        "print(f'중복 제거 전 train length: {len(df)}')\n",
        "df.drop_duplicates(subset=['content'], inplace = True, ignore_index = True)\n",
        "print(f'중복 제거 후 train length: {len(df)}\\n')"
      ],
      "metadata": {
        "colab": {
          "base_uri": "https://localhost:8080/"
        },
        "id": "z7hrtFStbpOs",
        "outputId": "4dbf06c6-cbb8-4bff-dcdd-d19c257b49f6"
      },
      "execution_count": 81,
      "outputs": [
        {
          "output_type": "stream",
          "name": "stdout",
          "text": [
            "중복 제거 전 train length: 2906\n",
            "중복 제거 후 train length: 2890\n",
            "\n"
          ]
        }
      ]
    },
    {
      "cell_type": "code",
      "execution_count": 82,
      "metadata": {
        "id": "xfgzib0tzIfM"
      },
      "outputs": [],
      "source": [
        "#전처리를 위한 함수\n",
        "\n",
        "def text_preproccessing(df):\n",
        "\n",
        "    df = df.copy()\n",
        "\n",
        "\n",
        "    # HTML tag 제거\n",
        "    def remove_html(text):\n",
        "        html=re.compile(r'<.*?>')\n",
        "        return html.sub(r'',text)\n",
        "\n",
        "\n",
        "    # 구두점 제거\n",
        "    def remove_punct(text):\n",
        "        table=str.maketrans('','',string.punctuation)\n",
        "        return text.translate(table)\n",
        "\n",
        "\n",
        "    # 불용어 제거\n",
        "    def remove_stopwords(text):\n",
        "        return ' '.join([i for i in text.split() if i not in stop])\n",
        "\n",
        "\n",
        "    # 특수문자,영어,숫자 제거(한글과 공백문자 제외)\n",
        "    def remove_nokorean(text):\n",
        "        korean = re.sub('[^가-힣\\s]', '', text)\n",
        "        return korean\n",
        "\n",
        "\n",
        "    # 2개 이상의 연속된 공백을 하나의 공백으로 대체\n",
        "    def replace_space(text):\n",
        "        space = re.sub(' {2,}', ' ', text)\n",
        "        return space\n",
        "\n",
        "\n",
        "    # 줄바꿈 문자를 하나의 공백으로 대체\n",
        "    def replace_enter(text):\n",
        "        replaced_text = re.sub('\\n', ' ', text)\n",
        "        return replaced_text\n",
        "\n",
        "\n",
        "    df['content']=df['content'].apply(lambda x : remove_html(x))\n",
        "    df['content']=df['content'].apply(lambda x : remove_punct(x))\n",
        "    df['content']=df['content'].apply(lambda x : remove_stopwords(x))\n",
        "    df['content']=df['content'].apply(lambda x : remove_nokorean(x))\n",
        "    df['content']=df['content'].apply(lambda x : replace_space(x))\n",
        "    df['content']=df['content'].apply(lambda x : replace_enter(x))\n",
        "\n",
        "\n",
        "    return df"
      ]
    },
    {
      "cell_type": "code",
      "execution_count": 83,
      "metadata": {
        "id": "uT2lLjQe_w8W"
      },
      "outputs": [],
      "source": [
        "df = text_preproccessing(df)"
      ]
    },
    {
      "cell_type": "code",
      "source": [
        "df.head()"
      ],
      "metadata": {
        "colab": {
          "base_uri": "https://localhost:8080/",
          "height": 380
        },
        "id": "Ef3go4jIW_hl",
        "outputId": "d3ab10a2-da73-4272-9132-f13d1432141b"
      },
      "execution_count": 84,
      "outputs": [
        {
          "output_type": "execute_result",
          "data": {
            "text/plain": [
              "  company                                                url  \\\n",
              "0     머니S  https://n.news.naver.com/mnews/article/417/000...   \n",
              "1     뉴시스  https://n.news.naver.com/mnews/article/003/001...   \n",
              "2   스포츠서울  https://n.news.naver.com/mnews/article/468/000...   \n",
              "3    한국경제  https://n.news.naver.com/mnews/article/015/000...   \n",
              "4    동아일보  https://n.news.naver.com/mnews/article/020/000...   \n",
              "\n",
              "                                        title  \\\n",
              "0  '중국 앓이' 대기업 울고 '실속 챙긴' 중소기업 웃고… 희비 갈린 K-뷰티   \n",
              "1      '최대 66% 할인' 명품페스타…루트에너지 '태양광 펀드'[중기소식]   \n",
              "2             성남산업진흥원, 남다른상점 ‘성료’... 11월 또 개장   \n",
              "3            지금은 우리가 사모펀드처럼 투자할 때[김태엽의 PEF썰전]   \n",
              "4            “살려 달라”…대낮 서울 신림동 공원서 여성 때리고 성폭행   \n",
              "\n",
              "                                             content  label  \n",
              "0  머니리포트 판 커지는 뷰티 입소문 난 중소 브랜드 뷰티 아쉬움 채워편집자주아모레퍼시...      0  \n",
              "1  서울뉴시스 대명아임레디 명품 기획전 이미지대명스테이션 제공 서울뉴시스 배민욱 일 중...      0  \n",
              "2  중소기업 유망브랜드 마켓 남다른상점 제공성남산업진흥원스포츠서울성남좌승훈기자성남산업진...      0  \n",
              "3  한경 김태엽 어펄마캐피탈 한국대표 이 기사는 월 일 마켓인사이트에 게재된 기사입니다...      0  \n",
              "4  서울 관악구 신림동의 도심 공원에서 여성을 무차별적으로 폭행한 후 성폭행까지 남성이...      0  "
            ],
            "text/html": [
              "\n",
              "  <div id=\"df-a8c76d53-9ac9-406b-a6d6-032326f8f2a9\" class=\"colab-df-container\">\n",
              "    <div>\n",
              "<style scoped>\n",
              "    .dataframe tbody tr th:only-of-type {\n",
              "        vertical-align: middle;\n",
              "    }\n",
              "\n",
              "    .dataframe tbody tr th {\n",
              "        vertical-align: top;\n",
              "    }\n",
              "\n",
              "    .dataframe thead th {\n",
              "        text-align: right;\n",
              "    }\n",
              "</style>\n",
              "<table border=\"1\" class=\"dataframe\">\n",
              "  <thead>\n",
              "    <tr style=\"text-align: right;\">\n",
              "      <th></th>\n",
              "      <th>company</th>\n",
              "      <th>url</th>\n",
              "      <th>title</th>\n",
              "      <th>content</th>\n",
              "      <th>label</th>\n",
              "    </tr>\n",
              "  </thead>\n",
              "  <tbody>\n",
              "    <tr>\n",
              "      <th>0</th>\n",
              "      <td>머니S</td>\n",
              "      <td>https://n.news.naver.com/mnews/article/417/000...</td>\n",
              "      <td>'중국 앓이' 대기업 울고 '실속 챙긴' 중소기업 웃고… 희비 갈린 K-뷰티</td>\n",
              "      <td>머니리포트 판 커지는 뷰티 입소문 난 중소 브랜드 뷰티 아쉬움 채워편집자주아모레퍼시...</td>\n",
              "      <td>0</td>\n",
              "    </tr>\n",
              "    <tr>\n",
              "      <th>1</th>\n",
              "      <td>뉴시스</td>\n",
              "      <td>https://n.news.naver.com/mnews/article/003/001...</td>\n",
              "      <td>'최대 66% 할인' 명품페스타…루트에너지 '태양광 펀드'[중기소식]</td>\n",
              "      <td>서울뉴시스 대명아임레디 명품 기획전 이미지대명스테이션 제공 서울뉴시스 배민욱 일 중...</td>\n",
              "      <td>0</td>\n",
              "    </tr>\n",
              "    <tr>\n",
              "      <th>2</th>\n",
              "      <td>스포츠서울</td>\n",
              "      <td>https://n.news.naver.com/mnews/article/468/000...</td>\n",
              "      <td>성남산업진흥원, 남다른상점 ‘성료’... 11월 또 개장</td>\n",
              "      <td>중소기업 유망브랜드 마켓 남다른상점 제공성남산업진흥원스포츠서울성남좌승훈기자성남산업진...</td>\n",
              "      <td>0</td>\n",
              "    </tr>\n",
              "    <tr>\n",
              "      <th>3</th>\n",
              "      <td>한국경제</td>\n",
              "      <td>https://n.news.naver.com/mnews/article/015/000...</td>\n",
              "      <td>지금은 우리가 사모펀드처럼 투자할 때[김태엽의 PEF썰전]</td>\n",
              "      <td>한경 김태엽 어펄마캐피탈 한국대표 이 기사는 월 일 마켓인사이트에 게재된 기사입니다...</td>\n",
              "      <td>0</td>\n",
              "    </tr>\n",
              "    <tr>\n",
              "      <th>4</th>\n",
              "      <td>동아일보</td>\n",
              "      <td>https://n.news.naver.com/mnews/article/020/000...</td>\n",
              "      <td>“살려 달라”…대낮 서울 신림동 공원서 여성 때리고 성폭행</td>\n",
              "      <td>서울 관악구 신림동의 도심 공원에서 여성을 무차별적으로 폭행한 후 성폭행까지 남성이...</td>\n",
              "      <td>0</td>\n",
              "    </tr>\n",
              "  </tbody>\n",
              "</table>\n",
              "</div>\n",
              "    <div class=\"colab-df-buttons\">\n",
              "\n",
              "  <div class=\"colab-df-container\">\n",
              "    <button class=\"colab-df-convert\" onclick=\"convertToInteractive('df-a8c76d53-9ac9-406b-a6d6-032326f8f2a9')\"\n",
              "            title=\"Convert this dataframe to an interactive table.\"\n",
              "            style=\"display:none;\">\n",
              "\n",
              "  <svg xmlns=\"http://www.w3.org/2000/svg\" height=\"24px\" viewBox=\"0 -960 960 960\">\n",
              "    <path d=\"M120-120v-720h720v720H120Zm60-500h600v-160H180v160Zm220 220h160v-160H400v160Zm0 220h160v-160H400v160ZM180-400h160v-160H180v160Zm440 0h160v-160H620v160ZM180-180h160v-160H180v160Zm440 0h160v-160H620v160Z\"/>\n",
              "  </svg>\n",
              "    </button>\n",
              "\n",
              "  <style>\n",
              "    .colab-df-container {\n",
              "      display:flex;\n",
              "      gap: 12px;\n",
              "    }\n",
              "\n",
              "    .colab-df-convert {\n",
              "      background-color: #E8F0FE;\n",
              "      border: none;\n",
              "      border-radius: 50%;\n",
              "      cursor: pointer;\n",
              "      display: none;\n",
              "      fill: #1967D2;\n",
              "      height: 32px;\n",
              "      padding: 0 0 0 0;\n",
              "      width: 32px;\n",
              "    }\n",
              "\n",
              "    .colab-df-convert:hover {\n",
              "      background-color: #E2EBFA;\n",
              "      box-shadow: 0px 1px 2px rgba(60, 64, 67, 0.3), 0px 1px 3px 1px rgba(60, 64, 67, 0.15);\n",
              "      fill: #174EA6;\n",
              "    }\n",
              "\n",
              "    .colab-df-buttons div {\n",
              "      margin-bottom: 4px;\n",
              "    }\n",
              "\n",
              "    [theme=dark] .colab-df-convert {\n",
              "      background-color: #3B4455;\n",
              "      fill: #D2E3FC;\n",
              "    }\n",
              "\n",
              "    [theme=dark] .colab-df-convert:hover {\n",
              "      background-color: #434B5C;\n",
              "      box-shadow: 0px 1px 3px 1px rgba(0, 0, 0, 0.15);\n",
              "      filter: drop-shadow(0px 1px 2px rgba(0, 0, 0, 0.3));\n",
              "      fill: #FFFFFF;\n",
              "    }\n",
              "  </style>\n",
              "\n",
              "    <script>\n",
              "      const buttonEl =\n",
              "        document.querySelector('#df-a8c76d53-9ac9-406b-a6d6-032326f8f2a9 button.colab-df-convert');\n",
              "      buttonEl.style.display =\n",
              "        google.colab.kernel.accessAllowed ? 'block' : 'none';\n",
              "\n",
              "      async function convertToInteractive(key) {\n",
              "        const element = document.querySelector('#df-a8c76d53-9ac9-406b-a6d6-032326f8f2a9');\n",
              "        const dataTable =\n",
              "          await google.colab.kernel.invokeFunction('convertToInteractive',\n",
              "                                                    [key], {});\n",
              "        if (!dataTable) return;\n",
              "\n",
              "        const docLinkHtml = 'Like what you see? Visit the ' +\n",
              "          '<a target=\"_blank\" href=https://colab.research.google.com/notebooks/data_table.ipynb>data table notebook</a>'\n",
              "          + ' to learn more about interactive tables.';\n",
              "        element.innerHTML = '';\n",
              "        dataTable['output_type'] = 'display_data';\n",
              "        await google.colab.output.renderOutput(dataTable, element);\n",
              "        const docLink = document.createElement('div');\n",
              "        docLink.innerHTML = docLinkHtml;\n",
              "        element.appendChild(docLink);\n",
              "      }\n",
              "    </script>\n",
              "  </div>\n",
              "\n",
              "\n",
              "<div id=\"df-68bcc59d-150f-49fa-9c22-4acdccc863b0\">\n",
              "  <button class=\"colab-df-quickchart\" onclick=\"quickchart('df-68bcc59d-150f-49fa-9c22-4acdccc863b0')\"\n",
              "            title=\"Suggest charts.\"\n",
              "            style=\"display:none;\">\n",
              "\n",
              "<svg xmlns=\"http://www.w3.org/2000/svg\" height=\"24px\"viewBox=\"0 0 24 24\"\n",
              "     width=\"24px\">\n",
              "    <g>\n",
              "        <path d=\"M19 3H5c-1.1 0-2 .9-2 2v14c0 1.1.9 2 2 2h14c1.1 0 2-.9 2-2V5c0-1.1-.9-2-2-2zM9 17H7v-7h2v7zm4 0h-2V7h2v10zm4 0h-2v-4h2v4z\"/>\n",
              "    </g>\n",
              "</svg>\n",
              "  </button>\n",
              "\n",
              "<style>\n",
              "  .colab-df-quickchart {\n",
              "    background-color: #E8F0FE;\n",
              "    border: none;\n",
              "    border-radius: 50%;\n",
              "    cursor: pointer;\n",
              "    display: none;\n",
              "    fill: #1967D2;\n",
              "    height: 32px;\n",
              "    padding: 0 0 0 0;\n",
              "    width: 32px;\n",
              "  }\n",
              "\n",
              "  .colab-df-quickchart:hover {\n",
              "    background-color: #E2EBFA;\n",
              "    box-shadow: 0px 1px 2px rgba(60, 64, 67, 0.3), 0px 1px 3px 1px rgba(60, 64, 67, 0.15);\n",
              "    fill: #174EA6;\n",
              "  }\n",
              "\n",
              "  [theme=dark] .colab-df-quickchart {\n",
              "    background-color: #3B4455;\n",
              "    fill: #D2E3FC;\n",
              "  }\n",
              "\n",
              "  [theme=dark] .colab-df-quickchart:hover {\n",
              "    background-color: #434B5C;\n",
              "    box-shadow: 0px 1px 3px 1px rgba(0, 0, 0, 0.15);\n",
              "    filter: drop-shadow(0px 1px 2px rgba(0, 0, 0, 0.3));\n",
              "    fill: #FFFFFF;\n",
              "  }\n",
              "</style>\n",
              "\n",
              "  <script>\n",
              "    async function quickchart(key) {\n",
              "      const charts = await google.colab.kernel.invokeFunction(\n",
              "          'suggestCharts', [key], {});\n",
              "    }\n",
              "    (() => {\n",
              "      let quickchartButtonEl =\n",
              "        document.querySelector('#df-68bcc59d-150f-49fa-9c22-4acdccc863b0 button');\n",
              "      quickchartButtonEl.style.display =\n",
              "        google.colab.kernel.accessAllowed ? 'block' : 'none';\n",
              "    })();\n",
              "  </script>\n",
              "</div>\n",
              "    </div>\n",
              "  </div>\n"
            ]
          },
          "metadata": {},
          "execution_count": 84
        }
      ]
    },
    {
      "cell_type": "code",
      "execution_count": 24,
      "metadata": {
        "id": "YUqGF6TTUAcb"
      },
      "outputs": [],
      "source": [
        "#okt = Okt()\n",
        "#max_length = df['content'].apply(lambda x: len(okt.morphs(x))).max()\n",
        "#max_length\n",
        "\n",
        "#9141"
      ]
    },
    {
      "cell_type": "code",
      "source": [
        "class BERTDataset(Dataset):\n",
        "    def __init__(self, dataset, sent_idx, label_idx, bert_tokenizer, vocab, max_len,\n",
        "                 pad, pair):\n",
        "        transform = BERTSentenceTransform(bert_tokenizer, max_seq_length=max_len,vocab=vocab, pad=pad, pair=pair)\n",
        "        #transform = nlp.data.BERTSentenceTransform(\n",
        "        #    tokenizer, max_seq_length=max_len, pad=pad, pair=pair)\n",
        "        self.sentences = [transform([i[sent_idx]]) for i in dataset]\n",
        "        self.labels = [np.int32(i[label_idx]) for i in dataset]\n",
        "\n",
        "    def __getitem__(self, i):\n",
        "        return (self.sentences[i] + (self.labels[i], ))\n",
        "\n",
        "    def __len__(self):\n",
        "        return (len(self.labels))\n",
        "\n"
      ],
      "metadata": {
        "id": "7CqEDRVx6nrA"
      },
      "execution_count": 25,
      "outputs": []
    },
    {
      "cell_type": "code",
      "source": [
        "class BERTSentenceTransform:\n",
        "    r\"\"\"BERT style data transformation.\n",
        "\n",
        "    Parameters\n",
        "    ----------\n",
        "    tokenizer : BERTTokenizer.\n",
        "        Tokenizer for the sentences.\n",
        "    max_seq_length : int.\n",
        "        Maximum sequence length of the sentences.\n",
        "    pad : bool, default True\n",
        "        Whether to pad the sentences to maximum length.\n",
        "    pair : bool, default True\n",
        "        Whether to transform sentences or sentence pairs.\n",
        "    \"\"\"\n",
        "\n",
        "    def __init__(self, tokenizer, max_seq_length,vocab, pad=True, pair=True):\n",
        "        self._tokenizer = tokenizer\n",
        "        self._max_seq_length = max_seq_length\n",
        "        self._pad = pad\n",
        "        self._pair = pair\n",
        "        self._vocab = vocab\n",
        "\n",
        "    def __call__(self, line):\n",
        "        \"\"\"Perform transformation for sequence pairs or single sequences.\n",
        "\n",
        "        The transformation is processed in the following steps:\n",
        "        - tokenize the input sequences\n",
        "        - insert [CLS], [SEP] as necessary\n",
        "        - generate type ids to indicate whether a token belongs to the first\n",
        "        sequence or the second sequence.\n",
        "        - generate valid length\n",
        "\n",
        "        For sequence pairs, the input is a tuple of 2 strings:\n",
        "        text_a, text_b.\n",
        "\n",
        "        Inputs:\n",
        "            text_a: 'is this jacksonville ?'\n",
        "            text_b: 'no it is not'\n",
        "        Tokenization:\n",
        "            text_a: 'is this jack ##son ##ville ?'\n",
        "            text_b: 'no it is not .'\n",
        "        Processed:\n",
        "            tokens: '[CLS] is this jack ##son ##ville ? [SEP] no it is not . [SEP]'\n",
        "            type_ids: 0     0  0    0    0     0       0 0     1  1  1  1   1 1\n",
        "            valid_length: 14\n",
        "\n",
        "        For single sequences, the input is a tuple of single string:\n",
        "        text_a.\n",
        "\n",
        "        Inputs:\n",
        "            text_a: 'the dog is hairy .'\n",
        "        Tokenization:\n",
        "            text_a: 'the dog is hairy .'\n",
        "        Processed:\n",
        "            text_a: '[CLS] the dog is hairy . [SEP]'\n",
        "            type_ids: 0     0   0   0  0     0 0\n",
        "            valid_length: 7\n",
        "\n",
        "        Parameters\n",
        "        ----------\n",
        "        line: tuple of str\n",
        "            Input strings. For sequence pairs, the input is a tuple of 2 strings:\n",
        "            (text_a, text_b). For single sequences, the input is a tuple of single\n",
        "            string: (text_a,).\n",
        "\n",
        "        Returns\n",
        "        -------\n",
        "        np.array: input token ids in 'int32', shape (batch_size, seq_length)\n",
        "        np.array: valid length in 'int32', shape (batch_size,)\n",
        "        np.array: input token type ids in 'int32', shape (batch_size, seq_length)\n",
        "\n",
        "        \"\"\"\n",
        "\n",
        "        # convert to unicode\n",
        "        text_a = line[0]\n",
        "        if self._pair:\n",
        "            assert len(line) == 2\n",
        "            text_b = line[1]\n",
        "\n",
        "        tokens_a = self._tokenizer.tokenize(text_a)\n",
        "        tokens_b = None\n",
        "\n",
        "        if self._pair:\n",
        "            tokens_b = self._tokenizer(text_b)\n",
        "\n",
        "        if tokens_b:\n",
        "            # Modifies `tokens_a` and `tokens_b` in place so that the total\n",
        "            # length is less than the specified length.\n",
        "            # Account for [CLS], [SEP], [SEP] with \"- 3\"\n",
        "            self._truncate_seq_pair(tokens_a, tokens_b,\n",
        "                                    self._max_seq_length - 3)\n",
        "        else:\n",
        "            # Account for [CLS] and [SEP] with \"- 2\"\n",
        "            if len(tokens_a) > self._max_seq_length - 2:\n",
        "                tokens_a = tokens_a[0:(self._max_seq_length - 2)]\n",
        "\n",
        "        # The embedding vectors for `type=0` and `type=1` were learned during\n",
        "        # pre-training and are added to the wordpiece embedding vector\n",
        "        # (and position vector). This is not *strictly* necessary since\n",
        "        # the [SEP] token unambiguously separates the sequences, but it makes\n",
        "        # it easier for the model to learn the concept of sequences.\n",
        "\n",
        "        # For classification tasks, the first vector (corresponding to [CLS]) is\n",
        "        # used as as the \"sentence vector\". Note that this only makes sense because\n",
        "        # the entire model is fine-tuned.\n",
        "        #vocab = self._tokenizer.vocab\n",
        "        vocab = self._vocab\n",
        "        tokens = []\n",
        "        tokens.append(vocab.cls_token)\n",
        "        tokens.extend(tokens_a)\n",
        "        tokens.append(vocab.sep_token)\n",
        "        segment_ids = [0] * len(tokens)\n",
        "\n",
        "        if tokens_b:\n",
        "            tokens.extend(tokens_b)\n",
        "            tokens.append(vocab.sep_token)\n",
        "            segment_ids.extend([1] * (len(tokens) - len(segment_ids)))\n",
        "\n",
        "        input_ids = self._tokenizer.convert_tokens_to_ids(tokens)\n",
        "\n",
        "\n",
        "        # The valid length of sentences. Only real  tokens are attended to.\n",
        "        valid_length = len(input_ids)\n",
        "\n",
        "        if self._pad:\n",
        "            # Zero-pad up to the sequence length.\n",
        "            padding_length = self._max_seq_length - valid_length\n",
        "            # use padding tokens for the rest\n",
        "            input_ids.extend([vocab[vocab.padding_token]] * padding_length)\n",
        "            segment_ids.extend([0] * padding_length)\n",
        "\n",
        "        return np.array(input_ids, dtype='int32'), np.array(valid_length, dtype='int32'),\\\n",
        "            np.array(segment_ids, dtype='int32')\n",
        "\n",
        "\n"
      ],
      "metadata": {
        "id": "Tuy5P5sl6yG6"
      },
      "execution_count": 26,
      "outputs": []
    },
    {
      "cell_type": "code",
      "execution_count": 27,
      "metadata": {
        "id": "B96L9N4WrwMq"
      },
      "outputs": [],
      "source": [
        "train_data, val_data, train_label, val_label = train_test_split(df['content'].values,\n",
        "                                                df['label'].values,\n",
        "                                                test_size=0.2,\n",
        "                                                stratify=df['label'].values,\n",
        "                                                random_state=10)"
      ]
    },
    {
      "cell_type": "code",
      "source": [
        "train_label = list(map(str, train_label))\n",
        "val_label = list(map(str, val_label))"
      ],
      "metadata": {
        "id": "2_nPGbM2it0f"
      },
      "execution_count": 28,
      "outputs": []
    },
    {
      "cell_type": "code",
      "source": [
        "dataset_train = [[data, label] for data, label in zip(train_data, train_label)]\n",
        "dataset_test = [[data, label] for data, label in zip(val_data, val_label)]"
      ],
      "metadata": {
        "id": "q1r7kamKunnh"
      },
      "execution_count": 29,
      "outputs": []
    },
    {
      "cell_type": "code",
      "source": [
        "dataset_train[:2]"
      ],
      "metadata": {
        "colab": {
          "base_uri": "https://localhost:8080/"
        },
        "id": "i7R4dxbJuum2",
        "outputId": "10925ed0-5558-4a28-e50b-38e7c0787c50"
      },
      "execution_count": 30,
      "outputs": [
        {
          "output_type": "execute_result",
          "data": {
            "text/plain": [
              "[['제주 이민 년차들을 만나다 효율과 자율의 삶을 추구하는 지준호씨 제주 이주 열풍 이 분 어느덧 년이 넘었다 지난 년 제주를 떠난 사람도 있지만 남아있는 사람도 많다 그들의 진짜 삶이 궁금해 직접 인터뷰에 나섰다 오십 대 남자가 산다라고 이미지가 떠오를까 흐트러진 일상과 궁상맞아 보이는 집구석 굴러 다니는 술병 편견이 무섭다제주도 십 년차 이주민 인터뷰를 기획하면서 가장 찾기 어려운 경우가 십 제주에서 홀로 버틴 남자였다 홀로 사는 이주민들은 주위에 정말 많았다 남자는 드물었다 한국 사회에서 남자는 혼자서 살기 어려운 존재인 걸까사십 대 초반 혈혈단신 제주에 내려온 뒤 십 년째 홀로 살고 있는 남자분이 있어 인터뷰를 요청했다 제주 동쪽 세화리에서 민박집 탱자싸롱을 운영 중인 지준호 씨가 주인공이다제주 이주 아이를 낳아 기른다고 정신없이 시간을 보낸 나와는 달리 지준호씨는 선연하게 시간의 결을 느끼며 십 년을 살았을 같다는 생각이 들었다 그에게 제주에서의 십 년은 시간이었을까 자유롭게 살고 싶어서 프랑스 마르세유에서 지준호씨 유럽 여행 프랑스 마르세유 앞바다 부근에서 지준호씨가 휴식을 취하고 지준호 십 제주에 오셨지가 궁금해요그때 제주가 한창 핫할 때였어요 이주민들이 많아지고 있었죠 제주는 있는 걸 못 사람은 맞는다는데 저는 놀거든요 가볼까 생각이 들었죠 년 광고 쪽 일을 했는데 계속 나갈지도 의문이고 새로운 게 싶기도 자유롭게 살고 싶다는 생각도 들었어요 왠지 가면 좋은 여자를 만날 예감도 들었고요웃음 휴가 내고 왔는데 너무 좋아서 달 만에 사표를 내고 왔어요 기회가 닿아 땅을 사게 됐어요 게스트하우스 걸 해보고 싶다는 마음은 늘 있었거든요 사십 대 아직 젊을 게스트하우스를 열어서 손님들이랑 놀고 싶다는 생각이 들었어요 처음 년은 정말 재미있게 지냈어요손님들 왠지 이야기가 통할 분들이 있거든요 제가 지적인 대화를 좋아해서 관심사가 비슷한 분들을 만나면 이야기도 많이 술잔도 기울이고 그랬죠 제가 정말 진심으로 손님들한테 다가가고 소통을 하니까 즐거웠어요 그때는 장사도 돼서 스태프도 고용해서 운영했죠 그러다 갑자기 대인기피증이 왔어요 아무런 징조도 없이 갑자기요그때 집이 없었어요 게스트하우스 옆에 컨테이너에서 살았는데 삶이 너무 노출돼 있었죠 컨테이너 안에서 태풍도 겪었어요 너무 춥고 더운 데다 화장실이 안에 없어서 씻고 오가는 게 많이 불편했어요 공간인데 공간이 아니었죠 나오면 손님이랑 마주치고 웃으며 인사해야 가식적인 모습도 싫었어요 그러다 대인기피증이 왔죠그때 스태프한테 연락하지 말라고 숙소를 잡아서 박 일 그냥 누워서 뒹굴거리며 쉬다 왔어요 생각이 들더라고요 지치지 살려면 뭔가를 해야겠다 내가 집중할 있는 걸 매년 하나씩 정해서 하자 그때부터 스윙댄스도 배우고 골프도 치고 요가도 천문지도사 자격증도 땄어요 놀기의 달인이 되자 싶었죠탐험가처럼 제주도의 비밀 명소를 찾아다니기도 년에 번씩은 해외여행도 다녀왔죠 아이슬란드도 여행하고 산티아고 순례길도 걸었어요 중간중간 연애도 계속했고요웃음 식으로 뭐 하나에 빠지면 개월은 시간이 가더라고요 지금은 명리학에 빠져서 열심히 공부하고 있어요목표는 연봉만큼 벌자 혼자서 계속 뭔가 도전하고 성취해 나가는 걸 잘하시는 같아요 주위에 직업을 바꾼 분들도 많은데 십 숙박업만 하셨어요 이유가 있나요숙박업자가 좋은 같아요 숙박은 손님들 퇴실하는 오전 시부터 오후 시까지만 청소하고 나면 다 시간이거든요 혼자만의 시간을 보낼지 계발을 해두면 좋아요 시간을 이용해서 제주시내로 수영을 다니기도 요가원을 다니기도 했죠 이제 숙소 관리는 밥 먹는 같아서 피곤하지만 스트레스도 전혀 없어요 예전에는 패닉이 된 적도 많았지만 이제는 웬만한 변수에는 꿈쩍도 모든 걸 알아서 해결하게 됐죠 저는 시간에 무조건 제가 싶은 걸 게 목표예요 효율성을 중요하게 생각하는 편이라 최대한 빨리 청소를 끝내고 나머지 시간에는 목표한 걸 보내는 거죠 근데 장사라는 게 되잖아요 십 제주 경기도 요동쳤는데 먹고 사는 게 힘들진 않으셨나요숙박업은 초기 비용은 많이 들어가는데 이후에는 공과금이나 고정비를 제외하고는 별로 돈 들어갈 데가 없어요 근데 모든 업이 년만 같아요 이후에도 되려면 그동안 돈을 재투자해서 숙소를 근사하게 바꿔야 돼요 년은 먹고 있어요 식으로 하나씩 하나씩 바꾸는 걸 세 번이나 처음부터 목표는 마지막 연봉만큼은 벌어야 한다는 거예요 숙소에만 집중할 때도 있었고 임대 수익을 올릴 때도 있었어요 될 때는 남는 시간에 아르바이트도 숙소나 계단 청소를 때도 있었죠 식으로 모자란 부분을 벌었죠 그게 되면 씀씀이를 줄였어요 어떻게든 목표를 달성하면서 십 년을 버텼죠 민박집 탱자싸롱 지준호씨가 제주 동쪽 세화에서 운영 중인 민박집 탱자싸롱 전경 민박집 뒤로 푸른 세화 바다가 보인다 지준호 장사를 일정 수익을 계속 올린다는 게 쉬운 일이 아닌데 대단하신 같아요 남자 산다고 편견이 있잖아요 왠지 제대로 살지 않을 같고 근데 십 년이란 시간을 상당히 지혜롭게 보내신 같아요일종의 강박일 수도 있는데 하루를 루틴대로 보내요 칸트가 시만 되면 산책을 했다는 일화처럼 아침에 일어나서 예약표를 보고 예약률이 좋으면 금액을 조정해서 어떻게든 방이 나가게 숙소 청소하고 밥 먹고 수영하거나 헬스를 하거나 골프 연습장을 가죠 저는 정적인 취미와 동적인 취미를 갖고 있는데 요즘은 몸 쓰는 걸 주로 있어요 루틴대로 살아야 불안하지 않아요 내가 열심히 살고 있구나 싶고요 간섭하는 사람이 없어서 살아도 되거든요 늦게 일어나도 되고 늦게 자도 되고요 그럴 때도 가끔 있지만 알람을 맞추지 않아도 이제는 알아서 아침에 눈이 떠지더라고요 지내지만 계획대로 시간을 보내야 하루를 낭비하지 제대로 살았다는 생각이 들어요숙박업을 보니 살림 센스도 정말 많이 늘었어요 절약할 있는지 깔끔하게 쓸 있는지 아주 알죠 식사 준비하는 게 늘 기쁘지는 않지만 나를 건강하게 먹으려고 노력해요좋아하는 것에 집중하는 삶 십 전과 지금을 비교해 어떠세요 달라진 게 있나요많이 달라졌죠 제가 나이를 먹어서 건지 제주가 변한 건지는 모르겠어요 제주 오기 화려했던 시절이 전생 같아요웃음 예전에는 사람들과 어울리는 게 좋았는데 지금은 있는 게 편해요 인생을 바라보는 관점이나 중시하는 가치 추구하는 재미 게 많이 바뀐 같아요 십 제주는 힙한 게 있었거든요 굉장히 매력적인 느낌이 있었고 독특한 사람들도 많았어요 그때는 사람들과도 많이 어울리고 그랬죠 근데 언제부턴가 생활인이 돼서 그런지 요즘은 제주도도 그렇고 제주도에 있는 사람들도 그렇고 예전처럼 특별해 보이지는 않아요 삶에 집중하게 된 같아요 제주에 온 것도 지낼 있기 때문이기도 했죠 십 제주에 온 게 잘한 선택인 같나요이전보다 자유롭게 산 같아요 제주가 게 있어요 막일을 제주에서 달라 보이거든요 일을 서울에서 하층민 같은데 제주에서 뭔가 생각이 있어 보여요실제로 낮에는 막일을 밤에는 합창단 지휘하는 분을 본 적도 있어요 초창기에는 친구들이 부러워하니까 자유로워 보이려고 사는 것처럼 보이려고 애쓴 것도 있었죠 근데 사십 대 후반부터는 거품은 다 빠지고 제가 좋아하는 것에 집중해서 살게 됐어요사람 사는 건 다 거기서 거긴데 안에서 내가 뭘 하느냐가 가장 중요한 같아요 지적 호기심을 꾸준히 갖고 살면서 공부를 채워 나가면 행복한 같아요 제주가 면에서는 좋은 환경인 같아요 자연을 바라보거나 오름을 생각이 꼬리에 꼬리를 물면서 새로운 인사이트가 생길 있거든요 자연 속에서 그냥 있는 자체가 도움이 많이 돼요 계속 제주에 있으실 건가요제주에서 십 년을 살아봤으니까 새로운 경험을 해보고 싶다는 생각도 들어요 곳으로 가볼까 구상도 해보고 있습니다잘 산다는 건 뭘까 생각이 인터뷰 내내 머릿속을 떠나지 않았다 삶에서 진짜 재미란 무엇이고 진짜 행복이란 무엇일까 혼자든 누구와 함께든 도시에 살든 시골에 살든 가장 중요한 건 나를 놓지 않는 게 아닐까 자신의 삶에 애정을 갖고 나만의 규칙을 부여하며 세상에 대한 호기심을 놓지 하루하루 살아가는 타인은 모르지만 적어도 나는 오늘의 내가 어제의 나보다 나은 사람인지 아닌지 어제의 나보다 오늘의 내가 성장했는지 퇴보했는지 산다는 건 매일 조금씩 성장해 가는 삶을 사는 게 아닐까 성장의 맛을 아는 어디에 살든 살든 누구와 살든 삶은 결코 초라하지 않을 것이란 생각이 들었다 일상이 모여 일생이 되리라는 것도',\n",
              "  '4'],\n",
              " ['테무 로고로이터 연합뉴스 자료사진 서울연합뉴스 임상수 기자 중국의 대표적인 쇼핑앱 쉬인 과 테무 가 미국에서 법정 분쟁을 벌이는 시장 지배권을 둘러싸고 경쟁이 격화하고 있다고 로이터통신이 일현지시간 보도했다 이에 따르면 중국 대형 전자상거래업체 판둬둬의 해외 쇼핑 앱 테무는 지난 일 패스트패션 앱이자 경쟁사인 쉬인이 의류제조업체와 거래하는 과정에서 미국의 반독점법을 위반했다면서 보스턴 연방법원에 소송을 제기했다 양사는 이미 시카고 연방법원에서도 법정 공방을 벌이고 쉬인은 소송에서 테무가 인플루언서들과 협력해 소셜미디어에서 자신들을 비방했다고 주장했다 테무는 보스턴법원에 제출한 소장에서 쉬인이 시장 지배력을 남용해 제조업체들이 테무를 기피하도록 강요했다고 주장했다 테무는 쉬인이 제조업체들에 테무와 거래하지 않겠다는 충성 맹세 문서에 서명할 것을 강압적으로 요구했다면서 쉬인의 비즈니스 관행은 가격 상승을 부추겨 소비자의 선택권을 침해하는 것이라고 말했다 테무는 이날도 성명을 통해 쉬인에 자신들이 불법적인 배제 전술의 표적이 돼 왔다고 주장했다 이에 쉬인의 대변인은 테무의 소송이 실현 가능성이 없으며 적극적으로 방어에 나설 것이라고 말했다 앞서 쉬인은 지난주 조직적이고 반복적으로 저작권을 침해하고 있다는 이유로 디자이너들에 로스앤젤레스 연방법원에 피소되기도 했다 중국에서 창업한 쉬인은 달러약 만 천 원를 넘지 않는 신발과 달러약 만 천 원짜리 원피스 저가 의류를 온라인으로 판매하고 쉬인은 년 미국을 비롯해 유럽과 아시아 등지로 진출하면서 현재 시장가치가 억 달러약 조 원에 달한다 쉬인보다 저가에 판매한다고 홍보하는 테무는 기업데이터 분석업체 이핏데이터 의 분석 결과 미국 진출 시점인 지난해 월 총 상품가치가 만 달러약 억 원에서 지난 월에는 억 천 만 달러약 천 억 원로 증가했다고 로이터는 전했다 ',\n",
              "  '2']]"
            ]
          },
          "metadata": {},
          "execution_count": 30
        }
      ]
    },
    {
      "cell_type": "code",
      "source": [
        "print(len(dataset_train))\n",
        "print(len(dataset_test))"
      ],
      "metadata": {
        "colab": {
          "base_uri": "https://localhost:8080/"
        },
        "id": "Z3d8jQkJzQj6",
        "outputId": "7c9933d3-63d5-4d41-edc2-02e7009e062d"
      },
      "execution_count": 31,
      "outputs": [
        {
          "output_type": "stream",
          "name": "stdout",
          "text": [
            "2324\n",
            "582\n"
          ]
        }
      ]
    },
    {
      "cell_type": "code",
      "execution_count": 32,
      "metadata": {
        "id": "cfbSss5spZ55"
      },
      "outputs": [],
      "source": [
        "# Setting parameters\n",
        "max_len = 512\n",
        "batch_size = 4\n",
        "warmup_ratio = 0.1\n",
        "num_epochs = 5\n",
        "max_grad_norm = 1\n",
        "log_interval = 200\n",
        "learning_rate =  5e-5"
      ]
    },
    {
      "cell_type": "code",
      "execution_count": 33,
      "metadata": {
        "id": "VYM99tYtpgRV"
      },
      "outputs": [],
      "source": [
        "# ★\n",
        "\n",
        "\n",
        "data_train = BERTDataset(dataset_train, 0, 1, tokenizer,vocab, max_len, True, False)\n",
        "data_test = BERTDataset(dataset_test, 0, 1, tokenizer, vocab, max_len, True, False)"
      ]
    },
    {
      "cell_type": "code",
      "source": [
        "train_dataloader = torch.utils.data.DataLoader(data_train, batch_size=batch_size, num_workers=2) #5\n",
        "test_dataloader = torch.utils.data.DataLoader(data_test, batch_size=batch_size, num_workers=2)   #5"
      ],
      "metadata": {
        "id": "bSGIDrUc7PtT"
      },
      "execution_count": 34,
      "outputs": []
    },
    {
      "cell_type": "code",
      "execution_count": 35,
      "metadata": {
        "id": "vfkWMJRNh_4A"
      },
      "outputs": [],
      "source": [
        "class BERTClassifier(nn.Module):\n",
        "    def __init__(self,\n",
        "                 bert,\n",
        "                 hidden_size = 768,\n",
        "                 num_classes=6,          ############\n",
        "                 dr_rate=None,\n",
        "                 params=None):\n",
        "        super(BERTClassifier, self).__init__()\n",
        "        self.bert = bert\n",
        "        self.dr_rate = dr_rate\n",
        "\n",
        "        self.classifier = nn.Linear(hidden_size , num_classes)\n",
        "        if dr_rate:\n",
        "            self.dropout = nn.Dropout(p=dr_rate)\n",
        "\n",
        "    def gen_attention_mask(self, token_ids, valid_length):\n",
        "        attention_mask = torch.zeros_like(token_ids)\n",
        "        for i, v in enumerate(valid_length):\n",
        "            attention_mask[i][:v] = 1\n",
        "        return attention_mask.float()\n",
        "\n",
        "    def forward(self, token_ids, valid_length, segment_ids):\n",
        "        attention_mask = self.gen_attention_mask(token_ids, valid_length)\n",
        "\n",
        "        _, pooler = self.bert(input_ids = token_ids, token_type_ids = segment_ids.long(), attention_mask = attention_mask.float().to(token_ids.device))\n",
        "        if self.dr_rate:\n",
        "            out = self.dropout(pooler)\n",
        "        return self.classifier(out)"
      ]
    },
    {
      "cell_type": "code",
      "execution_count": 36,
      "metadata": {
        "id": "zsiPAhLmh_6a"
      },
      "outputs": [],
      "source": [
        "model = BERTClassifier(bertmodel,  dr_rate=0.5).to(device)"
      ]
    },
    {
      "cell_type": "code",
      "source": [
        "# Prepare optimizer and schedule (linear warmup and decay)\n",
        "no_decay = ['bias', 'LayerNorm.weight']\n",
        "optimizer_grouped_parameters = [\n",
        "    {'params': [p for n, p in model.named_parameters() if not any(nd in n for nd in no_decay)], 'weight_decay': 0.01},\n",
        "    {'params': [p for n, p in model.named_parameters() if any(nd in n for nd in no_decay)], 'weight_decay': 0.0}\n",
        "]"
      ],
      "metadata": {
        "id": "xTZ8YjAX7IUB"
      },
      "execution_count": 37,
      "outputs": []
    },
    {
      "cell_type": "code",
      "source": [
        "optimizer = AdamW(optimizer_grouped_parameters, lr=learning_rate)\n",
        "loss_fn = nn.CrossEntropyLoss()\n",
        "\n",
        "t_total = len(train_dataloader) * num_epochs\n",
        "warmup_step = int(t_total * warmup_ratio)\n",
        "\n",
        "scheduler = get_cosine_schedule_with_warmup(optimizer, num_warmup_steps=warmup_step, num_training_steps=t_total)"
      ],
      "metadata": {
        "colab": {
          "base_uri": "https://localhost:8080/"
        },
        "id": "UPAfKJcu7KMf",
        "outputId": "1be35ca3-9c92-4a2b-f9f8-5ab2fffea4d1"
      },
      "execution_count": 38,
      "outputs": [
        {
          "output_type": "stream",
          "name": "stderr",
          "text": [
            "/usr/local/lib/python3.10/dist-packages/transformers/optimization.py:411: FutureWarning: This implementation of AdamW is deprecated and will be removed in a future version. Use the PyTorch implementation torch.optim.AdamW instead, or set `no_deprecation_warning=True` to disable this warning\n",
            "  warnings.warn(\n"
          ]
        }
      ]
    },
    {
      "cell_type": "code",
      "source": [
        "def calc_accuracy(X,Y):\n",
        "    max_vals, max_indices = torch.max(X, 1)\n",
        "    train_acc = (max_indices == Y).sum().data.cpu().numpy()/max_indices.size()[0]\n",
        "    return train_acc"
      ],
      "metadata": {
        "id": "0qv8qpKD7McO"
      },
      "execution_count": 39,
      "outputs": []
    },
    {
      "cell_type": "code",
      "source": [
        "#batch size 크기를 줄여가면서 gpu 캐시를 비워주는 코드\n",
        "\n",
        "import gc\n",
        "import torch\n",
        "\n",
        "gc.collect()\n",
        "torch.cuda.empty_cache()"
      ],
      "metadata": {
        "id": "TNz1PC-K9JeH"
      },
      "execution_count": 40,
      "outputs": []
    },
    {
      "cell_type": "code",
      "source": [
        "import os\n",
        "os.environ['CUDA_LAUNCH_BLOCKING'] = \"1\"\n",
        "os.environ[\"CUDA_VISIBLE_DEVICES\"] = \"0\""
      ],
      "metadata": {
        "id": "zzZt5IO-LTnl"
      },
      "execution_count": 41,
      "outputs": []
    },
    {
      "cell_type": "code",
      "source": [
        "for e in range(num_epochs):\n",
        "    train_acc = 0.0\n",
        "    test_acc = 0.0\n",
        "    model.train()\n",
        "    for batch_id, (token_ids, valid_length, segment_ids, label) in enumerate(tqdm(train_dataloader)):\n",
        "        optimizer.zero_grad()\n",
        "        token_ids = token_ids.long().to(device)\n",
        "        segment_ids = segment_ids.long().to(device)\n",
        "        valid_length= valid_length\n",
        "        label = label.long().to(device)\n",
        "        out = model(token_ids, valid_length, segment_ids)\n",
        "        loss = loss_fn(out, label)\n",
        "        loss.backward()\n",
        "        torch.nn.utils.clip_grad_norm_(model.parameters(), max_grad_norm)\n",
        "        optimizer.step()\n",
        "        scheduler.step()  # Update learning rate schedule\n",
        "        train_acc += calc_accuracy(out, label)\n",
        "        if batch_id % log_interval == 0:\n",
        "            print(\"epoch {} batch id {} loss {} train acc {}\".format(e+1, batch_id+1, loss.data.cpu().numpy(), train_acc / (batch_id+1)))\n",
        "    print(\"epoch {} train acc {}\".format(e+1, train_acc / (batch_id+1)))\n",
        "    model.eval()\n",
        "    for batch_id, (token_ids, valid_length, segment_ids, label) in enumerate(tqdm(test_dataloader)):\n",
        "        token_ids = token_ids.long().to(device)\n",
        "        segment_ids = segment_ids.long().to(device)\n",
        "        valid_length= valid_length\n",
        "        label = label.long().to(device)\n",
        "        out = model(token_ids, valid_length, segment_ids)\n",
        "        test_acc += calc_accuracy(out, label)\n",
        "    print(\"epoch {} test acc {}\".format(e+1, test_acc / (batch_id+1)))"
      ],
      "metadata": {
        "colab": {
          "base_uri": "https://localhost:8080/"
        },
        "id": "9wfxjaXd7Mer",
        "outputId": "cc3b80ed-2e76-4a72-d0d5-c1b9921c9fb1"
      },
      "execution_count": 42,
      "outputs": [
        {
          "output_type": "stream",
          "name": "stderr",
          "text": [
            "  0%|          | 1/581 [00:02<19:27,  2.01s/it]"
          ]
        },
        {
          "output_type": "stream",
          "name": "stdout",
          "text": [
            "epoch 1 batch id 1 loss 1.9637162685394287 train acc 0.25\n"
          ]
        },
        {
          "output_type": "stream",
          "name": "stderr",
          "text": [
            " 35%|███▍      | 201/581 [01:22<02:43,  2.33it/s]"
          ]
        },
        {
          "output_type": "stream",
          "name": "stdout",
          "text": [
            "epoch 1 batch id 201 loss 0.5682252645492554 train acc 0.43034825870646765\n"
          ]
        },
        {
          "output_type": "stream",
          "name": "stderr",
          "text": [
            " 69%|██████▉   | 401/581 [02:47<01:17,  2.33it/s]"
          ]
        },
        {
          "output_type": "stream",
          "name": "stdout",
          "text": [
            "epoch 1 batch id 401 loss 0.7302300930023193 train acc 0.6172069825436409\n"
          ]
        },
        {
          "output_type": "stream",
          "name": "stderr",
          "text": [
            "100%|██████████| 581/581 [04:04<00:00,  2.38it/s]\n"
          ]
        },
        {
          "output_type": "stream",
          "name": "stdout",
          "text": [
            "epoch 1 train acc 0.6932013769363167\n"
          ]
        },
        {
          "output_type": "stream",
          "name": "stderr",
          "text": [
            "100%|██████████| 146/146 [00:21<00:00,  6.92it/s]\n"
          ]
        },
        {
          "output_type": "stream",
          "name": "stdout",
          "text": [
            "epoch 1 test acc 0.8304794520547946\n"
          ]
        },
        {
          "output_type": "stream",
          "name": "stderr",
          "text": [
            "  0%|          | 1/581 [00:00<04:34,  2.12it/s]"
          ]
        },
        {
          "output_type": "stream",
          "name": "stdout",
          "text": [
            "epoch 2 batch id 1 loss 0.020688943564891815 train acc 1.0\n"
          ]
        },
        {
          "output_type": "stream",
          "name": "stderr",
          "text": [
            " 35%|███▍      | 201/581 [01:25<02:40,  2.36it/s]"
          ]
        },
        {
          "output_type": "stream",
          "name": "stdout",
          "text": [
            "epoch 2 batch id 201 loss 0.050403982400894165 train acc 0.8432835820895522\n"
          ]
        },
        {
          "output_type": "stream",
          "name": "stderr",
          "text": [
            " 69%|██████▉   | 401/581 [02:50<01:17,  2.34it/s]"
          ]
        },
        {
          "output_type": "stream",
          "name": "stdout",
          "text": [
            "epoch 2 batch id 401 loss 1.532214641571045 train acc 0.8528678304239401\n"
          ]
        },
        {
          "output_type": "stream",
          "name": "stderr",
          "text": [
            "100%|██████████| 581/581 [04:06<00:00,  2.36it/s]\n"
          ]
        },
        {
          "output_type": "stream",
          "name": "stdout",
          "text": [
            "epoch 2 train acc 0.8687607573149742\n"
          ]
        },
        {
          "output_type": "stream",
          "name": "stderr",
          "text": [
            "100%|██████████| 146/146 [00:21<00:00,  6.95it/s]\n"
          ]
        },
        {
          "output_type": "stream",
          "name": "stdout",
          "text": [
            "epoch 2 test acc 0.8715753424657534\n"
          ]
        },
        {
          "output_type": "stream",
          "name": "stderr",
          "text": [
            "  0%|          | 1/581 [00:00<04:34,  2.11it/s]"
          ]
        },
        {
          "output_type": "stream",
          "name": "stdout",
          "text": [
            "epoch 3 batch id 1 loss 0.02179272286593914 train acc 1.0\n"
          ]
        },
        {
          "output_type": "stream",
          "name": "stderr",
          "text": [
            " 35%|███▍      | 201/581 [01:25<02:41,  2.35it/s]"
          ]
        },
        {
          "output_type": "stream",
          "name": "stdout",
          "text": [
            "epoch 3 batch id 201 loss 0.41339606046676636 train acc 0.8868159203980099\n"
          ]
        },
        {
          "output_type": "stream",
          "name": "stderr",
          "text": [
            " 69%|██████▉   | 401/581 [02:50<01:16,  2.34it/s]"
          ]
        },
        {
          "output_type": "stream",
          "name": "stdout",
          "text": [
            "epoch 3 batch id 401 loss 1.4613007307052612 train acc 0.8952618453865336\n"
          ]
        },
        {
          "output_type": "stream",
          "name": "stderr",
          "text": [
            "100%|██████████| 581/581 [04:06<00:00,  2.36it/s]\n"
          ]
        },
        {
          "output_type": "stream",
          "name": "stdout",
          "text": [
            "epoch 3 train acc 0.9079173838209983\n"
          ]
        },
        {
          "output_type": "stream",
          "name": "stderr",
          "text": [
            "100%|██████████| 146/146 [00:21<00:00,  6.94it/s]\n"
          ]
        },
        {
          "output_type": "stream",
          "name": "stdout",
          "text": [
            "epoch 3 test acc 0.9041095890410958\n"
          ]
        },
        {
          "output_type": "stream",
          "name": "stderr",
          "text": [
            "  0%|          | 1/581 [00:00<04:54,  1.97it/s]"
          ]
        },
        {
          "output_type": "stream",
          "name": "stdout",
          "text": [
            "epoch 4 batch id 1 loss 0.010782928206026554 train acc 1.0\n"
          ]
        },
        {
          "output_type": "stream",
          "name": "stderr",
          "text": [
            " 35%|███▍      | 201/581 [01:25<02:42,  2.34it/s]"
          ]
        },
        {
          "output_type": "stream",
          "name": "stdout",
          "text": [
            "epoch 4 batch id 201 loss 0.003737398888915777 train acc 0.9303482587064676\n"
          ]
        },
        {
          "output_type": "stream",
          "name": "stderr",
          "text": [
            " 69%|██████▉   | 401/581 [02:50<01:16,  2.35it/s]"
          ]
        },
        {
          "output_type": "stream",
          "name": "stdout",
          "text": [
            "epoch 4 batch id 401 loss 1.4958335161209106 train acc 0.9301745635910225\n"
          ]
        },
        {
          "output_type": "stream",
          "name": "stderr",
          "text": [
            "100%|██████████| 581/581 [04:07<00:00,  2.35it/s]\n"
          ]
        },
        {
          "output_type": "stream",
          "name": "stdout",
          "text": [
            "epoch 4 train acc 0.939328743545611\n"
          ]
        },
        {
          "output_type": "stream",
          "name": "stderr",
          "text": [
            "100%|██████████| 146/146 [00:21<00:00,  6.91it/s]\n"
          ]
        },
        {
          "output_type": "stream",
          "name": "stdout",
          "text": [
            "epoch 4 test acc 0.886986301369863\n"
          ]
        },
        {
          "output_type": "stream",
          "name": "stderr",
          "text": [
            "  0%|          | 1/581 [00:00<04:34,  2.11it/s]"
          ]
        },
        {
          "output_type": "stream",
          "name": "stdout",
          "text": [
            "epoch 5 batch id 1 loss 0.005814848467707634 train acc 1.0\n"
          ]
        },
        {
          "output_type": "stream",
          "name": "stderr",
          "text": [
            " 35%|███▍      | 201/581 [01:25<02:40,  2.36it/s]"
          ]
        },
        {
          "output_type": "stream",
          "name": "stdout",
          "text": [
            "epoch 5 batch id 201 loss 0.004694755654782057 train acc 0.9502487562189055\n"
          ]
        },
        {
          "output_type": "stream",
          "name": "stderr",
          "text": [
            " 69%|██████▉   | 401/581 [02:50<01:17,  2.34it/s]"
          ]
        },
        {
          "output_type": "stream",
          "name": "stdout",
          "text": [
            "epoch 5 batch id 401 loss 0.7308350801467896 train acc 0.949501246882793\n"
          ]
        },
        {
          "output_type": "stream",
          "name": "stderr",
          "text": [
            "100%|██████████| 581/581 [04:06<00:00,  2.35it/s]\n"
          ]
        },
        {
          "output_type": "stream",
          "name": "stdout",
          "text": [
            "epoch 5 train acc 0.9565404475043029\n"
          ]
        },
        {
          "output_type": "stream",
          "name": "stderr",
          "text": [
            "100%|██████████| 146/146 [00:21<00:00,  6.93it/s]"
          ]
        },
        {
          "output_type": "stream",
          "name": "stdout",
          "text": [
            "epoch 5 test acc 0.8904109589041096\n"
          ]
        },
        {
          "output_type": "stream",
          "name": "stderr",
          "text": [
            "\n"
          ]
        }
      ]
    },
    {
      "cell_type": "code",
      "source": [
        "## 학습 모델 저장\n",
        "PATH = '/content/drive/MyDrive/대구 빅데이터/'\n",
        "torch.save(model, PATH + 'koert_train.pkl')                                     # 전체 모델 저장\n",
        "torch.save(model.state_dict(), PATH + 'model_state_dict.pkl')               # 모델 객체의 state_dict 저장\n",
        "torch.save({\n",
        "    'model': model.state_dict(),\n",
        "    'optimizer': optimizer.state_dict()\n",
        "}, PATH + 'all.tar')  # 여러 가지 값 저장, 학습 중 진행 상황 저장을 위해 epoch, loss 값 등 일반 scalar값 저장 가능"
      ],
      "metadata": {
        "id": "gRA7B684MNqy",
        "colab": {
          "base_uri": "https://localhost:8080/",
          "height": 259
        },
        "outputId": "8ee7606b-6e9f-4ad9-91e4-2d20eb3c6bb7"
      },
      "execution_count": 1,
      "outputs": [
        {
          "output_type": "error",
          "ename": "NameError",
          "evalue": "ignored",
          "traceback": [
            "\u001b[0;31m---------------------------------------------------------------------------\u001b[0m",
            "\u001b[0;31mNameError\u001b[0m                                 Traceback (most recent call last)",
            "\u001b[0;32m<ipython-input-1-5905850c598a>\u001b[0m in \u001b[0;36m<cell line: 3>\u001b[0;34m()\u001b[0m\n\u001b[1;32m      1\u001b[0m \u001b[0;31m## 학습 모델 저장\u001b[0m\u001b[0;34m\u001b[0m\u001b[0;34m\u001b[0m\u001b[0m\n\u001b[1;32m      2\u001b[0m \u001b[0mPATH\u001b[0m \u001b[0;34m=\u001b[0m \u001b[0;34m'/content/drive/MyDrive/대구 빅데이터/'\u001b[0m\u001b[0;34m\u001b[0m\u001b[0;34m\u001b[0m\u001b[0m\n\u001b[0;32m----> 3\u001b[0;31m \u001b[0mtorch\u001b[0m\u001b[0;34m.\u001b[0m\u001b[0msave\u001b[0m\u001b[0;34m(\u001b[0m\u001b[0mmodel\u001b[0m\u001b[0;34m,\u001b[0m \u001b[0mPATH\u001b[0m \u001b[0;34m+\u001b[0m \u001b[0;34m'koert_train.pkl'\u001b[0m\u001b[0;34m)\u001b[0m                                     \u001b[0;31m# 전체 모델 저장\u001b[0m\u001b[0;34m\u001b[0m\u001b[0;34m\u001b[0m\u001b[0m\n\u001b[0m\u001b[1;32m      4\u001b[0m \u001b[0mtorch\u001b[0m\u001b[0;34m.\u001b[0m\u001b[0msave\u001b[0m\u001b[0;34m(\u001b[0m\u001b[0mmodel\u001b[0m\u001b[0;34m.\u001b[0m\u001b[0mstate_dict\u001b[0m\u001b[0;34m(\u001b[0m\u001b[0;34m)\u001b[0m\u001b[0;34m,\u001b[0m \u001b[0mPATH\u001b[0m \u001b[0;34m+\u001b[0m \u001b[0;34m'model_state_dict.pkl'\u001b[0m\u001b[0;34m)\u001b[0m               \u001b[0;31m# 모델 객체의 state_dict 저장\u001b[0m\u001b[0;34m\u001b[0m\u001b[0;34m\u001b[0m\u001b[0m\n\u001b[1;32m      5\u001b[0m torch.save({\n",
            "\u001b[0;31mNameError\u001b[0m: name 'torch' is not defined"
          ]
        }
      ]
    },
    {
      "cell_type": "code",
      "execution_count": 62,
      "metadata": {
        "id": "cSihptCCr5ub"
      },
      "outputs": [],
      "source": [
        "## 학습 모델 로드\n",
        "PATH = '/content/drive/MyDrive/대구 빅데이터/'\n",
        "model = torch.load(PATH + 'koert_train.pkl')  # 전체 모델을 통째로 불러옴, 클래스 선언 필수\n",
        "model.load_state_dict(torch.load(PATH + 'model_state_dict.pkl'))  # state_dict를 불러 온 후, 모델에 저장\n",
        "\n",
        "\n",
        "def new_softmax(a) :\n",
        "    c = np.max(a) # 최댓값\n",
        "    exp_a = np.exp(a-c) # 각각의 원소에 최댓값을 뺀 값에 exp를 취한다. (이를 통해 overflow 방지)\n",
        "    sum_exp_a = np.sum(exp_a)\n",
        "    y = (exp_a / sum_exp_a) * 100\n",
        "    return np.round(y, 3)\n",
        "\n",
        "\n",
        "# 예측 모델 설정\n",
        "def predict(predict_sentence):\n",
        "\n",
        "    data = [predict_sentence, '0']\n",
        "    dataset_another = [data]\n",
        "\n",
        "    another_test = BERTDataset(dataset_another, 0, 1, tokenizer, vocab, max_len, True, False)\n",
        "    test_dataloader = torch.utils.data.DataLoader(another_test, batch_size=batch_size, num_workers=2)\n",
        "\n",
        "    model.eval()\n",
        "\n",
        "    for batch_id, (token_ids, valid_length, segment_ids, label) in enumerate(test_dataloader):\n",
        "        token_ids = token_ids.long().to(device)\n",
        "        segment_ids = segment_ids.long().to(device)\n",
        "\n",
        "        valid_length= valid_length\n",
        "        label = label.long().to(device)\n",
        "\n",
        "        out = model(token_ids, valid_length, segment_ids)\n",
        "\n",
        "        test_eval=[]\n",
        "        for i in out:\n",
        "            logits=i\n",
        "            logits = logits.detach().cpu().numpy()\n",
        "            min_v = min(logits)\n",
        "            total = 0\n",
        "            category = ['생활', 'IT_전자', '의류_패션잡화', '음식', '문화', '교육']\n",
        "            probability = []\n",
        "            logits = np.round(new_softmax(logits), 3).tolist()\n",
        "            for logit in logits:\n",
        "                probability.append(np.round(logit, 3))\n",
        "                sort_prob = sorted(probability, reverse=True)\n",
        "\n",
        "\n",
        "            answer = []\n",
        "\n",
        "\n",
        "\n",
        "            for i in range(len(probability)):\n",
        "                for j in range(1):\n",
        "                    if probability[i] == sort_prob[j]:\n",
        "                        answer.append(category[i])\n",
        "\n",
        "\n",
        "    return answer,  probability"
      ]
    },
    {
      "cell_type": "code",
      "source": [
        "predict('''튀르키예의 곡물 등 식량 가격이 치솟아 소비자들이 긴장과 우려 속에 살고 있다고 중국 관영 신화이 20일(현지시간) 보도했다.\n",
        "\n",
        "여름철은 튀르키예에서는 국민들이 보통 치솟는 물가 걱정을 잠시 내려놓는 유예기간이 되어왔지만 올 여름은 그렇지가 않다고 보도했다.\n",
        "\n",
        "기후변화로 인한 농산물 생산량의 감소에다 높은 인플레이션 때문에 식량과 식품 가격이 계속 치솟아 튀르키예 소비자들이 극심한 긴장을 느끼고 있다는 것이다.\n",
        "\n",
        "튀르키예 통계청이 발표한 7월 인플레 통계에 따르면 인플레이션 상승 비율은 전년도에 비해 거의 50%나 되었다.  가장 가격이 많이 오른 농식품으로는 채소가 20.1%로 선두를 달리고 있고 신선한 과일류가 15.7%로 그 다음이었다.\n",
        "\n",
        "수도 앙카라의 100개 지역 중 한 시장에서는 이런 물가 때문에 소비자와 판매자들이 모두 불만에 가득차 있었다.\n",
        "\n",
        "20대 남성 고객인 에제 오즈칸은 신화통신 기자에게 시장의 모든 품목이 전 주와 그 전 주에 비해 계속 올라서 가격표가 매번 새로 바뀌고 있다고 말했다.\n",
        "\n",
        "그 때문에 식료품을 사는 것에서부터 사회활동 전반까지 모든 지출을 최소로 줄일 수 밖에 없다고 그는 불평했다.\n",
        "\n",
        "수박을 판매하는 에르도안 아타스도 \"우리 상인들도 물가가 너무 올라서 손님들이 우리 물건을 사기 힘들게 돼버리는 바람에 판매하기가 힘들다\"고 하소연했다.  농사에 드는 비용까지 오르는 바람에 수박값도 이미 100~130%가 인상되었다는 것이다.''')"
      ],
      "metadata": {
        "colab": {
          "base_uri": "https://localhost:8080/"
        },
        "id": "IlkVQjTTvJX5",
        "outputId": "9bd26e04-ff2d-4138-d2c0-f629ddd47f77"
      },
      "execution_count": 72,
      "outputs": [
        {
          "output_type": "execute_result",
          "data": {
            "text/plain": [
              "(['IT_전자'], [0.029, 99.812, 0.027, 0.051, 0.067, 0.015])"
            ]
          },
          "metadata": {},
          "execution_count": 72
        }
      ]
    },
    {
      "cell_type": "code",
      "source": [
        "import pandas as pd\n",
        "\n",
        "# 데이터프레임 생성 (예시 데이터)\n",
        "data = {'고객 ID': [1, 1, 2, 3, 2],\n",
        "        '승인 금액': [100, 200, 150, 300, 120],\n",
        "        '업종 카테고리': ['A', 'B', 'A', 'C', 'B']}\n",
        "df = pd.DataFrame(data)\n",
        "\n",
        "# 고객별로 그룹화하여 승인 금액과 건수 합계 계산\n",
        "grouped = df.groupby(['고객 ID', '업종 카테고리']).agg({'승인 금액': 'sum', '업종 카테고리': 'count'})\n",
        "\n",
        "# 그룹별 승인 금액과 건수 비율 계산\n",
        "grouped['금액 비율'] = grouped['승인 금액'] / grouped.groupby('고객 ID')['승인 금액'].transform('sum')\n",
        "grouped['건수 비율'] = grouped['업종 카테고리'] / grouped.groupby('고객 ID')['업종 카테고리'].transform('sum')\n",
        "\n",
        "# 결과 출력\n",
        "print(grouped)"
      ],
      "metadata": {
        "colab": {
          "base_uri": "https://localhost:8080/"
        },
        "id": "JEiPUCLAvZSC",
        "outputId": "08f02040-6a62-4d6f-c41d-90b6e7b6b0ef"
      },
      "execution_count": 73,
      "outputs": [
        {
          "output_type": "stream",
          "name": "stdout",
          "text": [
            "               승인 금액  업종 카테고리     금액 비율  건수 비율\n",
            "고객 ID 업종 카테고리                                 \n",
            "1     A          100        1  0.333333    0.5\n",
            "      B          200        1  0.666667    0.5\n",
            "2     A          150        1  0.555556    0.5\n",
            "      B          120        1  0.444444    0.5\n",
            "3     C          300        1  1.000000    1.0\n"
          ]
        }
      ]
    },
    {
      "cell_type": "code",
      "source": [
        "import pandas as pd\n",
        "import numpy as np\n",
        "\n",
        "# 데이터프레임 생성 (예시 데이터)\n",
        "data = {'고객 ID': [1, 1, 2, 3, 2],\n",
        "        '승인 금액': [100, 200, 150, 300, 120],\n",
        "        '업종 카테고리': ['A', 'B', 'A', 'C', 'B']}\n",
        "df = pd.DataFrame(data)\n",
        "\n",
        "# 고객별 업종 개수와 업종 목록 가져오기\n",
        "customer_categories = df.groupby('고객 ID')['업종 카테고리'].unique()\n",
        "\n",
        "# 고객별 선호도 벡터 생성\n",
        "preference_vectors = []\n",
        "for categories in customer_categories:\n",
        "    customer_data = df[df['업종 카테고리'].isin(categories)]\n",
        "    total_approval_amount = customer_data['승인 금액'].sum()\n",
        "    preference_vector = np.zeros(len(categories))\n",
        "    for index, row in customer_data.iterrows():\n",
        "        category_index = np.where(categories == row['업종 카테고리'])[0][0]\n",
        "        preference_vector[category_index] = row['승인 금액'] / total_approval_amount\n",
        "    preference_vectors.append(preference_vector)\n",
        "\n",
        "# 결과 출력\n",
        "for i, vector in enumerate(preference_vectors):\n",
        "    print(f\"고객 {i+1}의 선호도 벡터: {vector}\")"
      ],
      "metadata": {
        "colab": {
          "base_uri": "https://localhost:8080/"
        },
        "id": "jwlN0Tuu6JVu",
        "outputId": "4bc4daed-04e2-4390-a678-8255d1774fe0"
      },
      "execution_count": 74,
      "outputs": [
        {
          "output_type": "stream",
          "name": "stdout",
          "text": [
            "고객 1의 선호도 벡터: [0.26315789 0.21052632]\n",
            "고객 2의 선호도 벡터: [0.26315789 0.21052632]\n",
            "고객 3의 선호도 벡터: [1.]\n"
          ]
        }
      ]
    }
  ],
  "metadata": {
    "accelerator": "GPU",
    "colab": {
      "provenance": [],
      "include_colab_link": true
    },
    "kernelspec": {
      "display_name": "Python 3",
      "name": "python3"
    },
    "widgets": {
      "application/vnd.jupyter.widget-state+json": {
        "967c2ca343814c35b486b21ce8d01473": {
          "model_module": "@jupyter-widgets/controls",
          "model_name": "HBoxModel",
          "model_module_version": "1.5.0",
          "state": {
            "_dom_classes": [],
            "_model_module": "@jupyter-widgets/controls",
            "_model_module_version": "1.5.0",
            "_model_name": "HBoxModel",
            "_view_count": null,
            "_view_module": "@jupyter-widgets/controls",
            "_view_module_version": "1.5.0",
            "_view_name": "HBoxView",
            "box_style": "",
            "children": [
              "IPY_MODEL_3e808503582a4f1cba4f06b586ea7020",
              "IPY_MODEL_be38b9baabf74e6a99c1f9429e0a04aa",
              "IPY_MODEL_4b0d22f15037462a86ceafa218e0b60b"
            ],
            "layout": "IPY_MODEL_7c3ac610dab84da08e377a60dd98ed91"
          }
        },
        "3e808503582a4f1cba4f06b586ea7020": {
          "model_module": "@jupyter-widgets/controls",
          "model_name": "HTMLModel",
          "model_module_version": "1.5.0",
          "state": {
            "_dom_classes": [],
            "_model_module": "@jupyter-widgets/controls",
            "_model_module_version": "1.5.0",
            "_model_name": "HTMLModel",
            "_view_count": null,
            "_view_module": "@jupyter-widgets/controls",
            "_view_module_version": "1.5.0",
            "_view_name": "HTMLView",
            "description": "",
            "description_tooltip": null,
            "layout": "IPY_MODEL_530632d20b9743b6bd0f36111e349ef8",
            "placeholder": "​",
            "style": "IPY_MODEL_4b4987fcfbe14e35b596e9b096f13a03",
            "value": "Downloading (…)ve/main/spiece.model: 100%"
          }
        },
        "be38b9baabf74e6a99c1f9429e0a04aa": {
          "model_module": "@jupyter-widgets/controls",
          "model_name": "FloatProgressModel",
          "model_module_version": "1.5.0",
          "state": {
            "_dom_classes": [],
            "_model_module": "@jupyter-widgets/controls",
            "_model_module_version": "1.5.0",
            "_model_name": "FloatProgressModel",
            "_view_count": null,
            "_view_module": "@jupyter-widgets/controls",
            "_view_module_version": "1.5.0",
            "_view_name": "ProgressView",
            "bar_style": "success",
            "description": "",
            "description_tooltip": null,
            "layout": "IPY_MODEL_467219cae5924fa9a7cadfecda6beb80",
            "max": 371427,
            "min": 0,
            "orientation": "horizontal",
            "style": "IPY_MODEL_1d479b0018134973b3811bdee4c196e6",
            "value": 371427
          }
        },
        "4b0d22f15037462a86ceafa218e0b60b": {
          "model_module": "@jupyter-widgets/controls",
          "model_name": "HTMLModel",
          "model_module_version": "1.5.0",
          "state": {
            "_dom_classes": [],
            "_model_module": "@jupyter-widgets/controls",
            "_model_module_version": "1.5.0",
            "_model_name": "HTMLModel",
            "_view_count": null,
            "_view_module": "@jupyter-widgets/controls",
            "_view_module_version": "1.5.0",
            "_view_name": "HTMLView",
            "description": "",
            "description_tooltip": null,
            "layout": "IPY_MODEL_5d8c637c722a4170a119f80b253b5919",
            "placeholder": "​",
            "style": "IPY_MODEL_0b01c62a241a4beaac479a8b64f73f39",
            "value": " 371k/371k [00:00&lt;00:00, 1.52MB/s]"
          }
        },
        "7c3ac610dab84da08e377a60dd98ed91": {
          "model_module": "@jupyter-widgets/base",
          "model_name": "LayoutModel",
          "model_module_version": "1.2.0",
          "state": {
            "_model_module": "@jupyter-widgets/base",
            "_model_module_version": "1.2.0",
            "_model_name": "LayoutModel",
            "_view_count": null,
            "_view_module": "@jupyter-widgets/base",
            "_view_module_version": "1.2.0",
            "_view_name": "LayoutView",
            "align_content": null,
            "align_items": null,
            "align_self": null,
            "border": null,
            "bottom": null,
            "display": null,
            "flex": null,
            "flex_flow": null,
            "grid_area": null,
            "grid_auto_columns": null,
            "grid_auto_flow": null,
            "grid_auto_rows": null,
            "grid_column": null,
            "grid_gap": null,
            "grid_row": null,
            "grid_template_areas": null,
            "grid_template_columns": null,
            "grid_template_rows": null,
            "height": null,
            "justify_content": null,
            "justify_items": null,
            "left": null,
            "margin": null,
            "max_height": null,
            "max_width": null,
            "min_height": null,
            "min_width": null,
            "object_fit": null,
            "object_position": null,
            "order": null,
            "overflow": null,
            "overflow_x": null,
            "overflow_y": null,
            "padding": null,
            "right": null,
            "top": null,
            "visibility": null,
            "width": null
          }
        },
        "530632d20b9743b6bd0f36111e349ef8": {
          "model_module": "@jupyter-widgets/base",
          "model_name": "LayoutModel",
          "model_module_version": "1.2.0",
          "state": {
            "_model_module": "@jupyter-widgets/base",
            "_model_module_version": "1.2.0",
            "_model_name": "LayoutModel",
            "_view_count": null,
            "_view_module": "@jupyter-widgets/base",
            "_view_module_version": "1.2.0",
            "_view_name": "LayoutView",
            "align_content": null,
            "align_items": null,
            "align_self": null,
            "border": null,
            "bottom": null,
            "display": null,
            "flex": null,
            "flex_flow": null,
            "grid_area": null,
            "grid_auto_columns": null,
            "grid_auto_flow": null,
            "grid_auto_rows": null,
            "grid_column": null,
            "grid_gap": null,
            "grid_row": null,
            "grid_template_areas": null,
            "grid_template_columns": null,
            "grid_template_rows": null,
            "height": null,
            "justify_content": null,
            "justify_items": null,
            "left": null,
            "margin": null,
            "max_height": null,
            "max_width": null,
            "min_height": null,
            "min_width": null,
            "object_fit": null,
            "object_position": null,
            "order": null,
            "overflow": null,
            "overflow_x": null,
            "overflow_y": null,
            "padding": null,
            "right": null,
            "top": null,
            "visibility": null,
            "width": null
          }
        },
        "4b4987fcfbe14e35b596e9b096f13a03": {
          "model_module": "@jupyter-widgets/controls",
          "model_name": "DescriptionStyleModel",
          "model_module_version": "1.5.0",
          "state": {
            "_model_module": "@jupyter-widgets/controls",
            "_model_module_version": "1.5.0",
            "_model_name": "DescriptionStyleModel",
            "_view_count": null,
            "_view_module": "@jupyter-widgets/base",
            "_view_module_version": "1.2.0",
            "_view_name": "StyleView",
            "description_width": ""
          }
        },
        "467219cae5924fa9a7cadfecda6beb80": {
          "model_module": "@jupyter-widgets/base",
          "model_name": "LayoutModel",
          "model_module_version": "1.2.0",
          "state": {
            "_model_module": "@jupyter-widgets/base",
            "_model_module_version": "1.2.0",
            "_model_name": "LayoutModel",
            "_view_count": null,
            "_view_module": "@jupyter-widgets/base",
            "_view_module_version": "1.2.0",
            "_view_name": "LayoutView",
            "align_content": null,
            "align_items": null,
            "align_self": null,
            "border": null,
            "bottom": null,
            "display": null,
            "flex": null,
            "flex_flow": null,
            "grid_area": null,
            "grid_auto_columns": null,
            "grid_auto_flow": null,
            "grid_auto_rows": null,
            "grid_column": null,
            "grid_gap": null,
            "grid_row": null,
            "grid_template_areas": null,
            "grid_template_columns": null,
            "grid_template_rows": null,
            "height": null,
            "justify_content": null,
            "justify_items": null,
            "left": null,
            "margin": null,
            "max_height": null,
            "max_width": null,
            "min_height": null,
            "min_width": null,
            "object_fit": null,
            "object_position": null,
            "order": null,
            "overflow": null,
            "overflow_x": null,
            "overflow_y": null,
            "padding": null,
            "right": null,
            "top": null,
            "visibility": null,
            "width": null
          }
        },
        "1d479b0018134973b3811bdee4c196e6": {
          "model_module": "@jupyter-widgets/controls",
          "model_name": "ProgressStyleModel",
          "model_module_version": "1.5.0",
          "state": {
            "_model_module": "@jupyter-widgets/controls",
            "_model_module_version": "1.5.0",
            "_model_name": "ProgressStyleModel",
            "_view_count": null,
            "_view_module": "@jupyter-widgets/base",
            "_view_module_version": "1.2.0",
            "_view_name": "StyleView",
            "bar_color": null,
            "description_width": ""
          }
        },
        "5d8c637c722a4170a119f80b253b5919": {
          "model_module": "@jupyter-widgets/base",
          "model_name": "LayoutModel",
          "model_module_version": "1.2.0",
          "state": {
            "_model_module": "@jupyter-widgets/base",
            "_model_module_version": "1.2.0",
            "_model_name": "LayoutModel",
            "_view_count": null,
            "_view_module": "@jupyter-widgets/base",
            "_view_module_version": "1.2.0",
            "_view_name": "LayoutView",
            "align_content": null,
            "align_items": null,
            "align_self": null,
            "border": null,
            "bottom": null,
            "display": null,
            "flex": null,
            "flex_flow": null,
            "grid_area": null,
            "grid_auto_columns": null,
            "grid_auto_flow": null,
            "grid_auto_rows": null,
            "grid_column": null,
            "grid_gap": null,
            "grid_row": null,
            "grid_template_areas": null,
            "grid_template_columns": null,
            "grid_template_rows": null,
            "height": null,
            "justify_content": null,
            "justify_items": null,
            "left": null,
            "margin": null,
            "max_height": null,
            "max_width": null,
            "min_height": null,
            "min_width": null,
            "object_fit": null,
            "object_position": null,
            "order": null,
            "overflow": null,
            "overflow_x": null,
            "overflow_y": null,
            "padding": null,
            "right": null,
            "top": null,
            "visibility": null,
            "width": null
          }
        },
        "0b01c62a241a4beaac479a8b64f73f39": {
          "model_module": "@jupyter-widgets/controls",
          "model_name": "DescriptionStyleModel",
          "model_module_version": "1.5.0",
          "state": {
            "_model_module": "@jupyter-widgets/controls",
            "_model_module_version": "1.5.0",
            "_model_name": "DescriptionStyleModel",
            "_view_count": null,
            "_view_module": "@jupyter-widgets/base",
            "_view_module_version": "1.2.0",
            "_view_name": "StyleView",
            "description_width": ""
          }
        },
        "bdd42ba1376240e4a1644cb344a371ce": {
          "model_module": "@jupyter-widgets/controls",
          "model_name": "HBoxModel",
          "model_module_version": "1.5.0",
          "state": {
            "_dom_classes": [],
            "_model_module": "@jupyter-widgets/controls",
            "_model_module_version": "1.5.0",
            "_model_name": "HBoxModel",
            "_view_count": null,
            "_view_module": "@jupyter-widgets/controls",
            "_view_module_version": "1.5.0",
            "_view_name": "HBoxView",
            "box_style": "",
            "children": [
              "IPY_MODEL_0612141825d342e788dbc2118d4ea2b8",
              "IPY_MODEL_9bef33c189424c6ea3b23f4c6e794a51",
              "IPY_MODEL_9ab0ea0ec69346a1b677c46c7078ab4a"
            ],
            "layout": "IPY_MODEL_b66caf434847496fb71f3edcc299c759"
          }
        },
        "0612141825d342e788dbc2118d4ea2b8": {
          "model_module": "@jupyter-widgets/controls",
          "model_name": "HTMLModel",
          "model_module_version": "1.5.0",
          "state": {
            "_dom_classes": [],
            "_model_module": "@jupyter-widgets/controls",
            "_model_module_version": "1.5.0",
            "_model_name": "HTMLModel",
            "_view_count": null,
            "_view_module": "@jupyter-widgets/controls",
            "_view_module_version": "1.5.0",
            "_view_name": "HTMLView",
            "description": "",
            "description_tooltip": null,
            "layout": "IPY_MODEL_2bb99022ce8f466dbac205ba9019dc73",
            "placeholder": "​",
            "style": "IPY_MODEL_263af45c5e4f49b6a1b74b5afb464138",
            "value": "Downloading (…)cial_tokens_map.json: 100%"
          }
        },
        "9bef33c189424c6ea3b23f4c6e794a51": {
          "model_module": "@jupyter-widgets/controls",
          "model_name": "FloatProgressModel",
          "model_module_version": "1.5.0",
          "state": {
            "_dom_classes": [],
            "_model_module": "@jupyter-widgets/controls",
            "_model_module_version": "1.5.0",
            "_model_name": "FloatProgressModel",
            "_view_count": null,
            "_view_module": "@jupyter-widgets/controls",
            "_view_module_version": "1.5.0",
            "_view_name": "ProgressView",
            "bar_style": "success",
            "description": "",
            "description_tooltip": null,
            "layout": "IPY_MODEL_dfb796c615fb45d783b042806781d170",
            "max": 244,
            "min": 0,
            "orientation": "horizontal",
            "style": "IPY_MODEL_3ccd8b2db7be4ddf8fe20731d27d315b",
            "value": 244
          }
        },
        "9ab0ea0ec69346a1b677c46c7078ab4a": {
          "model_module": "@jupyter-widgets/controls",
          "model_name": "HTMLModel",
          "model_module_version": "1.5.0",
          "state": {
            "_dom_classes": [],
            "_model_module": "@jupyter-widgets/controls",
            "_model_module_version": "1.5.0",
            "_model_name": "HTMLModel",
            "_view_count": null,
            "_view_module": "@jupyter-widgets/controls",
            "_view_module_version": "1.5.0",
            "_view_name": "HTMLView",
            "description": "",
            "description_tooltip": null,
            "layout": "IPY_MODEL_195343aebccc4df3bf77cc7fcfb3c728",
            "placeholder": "​",
            "style": "IPY_MODEL_5be97a3058fd490a9f59a2511eca440f",
            "value": " 244/244 [00:00&lt;00:00, 13.7kB/s]"
          }
        },
        "b66caf434847496fb71f3edcc299c759": {
          "model_module": "@jupyter-widgets/base",
          "model_name": "LayoutModel",
          "model_module_version": "1.2.0",
          "state": {
            "_model_module": "@jupyter-widgets/base",
            "_model_module_version": "1.2.0",
            "_model_name": "LayoutModel",
            "_view_count": null,
            "_view_module": "@jupyter-widgets/base",
            "_view_module_version": "1.2.0",
            "_view_name": "LayoutView",
            "align_content": null,
            "align_items": null,
            "align_self": null,
            "border": null,
            "bottom": null,
            "display": null,
            "flex": null,
            "flex_flow": null,
            "grid_area": null,
            "grid_auto_columns": null,
            "grid_auto_flow": null,
            "grid_auto_rows": null,
            "grid_column": null,
            "grid_gap": null,
            "grid_row": null,
            "grid_template_areas": null,
            "grid_template_columns": null,
            "grid_template_rows": null,
            "height": null,
            "justify_content": null,
            "justify_items": null,
            "left": null,
            "margin": null,
            "max_height": null,
            "max_width": null,
            "min_height": null,
            "min_width": null,
            "object_fit": null,
            "object_position": null,
            "order": null,
            "overflow": null,
            "overflow_x": null,
            "overflow_y": null,
            "padding": null,
            "right": null,
            "top": null,
            "visibility": null,
            "width": null
          }
        },
        "2bb99022ce8f466dbac205ba9019dc73": {
          "model_module": "@jupyter-widgets/base",
          "model_name": "LayoutModel",
          "model_module_version": "1.2.0",
          "state": {
            "_model_module": "@jupyter-widgets/base",
            "_model_module_version": "1.2.0",
            "_model_name": "LayoutModel",
            "_view_count": null,
            "_view_module": "@jupyter-widgets/base",
            "_view_module_version": "1.2.0",
            "_view_name": "LayoutView",
            "align_content": null,
            "align_items": null,
            "align_self": null,
            "border": null,
            "bottom": null,
            "display": null,
            "flex": null,
            "flex_flow": null,
            "grid_area": null,
            "grid_auto_columns": null,
            "grid_auto_flow": null,
            "grid_auto_rows": null,
            "grid_column": null,
            "grid_gap": null,
            "grid_row": null,
            "grid_template_areas": null,
            "grid_template_columns": null,
            "grid_template_rows": null,
            "height": null,
            "justify_content": null,
            "justify_items": null,
            "left": null,
            "margin": null,
            "max_height": null,
            "max_width": null,
            "min_height": null,
            "min_width": null,
            "object_fit": null,
            "object_position": null,
            "order": null,
            "overflow": null,
            "overflow_x": null,
            "overflow_y": null,
            "padding": null,
            "right": null,
            "top": null,
            "visibility": null,
            "width": null
          }
        },
        "263af45c5e4f49b6a1b74b5afb464138": {
          "model_module": "@jupyter-widgets/controls",
          "model_name": "DescriptionStyleModel",
          "model_module_version": "1.5.0",
          "state": {
            "_model_module": "@jupyter-widgets/controls",
            "_model_module_version": "1.5.0",
            "_model_name": "DescriptionStyleModel",
            "_view_count": null,
            "_view_module": "@jupyter-widgets/base",
            "_view_module_version": "1.2.0",
            "_view_name": "StyleView",
            "description_width": ""
          }
        },
        "dfb796c615fb45d783b042806781d170": {
          "model_module": "@jupyter-widgets/base",
          "model_name": "LayoutModel",
          "model_module_version": "1.2.0",
          "state": {
            "_model_module": "@jupyter-widgets/base",
            "_model_module_version": "1.2.0",
            "_model_name": "LayoutModel",
            "_view_count": null,
            "_view_module": "@jupyter-widgets/base",
            "_view_module_version": "1.2.0",
            "_view_name": "LayoutView",
            "align_content": null,
            "align_items": null,
            "align_self": null,
            "border": null,
            "bottom": null,
            "display": null,
            "flex": null,
            "flex_flow": null,
            "grid_area": null,
            "grid_auto_columns": null,
            "grid_auto_flow": null,
            "grid_auto_rows": null,
            "grid_column": null,
            "grid_gap": null,
            "grid_row": null,
            "grid_template_areas": null,
            "grid_template_columns": null,
            "grid_template_rows": null,
            "height": null,
            "justify_content": null,
            "justify_items": null,
            "left": null,
            "margin": null,
            "max_height": null,
            "max_width": null,
            "min_height": null,
            "min_width": null,
            "object_fit": null,
            "object_position": null,
            "order": null,
            "overflow": null,
            "overflow_x": null,
            "overflow_y": null,
            "padding": null,
            "right": null,
            "top": null,
            "visibility": null,
            "width": null
          }
        },
        "3ccd8b2db7be4ddf8fe20731d27d315b": {
          "model_module": "@jupyter-widgets/controls",
          "model_name": "ProgressStyleModel",
          "model_module_version": "1.5.0",
          "state": {
            "_model_module": "@jupyter-widgets/controls",
            "_model_module_version": "1.5.0",
            "_model_name": "ProgressStyleModel",
            "_view_count": null,
            "_view_module": "@jupyter-widgets/base",
            "_view_module_version": "1.2.0",
            "_view_name": "StyleView",
            "bar_color": null,
            "description_width": ""
          }
        },
        "195343aebccc4df3bf77cc7fcfb3c728": {
          "model_module": "@jupyter-widgets/base",
          "model_name": "LayoutModel",
          "model_module_version": "1.2.0",
          "state": {
            "_model_module": "@jupyter-widgets/base",
            "_model_module_version": "1.2.0",
            "_model_name": "LayoutModel",
            "_view_count": null,
            "_view_module": "@jupyter-widgets/base",
            "_view_module_version": "1.2.0",
            "_view_name": "LayoutView",
            "align_content": null,
            "align_items": null,
            "align_self": null,
            "border": null,
            "bottom": null,
            "display": null,
            "flex": null,
            "flex_flow": null,
            "grid_area": null,
            "grid_auto_columns": null,
            "grid_auto_flow": null,
            "grid_auto_rows": null,
            "grid_column": null,
            "grid_gap": null,
            "grid_row": null,
            "grid_template_areas": null,
            "grid_template_columns": null,
            "grid_template_rows": null,
            "height": null,
            "justify_content": null,
            "justify_items": null,
            "left": null,
            "margin": null,
            "max_height": null,
            "max_width": null,
            "min_height": null,
            "min_width": null,
            "object_fit": null,
            "object_position": null,
            "order": null,
            "overflow": null,
            "overflow_x": null,
            "overflow_y": null,
            "padding": null,
            "right": null,
            "top": null,
            "visibility": null,
            "width": null
          }
        },
        "5be97a3058fd490a9f59a2511eca440f": {
          "model_module": "@jupyter-widgets/controls",
          "model_name": "DescriptionStyleModel",
          "model_module_version": "1.5.0",
          "state": {
            "_model_module": "@jupyter-widgets/controls",
            "_model_module_version": "1.5.0",
            "_model_name": "DescriptionStyleModel",
            "_view_count": null,
            "_view_module": "@jupyter-widgets/base",
            "_view_module_version": "1.2.0",
            "_view_name": "StyleView",
            "description_width": ""
          }
        },
        "e05ef630262147c887fa3ce9a9164f00": {
          "model_module": "@jupyter-widgets/controls",
          "model_name": "HBoxModel",
          "model_module_version": "1.5.0",
          "state": {
            "_dom_classes": [],
            "_model_module": "@jupyter-widgets/controls",
            "_model_module_version": "1.5.0",
            "_model_name": "HBoxModel",
            "_view_count": null,
            "_view_module": "@jupyter-widgets/controls",
            "_view_module_version": "1.5.0",
            "_view_name": "HBoxView",
            "box_style": "",
            "children": [
              "IPY_MODEL_02fd564b0cc5478a8c24f654a8978a34",
              "IPY_MODEL_10dae7bbc12c45a7b7cdc5afebd77a51",
              "IPY_MODEL_656033c9189540fa84233707d0c9bdda"
            ],
            "layout": "IPY_MODEL_0a66b227691c4fad82cee67c400ad3e4"
          }
        },
        "02fd564b0cc5478a8c24f654a8978a34": {
          "model_module": "@jupyter-widgets/controls",
          "model_name": "HTMLModel",
          "model_module_version": "1.5.0",
          "state": {
            "_dom_classes": [],
            "_model_module": "@jupyter-widgets/controls",
            "_model_module_version": "1.5.0",
            "_model_name": "HTMLModel",
            "_view_count": null,
            "_view_module": "@jupyter-widgets/controls",
            "_view_module_version": "1.5.0",
            "_view_name": "HTMLView",
            "description": "",
            "description_tooltip": null,
            "layout": "IPY_MODEL_762d6aefde9d445ab108ed6f84bdf637",
            "placeholder": "​",
            "style": "IPY_MODEL_b21218b426cc4e24814120fe686e1ea9",
            "value": "Downloading (…)okenizer_config.json: 100%"
          }
        },
        "10dae7bbc12c45a7b7cdc5afebd77a51": {
          "model_module": "@jupyter-widgets/controls",
          "model_name": "FloatProgressModel",
          "model_module_version": "1.5.0",
          "state": {
            "_dom_classes": [],
            "_model_module": "@jupyter-widgets/controls",
            "_model_module_version": "1.5.0",
            "_model_name": "FloatProgressModel",
            "_view_count": null,
            "_view_module": "@jupyter-widgets/controls",
            "_view_module_version": "1.5.0",
            "_view_name": "ProgressView",
            "bar_style": "success",
            "description": "",
            "description_tooltip": null,
            "layout": "IPY_MODEL_bc400fc411d742a3a23ba46832b9057b",
            "max": 432,
            "min": 0,
            "orientation": "horizontal",
            "style": "IPY_MODEL_c64f3958ff204011ab7ff73109e49be9",
            "value": 432
          }
        },
        "656033c9189540fa84233707d0c9bdda": {
          "model_module": "@jupyter-widgets/controls",
          "model_name": "HTMLModel",
          "model_module_version": "1.5.0",
          "state": {
            "_dom_classes": [],
            "_model_module": "@jupyter-widgets/controls",
            "_model_module_version": "1.5.0",
            "_model_name": "HTMLModel",
            "_view_count": null,
            "_view_module": "@jupyter-widgets/controls",
            "_view_module_version": "1.5.0",
            "_view_name": "HTMLView",
            "description": "",
            "description_tooltip": null,
            "layout": "IPY_MODEL_40604dc0396942e089a1192d964ba904",
            "placeholder": "​",
            "style": "IPY_MODEL_4a5e4f88d2a643b5b28a85adde4648b7",
            "value": " 432/432 [00:00&lt;00:00, 18.3kB/s]"
          }
        },
        "0a66b227691c4fad82cee67c400ad3e4": {
          "model_module": "@jupyter-widgets/base",
          "model_name": "LayoutModel",
          "model_module_version": "1.2.0",
          "state": {
            "_model_module": "@jupyter-widgets/base",
            "_model_module_version": "1.2.0",
            "_model_name": "LayoutModel",
            "_view_count": null,
            "_view_module": "@jupyter-widgets/base",
            "_view_module_version": "1.2.0",
            "_view_name": "LayoutView",
            "align_content": null,
            "align_items": null,
            "align_self": null,
            "border": null,
            "bottom": null,
            "display": null,
            "flex": null,
            "flex_flow": null,
            "grid_area": null,
            "grid_auto_columns": null,
            "grid_auto_flow": null,
            "grid_auto_rows": null,
            "grid_column": null,
            "grid_gap": null,
            "grid_row": null,
            "grid_template_areas": null,
            "grid_template_columns": null,
            "grid_template_rows": null,
            "height": null,
            "justify_content": null,
            "justify_items": null,
            "left": null,
            "margin": null,
            "max_height": null,
            "max_width": null,
            "min_height": null,
            "min_width": null,
            "object_fit": null,
            "object_position": null,
            "order": null,
            "overflow": null,
            "overflow_x": null,
            "overflow_y": null,
            "padding": null,
            "right": null,
            "top": null,
            "visibility": null,
            "width": null
          }
        },
        "762d6aefde9d445ab108ed6f84bdf637": {
          "model_module": "@jupyter-widgets/base",
          "model_name": "LayoutModel",
          "model_module_version": "1.2.0",
          "state": {
            "_model_module": "@jupyter-widgets/base",
            "_model_module_version": "1.2.0",
            "_model_name": "LayoutModel",
            "_view_count": null,
            "_view_module": "@jupyter-widgets/base",
            "_view_module_version": "1.2.0",
            "_view_name": "LayoutView",
            "align_content": null,
            "align_items": null,
            "align_self": null,
            "border": null,
            "bottom": null,
            "display": null,
            "flex": null,
            "flex_flow": null,
            "grid_area": null,
            "grid_auto_columns": null,
            "grid_auto_flow": null,
            "grid_auto_rows": null,
            "grid_column": null,
            "grid_gap": null,
            "grid_row": null,
            "grid_template_areas": null,
            "grid_template_columns": null,
            "grid_template_rows": null,
            "height": null,
            "justify_content": null,
            "justify_items": null,
            "left": null,
            "margin": null,
            "max_height": null,
            "max_width": null,
            "min_height": null,
            "min_width": null,
            "object_fit": null,
            "object_position": null,
            "order": null,
            "overflow": null,
            "overflow_x": null,
            "overflow_y": null,
            "padding": null,
            "right": null,
            "top": null,
            "visibility": null,
            "width": null
          }
        },
        "b21218b426cc4e24814120fe686e1ea9": {
          "model_module": "@jupyter-widgets/controls",
          "model_name": "DescriptionStyleModel",
          "model_module_version": "1.5.0",
          "state": {
            "_model_module": "@jupyter-widgets/controls",
            "_model_module_version": "1.5.0",
            "_model_name": "DescriptionStyleModel",
            "_view_count": null,
            "_view_module": "@jupyter-widgets/base",
            "_view_module_version": "1.2.0",
            "_view_name": "StyleView",
            "description_width": ""
          }
        },
        "bc400fc411d742a3a23ba46832b9057b": {
          "model_module": "@jupyter-widgets/base",
          "model_name": "LayoutModel",
          "model_module_version": "1.2.0",
          "state": {
            "_model_module": "@jupyter-widgets/base",
            "_model_module_version": "1.2.0",
            "_model_name": "LayoutModel",
            "_view_count": null,
            "_view_module": "@jupyter-widgets/base",
            "_view_module_version": "1.2.0",
            "_view_name": "LayoutView",
            "align_content": null,
            "align_items": null,
            "align_self": null,
            "border": null,
            "bottom": null,
            "display": null,
            "flex": null,
            "flex_flow": null,
            "grid_area": null,
            "grid_auto_columns": null,
            "grid_auto_flow": null,
            "grid_auto_rows": null,
            "grid_column": null,
            "grid_gap": null,
            "grid_row": null,
            "grid_template_areas": null,
            "grid_template_columns": null,
            "grid_template_rows": null,
            "height": null,
            "justify_content": null,
            "justify_items": null,
            "left": null,
            "margin": null,
            "max_height": null,
            "max_width": null,
            "min_height": null,
            "min_width": null,
            "object_fit": null,
            "object_position": null,
            "order": null,
            "overflow": null,
            "overflow_x": null,
            "overflow_y": null,
            "padding": null,
            "right": null,
            "top": null,
            "visibility": null,
            "width": null
          }
        },
        "c64f3958ff204011ab7ff73109e49be9": {
          "model_module": "@jupyter-widgets/controls",
          "model_name": "ProgressStyleModel",
          "model_module_version": "1.5.0",
          "state": {
            "_model_module": "@jupyter-widgets/controls",
            "_model_module_version": "1.5.0",
            "_model_name": "ProgressStyleModel",
            "_view_count": null,
            "_view_module": "@jupyter-widgets/base",
            "_view_module_version": "1.2.0",
            "_view_name": "StyleView",
            "bar_color": null,
            "description_width": ""
          }
        },
        "40604dc0396942e089a1192d964ba904": {
          "model_module": "@jupyter-widgets/base",
          "model_name": "LayoutModel",
          "model_module_version": "1.2.0",
          "state": {
            "_model_module": "@jupyter-widgets/base",
            "_model_module_version": "1.2.0",
            "_model_name": "LayoutModel",
            "_view_count": null,
            "_view_module": "@jupyter-widgets/base",
            "_view_module_version": "1.2.0",
            "_view_name": "LayoutView",
            "align_content": null,
            "align_items": null,
            "align_self": null,
            "border": null,
            "bottom": null,
            "display": null,
            "flex": null,
            "flex_flow": null,
            "grid_area": null,
            "grid_auto_columns": null,
            "grid_auto_flow": null,
            "grid_auto_rows": null,
            "grid_column": null,
            "grid_gap": null,
            "grid_row": null,
            "grid_template_areas": null,
            "grid_template_columns": null,
            "grid_template_rows": null,
            "height": null,
            "justify_content": null,
            "justify_items": null,
            "left": null,
            "margin": null,
            "max_height": null,
            "max_width": null,
            "min_height": null,
            "min_width": null,
            "object_fit": null,
            "object_position": null,
            "order": null,
            "overflow": null,
            "overflow_x": null,
            "overflow_y": null,
            "padding": null,
            "right": null,
            "top": null,
            "visibility": null,
            "width": null
          }
        },
        "4a5e4f88d2a643b5b28a85adde4648b7": {
          "model_module": "@jupyter-widgets/controls",
          "model_name": "DescriptionStyleModel",
          "model_module_version": "1.5.0",
          "state": {
            "_model_module": "@jupyter-widgets/controls",
            "_model_module_version": "1.5.0",
            "_model_name": "DescriptionStyleModel",
            "_view_count": null,
            "_view_module": "@jupyter-widgets/base",
            "_view_module_version": "1.2.0",
            "_view_name": "StyleView",
            "description_width": ""
          }
        },
        "4ac442d89575451bb51d75d4aa17fc10": {
          "model_module": "@jupyter-widgets/controls",
          "model_name": "HBoxModel",
          "model_module_version": "1.5.0",
          "state": {
            "_dom_classes": [],
            "_model_module": "@jupyter-widgets/controls",
            "_model_module_version": "1.5.0",
            "_model_name": "HBoxModel",
            "_view_count": null,
            "_view_module": "@jupyter-widgets/controls",
            "_view_module_version": "1.5.0",
            "_view_name": "HBoxView",
            "box_style": "",
            "children": [
              "IPY_MODEL_a6ba73b9fe7343568d49a483b429f058",
              "IPY_MODEL_b018f1b82b3b46fab9a7a54c1db31126",
              "IPY_MODEL_f79a078f5b3346f29de18137ebd0b40e"
            ],
            "layout": "IPY_MODEL_155a9bd76d514f92bc3ef402e12e3f4a"
          }
        },
        "a6ba73b9fe7343568d49a483b429f058": {
          "model_module": "@jupyter-widgets/controls",
          "model_name": "HTMLModel",
          "model_module_version": "1.5.0",
          "state": {
            "_dom_classes": [],
            "_model_module": "@jupyter-widgets/controls",
            "_model_module_version": "1.5.0",
            "_model_name": "HTMLModel",
            "_view_count": null,
            "_view_module": "@jupyter-widgets/controls",
            "_view_module_version": "1.5.0",
            "_view_name": "HTMLView",
            "description": "",
            "description_tooltip": null,
            "layout": "IPY_MODEL_16cf66e5f2514f62a82539cc99a7d762",
            "placeholder": "​",
            "style": "IPY_MODEL_f29b1d7ff5234096b6a170a845ce7273",
            "value": "Downloading (…)lve/main/config.json: 100%"
          }
        },
        "b018f1b82b3b46fab9a7a54c1db31126": {
          "model_module": "@jupyter-widgets/controls",
          "model_name": "FloatProgressModel",
          "model_module_version": "1.5.0",
          "state": {
            "_dom_classes": [],
            "_model_module": "@jupyter-widgets/controls",
            "_model_module_version": "1.5.0",
            "_model_name": "FloatProgressModel",
            "_view_count": null,
            "_view_module": "@jupyter-widgets/controls",
            "_view_module_version": "1.5.0",
            "_view_name": "ProgressView",
            "bar_style": "success",
            "description": "",
            "description_tooltip": null,
            "layout": "IPY_MODEL_c901fc9923dd4d7f8e92794e8de2c470",
            "max": 535,
            "min": 0,
            "orientation": "horizontal",
            "style": "IPY_MODEL_24b4d9bf367e4832b57c5c595a82c11e",
            "value": 535
          }
        },
        "f79a078f5b3346f29de18137ebd0b40e": {
          "model_module": "@jupyter-widgets/controls",
          "model_name": "HTMLModel",
          "model_module_version": "1.5.0",
          "state": {
            "_dom_classes": [],
            "_model_module": "@jupyter-widgets/controls",
            "_model_module_version": "1.5.0",
            "_model_name": "HTMLModel",
            "_view_count": null,
            "_view_module": "@jupyter-widgets/controls",
            "_view_module_version": "1.5.0",
            "_view_name": "HTMLView",
            "description": "",
            "description_tooltip": null,
            "layout": "IPY_MODEL_cd88bcb264c94bb2b05812e7c6abac0a",
            "placeholder": "​",
            "style": "IPY_MODEL_28dea8111336475b8e23d38fba9b42ef",
            "value": " 535/535 [00:00&lt;00:00, 22.3kB/s]"
          }
        },
        "155a9bd76d514f92bc3ef402e12e3f4a": {
          "model_module": "@jupyter-widgets/base",
          "model_name": "LayoutModel",
          "model_module_version": "1.2.0",
          "state": {
            "_model_module": "@jupyter-widgets/base",
            "_model_module_version": "1.2.0",
            "_model_name": "LayoutModel",
            "_view_count": null,
            "_view_module": "@jupyter-widgets/base",
            "_view_module_version": "1.2.0",
            "_view_name": "LayoutView",
            "align_content": null,
            "align_items": null,
            "align_self": null,
            "border": null,
            "bottom": null,
            "display": null,
            "flex": null,
            "flex_flow": null,
            "grid_area": null,
            "grid_auto_columns": null,
            "grid_auto_flow": null,
            "grid_auto_rows": null,
            "grid_column": null,
            "grid_gap": null,
            "grid_row": null,
            "grid_template_areas": null,
            "grid_template_columns": null,
            "grid_template_rows": null,
            "height": null,
            "justify_content": null,
            "justify_items": null,
            "left": null,
            "margin": null,
            "max_height": null,
            "max_width": null,
            "min_height": null,
            "min_width": null,
            "object_fit": null,
            "object_position": null,
            "order": null,
            "overflow": null,
            "overflow_x": null,
            "overflow_y": null,
            "padding": null,
            "right": null,
            "top": null,
            "visibility": null,
            "width": null
          }
        },
        "16cf66e5f2514f62a82539cc99a7d762": {
          "model_module": "@jupyter-widgets/base",
          "model_name": "LayoutModel",
          "model_module_version": "1.2.0",
          "state": {
            "_model_module": "@jupyter-widgets/base",
            "_model_module_version": "1.2.0",
            "_model_name": "LayoutModel",
            "_view_count": null,
            "_view_module": "@jupyter-widgets/base",
            "_view_module_version": "1.2.0",
            "_view_name": "LayoutView",
            "align_content": null,
            "align_items": null,
            "align_self": null,
            "border": null,
            "bottom": null,
            "display": null,
            "flex": null,
            "flex_flow": null,
            "grid_area": null,
            "grid_auto_columns": null,
            "grid_auto_flow": null,
            "grid_auto_rows": null,
            "grid_column": null,
            "grid_gap": null,
            "grid_row": null,
            "grid_template_areas": null,
            "grid_template_columns": null,
            "grid_template_rows": null,
            "height": null,
            "justify_content": null,
            "justify_items": null,
            "left": null,
            "margin": null,
            "max_height": null,
            "max_width": null,
            "min_height": null,
            "min_width": null,
            "object_fit": null,
            "object_position": null,
            "order": null,
            "overflow": null,
            "overflow_x": null,
            "overflow_y": null,
            "padding": null,
            "right": null,
            "top": null,
            "visibility": null,
            "width": null
          }
        },
        "f29b1d7ff5234096b6a170a845ce7273": {
          "model_module": "@jupyter-widgets/controls",
          "model_name": "DescriptionStyleModel",
          "model_module_version": "1.5.0",
          "state": {
            "_model_module": "@jupyter-widgets/controls",
            "_model_module_version": "1.5.0",
            "_model_name": "DescriptionStyleModel",
            "_view_count": null,
            "_view_module": "@jupyter-widgets/base",
            "_view_module_version": "1.2.0",
            "_view_name": "StyleView",
            "description_width": ""
          }
        },
        "c901fc9923dd4d7f8e92794e8de2c470": {
          "model_module": "@jupyter-widgets/base",
          "model_name": "LayoutModel",
          "model_module_version": "1.2.0",
          "state": {
            "_model_module": "@jupyter-widgets/base",
            "_model_module_version": "1.2.0",
            "_model_name": "LayoutModel",
            "_view_count": null,
            "_view_module": "@jupyter-widgets/base",
            "_view_module_version": "1.2.0",
            "_view_name": "LayoutView",
            "align_content": null,
            "align_items": null,
            "align_self": null,
            "border": null,
            "bottom": null,
            "display": null,
            "flex": null,
            "flex_flow": null,
            "grid_area": null,
            "grid_auto_columns": null,
            "grid_auto_flow": null,
            "grid_auto_rows": null,
            "grid_column": null,
            "grid_gap": null,
            "grid_row": null,
            "grid_template_areas": null,
            "grid_template_columns": null,
            "grid_template_rows": null,
            "height": null,
            "justify_content": null,
            "justify_items": null,
            "left": null,
            "margin": null,
            "max_height": null,
            "max_width": null,
            "min_height": null,
            "min_width": null,
            "object_fit": null,
            "object_position": null,
            "order": null,
            "overflow": null,
            "overflow_x": null,
            "overflow_y": null,
            "padding": null,
            "right": null,
            "top": null,
            "visibility": null,
            "width": null
          }
        },
        "24b4d9bf367e4832b57c5c595a82c11e": {
          "model_module": "@jupyter-widgets/controls",
          "model_name": "ProgressStyleModel",
          "model_module_version": "1.5.0",
          "state": {
            "_model_module": "@jupyter-widgets/controls",
            "_model_module_version": "1.5.0",
            "_model_name": "ProgressStyleModel",
            "_view_count": null,
            "_view_module": "@jupyter-widgets/base",
            "_view_module_version": "1.2.0",
            "_view_name": "StyleView",
            "bar_color": null,
            "description_width": ""
          }
        },
        "cd88bcb264c94bb2b05812e7c6abac0a": {
          "model_module": "@jupyter-widgets/base",
          "model_name": "LayoutModel",
          "model_module_version": "1.2.0",
          "state": {
            "_model_module": "@jupyter-widgets/base",
            "_model_module_version": "1.2.0",
            "_model_name": "LayoutModel",
            "_view_count": null,
            "_view_module": "@jupyter-widgets/base",
            "_view_module_version": "1.2.0",
            "_view_name": "LayoutView",
            "align_content": null,
            "align_items": null,
            "align_self": null,
            "border": null,
            "bottom": null,
            "display": null,
            "flex": null,
            "flex_flow": null,
            "grid_area": null,
            "grid_auto_columns": null,
            "grid_auto_flow": null,
            "grid_auto_rows": null,
            "grid_column": null,
            "grid_gap": null,
            "grid_row": null,
            "grid_template_areas": null,
            "grid_template_columns": null,
            "grid_template_rows": null,
            "height": null,
            "justify_content": null,
            "justify_items": null,
            "left": null,
            "margin": null,
            "max_height": null,
            "max_width": null,
            "min_height": null,
            "min_width": null,
            "object_fit": null,
            "object_position": null,
            "order": null,
            "overflow": null,
            "overflow_x": null,
            "overflow_y": null,
            "padding": null,
            "right": null,
            "top": null,
            "visibility": null,
            "width": null
          }
        },
        "28dea8111336475b8e23d38fba9b42ef": {
          "model_module": "@jupyter-widgets/controls",
          "model_name": "DescriptionStyleModel",
          "model_module_version": "1.5.0",
          "state": {
            "_model_module": "@jupyter-widgets/controls",
            "_model_module_version": "1.5.0",
            "_model_name": "DescriptionStyleModel",
            "_view_count": null,
            "_view_module": "@jupyter-widgets/base",
            "_view_module_version": "1.2.0",
            "_view_name": "StyleView",
            "description_width": ""
          }
        },
        "9ff68d59006d46ca9e79049f5c310b56": {
          "model_module": "@jupyter-widgets/controls",
          "model_name": "HBoxModel",
          "model_module_version": "1.5.0",
          "state": {
            "_dom_classes": [],
            "_model_module": "@jupyter-widgets/controls",
            "_model_module_version": "1.5.0",
            "_model_name": "HBoxModel",
            "_view_count": null,
            "_view_module": "@jupyter-widgets/controls",
            "_view_module_version": "1.5.0",
            "_view_name": "HBoxView",
            "box_style": "",
            "children": [
              "IPY_MODEL_0b38211ce9d243af9659ed053ca40c00",
              "IPY_MODEL_9ad1252143f14afea53ef947219251d8",
              "IPY_MODEL_33ed674544a24656bde5862f81f4466e"
            ],
            "layout": "IPY_MODEL_925e86aa14c14a0f825cbf4807dfceb6"
          }
        },
        "0b38211ce9d243af9659ed053ca40c00": {
          "model_module": "@jupyter-widgets/controls",
          "model_name": "HTMLModel",
          "model_module_version": "1.5.0",
          "state": {
            "_dom_classes": [],
            "_model_module": "@jupyter-widgets/controls",
            "_model_module_version": "1.5.0",
            "_model_name": "HTMLModel",
            "_view_count": null,
            "_view_module": "@jupyter-widgets/controls",
            "_view_module_version": "1.5.0",
            "_view_name": "HTMLView",
            "description": "",
            "description_tooltip": null,
            "layout": "IPY_MODEL_f9fda7617888404098db78f3f9313903",
            "placeholder": "​",
            "style": "IPY_MODEL_09954d25b4644b2d9f09b7dbfedc7164",
            "value": "Downloading pytorch_model.bin: 100%"
          }
        },
        "9ad1252143f14afea53ef947219251d8": {
          "model_module": "@jupyter-widgets/controls",
          "model_name": "FloatProgressModel",
          "model_module_version": "1.5.0",
          "state": {
            "_dom_classes": [],
            "_model_module": "@jupyter-widgets/controls",
            "_model_module_version": "1.5.0",
            "_model_name": "FloatProgressModel",
            "_view_count": null,
            "_view_module": "@jupyter-widgets/controls",
            "_view_module_version": "1.5.0",
            "_view_name": "ProgressView",
            "bar_style": "success",
            "description": "",
            "description_tooltip": null,
            "layout": "IPY_MODEL_f4005ab03a0a46909ffdfaa2e7bc7c5d",
            "max": 368792544,
            "min": 0,
            "orientation": "horizontal",
            "style": "IPY_MODEL_895008e173e447a18dd34b54ab194d67",
            "value": 368792544
          }
        },
        "33ed674544a24656bde5862f81f4466e": {
          "model_module": "@jupyter-widgets/controls",
          "model_name": "HTMLModel",
          "model_module_version": "1.5.0",
          "state": {
            "_dom_classes": [],
            "_model_module": "@jupyter-widgets/controls",
            "_model_module_version": "1.5.0",
            "_model_name": "HTMLModel",
            "_view_count": null,
            "_view_module": "@jupyter-widgets/controls",
            "_view_module_version": "1.5.0",
            "_view_name": "HTMLView",
            "description": "",
            "description_tooltip": null,
            "layout": "IPY_MODEL_4bfe896e098a4d7fb1dd00280e41e492",
            "placeholder": "​",
            "style": "IPY_MODEL_c37308fc60404f8ca8e3410df4349376",
            "value": " 369M/369M [00:01&lt;00:00, 153MB/s]"
          }
        },
        "925e86aa14c14a0f825cbf4807dfceb6": {
          "model_module": "@jupyter-widgets/base",
          "model_name": "LayoutModel",
          "model_module_version": "1.2.0",
          "state": {
            "_model_module": "@jupyter-widgets/base",
            "_model_module_version": "1.2.0",
            "_model_name": "LayoutModel",
            "_view_count": null,
            "_view_module": "@jupyter-widgets/base",
            "_view_module_version": "1.2.0",
            "_view_name": "LayoutView",
            "align_content": null,
            "align_items": null,
            "align_self": null,
            "border": null,
            "bottom": null,
            "display": null,
            "flex": null,
            "flex_flow": null,
            "grid_area": null,
            "grid_auto_columns": null,
            "grid_auto_flow": null,
            "grid_auto_rows": null,
            "grid_column": null,
            "grid_gap": null,
            "grid_row": null,
            "grid_template_areas": null,
            "grid_template_columns": null,
            "grid_template_rows": null,
            "height": null,
            "justify_content": null,
            "justify_items": null,
            "left": null,
            "margin": null,
            "max_height": null,
            "max_width": null,
            "min_height": null,
            "min_width": null,
            "object_fit": null,
            "object_position": null,
            "order": null,
            "overflow": null,
            "overflow_x": null,
            "overflow_y": null,
            "padding": null,
            "right": null,
            "top": null,
            "visibility": null,
            "width": null
          }
        },
        "f9fda7617888404098db78f3f9313903": {
          "model_module": "@jupyter-widgets/base",
          "model_name": "LayoutModel",
          "model_module_version": "1.2.0",
          "state": {
            "_model_module": "@jupyter-widgets/base",
            "_model_module_version": "1.2.0",
            "_model_name": "LayoutModel",
            "_view_count": null,
            "_view_module": "@jupyter-widgets/base",
            "_view_module_version": "1.2.0",
            "_view_name": "LayoutView",
            "align_content": null,
            "align_items": null,
            "align_self": null,
            "border": null,
            "bottom": null,
            "display": null,
            "flex": null,
            "flex_flow": null,
            "grid_area": null,
            "grid_auto_columns": null,
            "grid_auto_flow": null,
            "grid_auto_rows": null,
            "grid_column": null,
            "grid_gap": null,
            "grid_row": null,
            "grid_template_areas": null,
            "grid_template_columns": null,
            "grid_template_rows": null,
            "height": null,
            "justify_content": null,
            "justify_items": null,
            "left": null,
            "margin": null,
            "max_height": null,
            "max_width": null,
            "min_height": null,
            "min_width": null,
            "object_fit": null,
            "object_position": null,
            "order": null,
            "overflow": null,
            "overflow_x": null,
            "overflow_y": null,
            "padding": null,
            "right": null,
            "top": null,
            "visibility": null,
            "width": null
          }
        },
        "09954d25b4644b2d9f09b7dbfedc7164": {
          "model_module": "@jupyter-widgets/controls",
          "model_name": "DescriptionStyleModel",
          "model_module_version": "1.5.0",
          "state": {
            "_model_module": "@jupyter-widgets/controls",
            "_model_module_version": "1.5.0",
            "_model_name": "DescriptionStyleModel",
            "_view_count": null,
            "_view_module": "@jupyter-widgets/base",
            "_view_module_version": "1.2.0",
            "_view_name": "StyleView",
            "description_width": ""
          }
        },
        "f4005ab03a0a46909ffdfaa2e7bc7c5d": {
          "model_module": "@jupyter-widgets/base",
          "model_name": "LayoutModel",
          "model_module_version": "1.2.0",
          "state": {
            "_model_module": "@jupyter-widgets/base",
            "_model_module_version": "1.2.0",
            "_model_name": "LayoutModel",
            "_view_count": null,
            "_view_module": "@jupyter-widgets/base",
            "_view_module_version": "1.2.0",
            "_view_name": "LayoutView",
            "align_content": null,
            "align_items": null,
            "align_self": null,
            "border": null,
            "bottom": null,
            "display": null,
            "flex": null,
            "flex_flow": null,
            "grid_area": null,
            "grid_auto_columns": null,
            "grid_auto_flow": null,
            "grid_auto_rows": null,
            "grid_column": null,
            "grid_gap": null,
            "grid_row": null,
            "grid_template_areas": null,
            "grid_template_columns": null,
            "grid_template_rows": null,
            "height": null,
            "justify_content": null,
            "justify_items": null,
            "left": null,
            "margin": null,
            "max_height": null,
            "max_width": null,
            "min_height": null,
            "min_width": null,
            "object_fit": null,
            "object_position": null,
            "order": null,
            "overflow": null,
            "overflow_x": null,
            "overflow_y": null,
            "padding": null,
            "right": null,
            "top": null,
            "visibility": null,
            "width": null
          }
        },
        "895008e173e447a18dd34b54ab194d67": {
          "model_module": "@jupyter-widgets/controls",
          "model_name": "ProgressStyleModel",
          "model_module_version": "1.5.0",
          "state": {
            "_model_module": "@jupyter-widgets/controls",
            "_model_module_version": "1.5.0",
            "_model_name": "ProgressStyleModel",
            "_view_count": null,
            "_view_module": "@jupyter-widgets/base",
            "_view_module_version": "1.2.0",
            "_view_name": "StyleView",
            "bar_color": null,
            "description_width": ""
          }
        },
        "4bfe896e098a4d7fb1dd00280e41e492": {
          "model_module": "@jupyter-widgets/base",
          "model_name": "LayoutModel",
          "model_module_version": "1.2.0",
          "state": {
            "_model_module": "@jupyter-widgets/base",
            "_model_module_version": "1.2.0",
            "_model_name": "LayoutModel",
            "_view_count": null,
            "_view_module": "@jupyter-widgets/base",
            "_view_module_version": "1.2.0",
            "_view_name": "LayoutView",
            "align_content": null,
            "align_items": null,
            "align_self": null,
            "border": null,
            "bottom": null,
            "display": null,
            "flex": null,
            "flex_flow": null,
            "grid_area": null,
            "grid_auto_columns": null,
            "grid_auto_flow": null,
            "grid_auto_rows": null,
            "grid_column": null,
            "grid_gap": null,
            "grid_row": null,
            "grid_template_areas": null,
            "grid_template_columns": null,
            "grid_template_rows": null,
            "height": null,
            "justify_content": null,
            "justify_items": null,
            "left": null,
            "margin": null,
            "max_height": null,
            "max_width": null,
            "min_height": null,
            "min_width": null,
            "object_fit": null,
            "object_position": null,
            "order": null,
            "overflow": null,
            "overflow_x": null,
            "overflow_y": null,
            "padding": null,
            "right": null,
            "top": null,
            "visibility": null,
            "width": null
          }
        },
        "c37308fc60404f8ca8e3410df4349376": {
          "model_module": "@jupyter-widgets/controls",
          "model_name": "DescriptionStyleModel",
          "model_module_version": "1.5.0",
          "state": {
            "_model_module": "@jupyter-widgets/controls",
            "_model_module_version": "1.5.0",
            "_model_name": "DescriptionStyleModel",
            "_view_count": null,
            "_view_module": "@jupyter-widgets/base",
            "_view_module_version": "1.2.0",
            "_view_name": "StyleView",
            "description_width": ""
          }
        }
      }
    }
  },
  "nbformat": 4,
  "nbformat_minor": 0
}