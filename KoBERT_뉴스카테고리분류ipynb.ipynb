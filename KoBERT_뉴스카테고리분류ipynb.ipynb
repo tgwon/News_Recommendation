{
  "cells": [
    {
      "cell_type": "markdown",
      "metadata": {
        "id": "view-in-github",
        "colab_type": "text"
      },
      "source": [
        "<a href=\"https://colab.research.google.com/github/ytg000629/daegu_bigdata/blob/main/KoBERT_%EB%89%B4%EC%8A%A4%EC%B9%B4%ED%85%8C%EA%B3%A0%EB%A6%AC%EB%B6%84%EB%A5%98ipynb.ipynb\" target=\"_parent\"><img src=\"https://colab.research.google.com/assets/colab-badge.svg\" alt=\"Open In Colab\"/></a>"
      ]
    },
    {
      "cell_type": "code",
      "source": [
        "!pip install git+https://git@github.com/SKTBrain/KoBERT.git@master"
      ],
      "metadata": {
        "colab": {
          "base_uri": "https://localhost:8080/"
        },
        "id": "_hZ5jDNU-Jya",
        "outputId": "fa8428d6-fb30-4343-be3d-2eb9cc5648e1"
      },
      "execution_count": 1,
      "outputs": [
        {
          "output_type": "stream",
          "name": "stdout",
          "text": [
            "Collecting git+https://****@github.com/SKTBrain/KoBERT.git@master\n",
            "  Cloning https://****@github.com/SKTBrain/KoBERT.git (to revision master) to /tmp/pip-req-build-xvcy4jy7\n",
            "  Running command git clone --filter=blob:none --quiet 'https://****@github.com/SKTBrain/KoBERT.git' /tmp/pip-req-build-xvcy4jy7\n",
            "  Resolved https://****@github.com/SKTBrain/KoBERT.git to commit 47a69af87928fc24e20f571fe10c3cc9dd9af9a3\n",
            "  Preparing metadata (setup.py) ... \u001b[?25l\u001b[?25hdone\n",
            "Collecting boto3<=1.15.18 (from kobert==0.2.3)\n",
            "  Downloading boto3-1.15.18-py2.py3-none-any.whl (129 kB)\n",
            "\u001b[2K     \u001b[90m━━━━━━━━━━━━━━━━━━━━━━━━━━━━━━━━━━━━━━━\u001b[0m \u001b[32m129.1/129.1 kB\u001b[0m \u001b[31m2.9 MB/s\u001b[0m eta \u001b[36m0:00:00\u001b[0m\n",
            "\u001b[?25hCollecting gluonnlp<=0.10.0,>=0.6.0 (from kobert==0.2.3)\n",
            "  Downloading gluonnlp-0.10.0.tar.gz (344 kB)\n",
            "\u001b[2K     \u001b[90m━━━━━━━━━━━━━━━━━━━━━━━━━━━━━━━━━━━━━━\u001b[0m \u001b[32m344.5/344.5 kB\u001b[0m \u001b[31m16.0 MB/s\u001b[0m eta \u001b[36m0:00:00\u001b[0m\n",
            "\u001b[?25h  Preparing metadata (setup.py) ... \u001b[?25l\u001b[?25hdone\n",
            "Collecting mxnet<=1.7.0.post2,>=1.4.0 (from kobert==0.2.3)\n",
            "  Downloading mxnet-1.7.0.post2-py2.py3-none-manylinux2014_x86_64.whl (54.7 MB)\n",
            "\u001b[2K     \u001b[90m━━━━━━━━━━━━━━━━━━━━━━━━━━━━━━━━━━━━━━━━\u001b[0m \u001b[32m54.7/54.7 MB\u001b[0m \u001b[31m13.8 MB/s\u001b[0m eta \u001b[36m0:00:00\u001b[0m\n",
            "\u001b[?25hINFO: pip is looking at multiple versions of kobert to determine which version is compatible with other requirements. This could take a while.\n",
            "\u001b[31mERROR: Could not find a version that satisfies the requirement onnxruntime<=1.8.0,==1.8.0 (from kobert) (from versions: 1.12.0, 1.12.1, 1.13.1, 1.14.0, 1.14.1, 1.15.0, 1.15.1)\u001b[0m\u001b[31m\n",
            "\u001b[0m\u001b[31mERROR: No matching distribution found for onnxruntime<=1.8.0,==1.8.0\u001b[0m\u001b[31m\n",
            "\u001b[0m"
          ]
        }
      ]
    },
    {
      "cell_type": "code",
      "source": [
        "# ★\n",
        "!pip install 'git+https://github.com/SKTBrain/KoBERT.git#egg=kobert_tokenizer&subdirectory=kobert_hf'"
      ],
      "metadata": {
        "colab": {
          "base_uri": "https://localhost:8080/"
        },
        "id": "IOyxc7TkDhjO",
        "outputId": "c8b25df2-bc06-43b3-abdf-aa542fe5c0d3"
      },
      "execution_count": 2,
      "outputs": [
        {
          "output_type": "stream",
          "name": "stdout",
          "text": [
            "Collecting kobert_tokenizer\n",
            "  Cloning https://github.com/SKTBrain/KoBERT.git to /tmp/pip-install-p1cpe4q1/kobert-tokenizer_6c7bbaeb7d5f4782b3f55600d7af756c\n",
            "  Running command git clone --filter=blob:none --quiet https://github.com/SKTBrain/KoBERT.git /tmp/pip-install-p1cpe4q1/kobert-tokenizer_6c7bbaeb7d5f4782b3f55600d7af756c\n",
            "  Resolved https://github.com/SKTBrain/KoBERT.git to commit 47a69af87928fc24e20f571fe10c3cc9dd9af9a3\n",
            "  Preparing metadata (setup.py) ... \u001b[?25l\u001b[?25hdone\n",
            "Building wheels for collected packages: kobert_tokenizer\n",
            "  Building wheel for kobert_tokenizer (setup.py) ... \u001b[?25l\u001b[?25hdone\n",
            "  Created wheel for kobert_tokenizer: filename=kobert_tokenizer-0.1-py3-none-any.whl size=4632 sha256=5cc8872731e5040b0e47c95084aa61e3f16d1744071f5cfe6ca3cf0184f02d4c\n",
            "  Stored in directory: /tmp/pip-ephem-wheel-cache-kb6wde_i/wheels/e9/1a/3f/a864970e8a169c176befa3c4a1e07aa612f69195907a4045fe\n",
            "Successfully built kobert_tokenizer\n",
            "Installing collected packages: kobert_tokenizer\n",
            "Successfully installed kobert_tokenizer-0.1\n"
          ]
        }
      ]
    },
    {
      "cell_type": "code",
      "source": [
        "!pip install mxnet\n",
        "#!pip install gluonnlp pandas tqdm\n",
        "!pip install gluonnlp==0.8.0\n",
        "!pip install sentencepiece==0.1.96\n",
        "!pip install transformers\n",
        "!pip install torch"
      ],
      "metadata": {
        "colab": {
          "base_uri": "https://localhost:8080/"
        },
        "id": "XysvTCPr-beR",
        "outputId": "8a6111f7-dc19-453a-d47f-7e4184e0318e"
      },
      "execution_count": 3,
      "outputs": [
        {
          "output_type": "stream",
          "name": "stdout",
          "text": [
            "Collecting mxnet\n",
            "  Downloading mxnet-1.9.1-py3-none-manylinux2014_x86_64.whl (49.1 MB)\n",
            "\u001b[2K     \u001b[90m━━━━━━━━━━━━━━━━━━━━━━━━━━━━━━━━━━━━━━━━\u001b[0m \u001b[32m49.1/49.1 MB\u001b[0m \u001b[31m12.6 MB/s\u001b[0m eta \u001b[36m0:00:00\u001b[0m\n",
            "\u001b[?25hRequirement already satisfied: numpy<2.0.0,>1.16.0 in /usr/local/lib/python3.10/dist-packages (from mxnet) (1.23.5)\n",
            "Requirement already satisfied: requests<3,>=2.20.0 in /usr/local/lib/python3.10/dist-packages (from mxnet) (2.31.0)\n",
            "Collecting graphviz<0.9.0,>=0.8.1 (from mxnet)\n",
            "  Downloading graphviz-0.8.4-py2.py3-none-any.whl (16 kB)\n",
            "Requirement already satisfied: charset-normalizer<4,>=2 in /usr/local/lib/python3.10/dist-packages (from requests<3,>=2.20.0->mxnet) (3.2.0)\n",
            "Requirement already satisfied: idna<4,>=2.5 in /usr/local/lib/python3.10/dist-packages (from requests<3,>=2.20.0->mxnet) (3.4)\n",
            "Requirement already satisfied: urllib3<3,>=1.21.1 in /usr/local/lib/python3.10/dist-packages (from requests<3,>=2.20.0->mxnet) (2.0.4)\n",
            "Requirement already satisfied: certifi>=2017.4.17 in /usr/local/lib/python3.10/dist-packages (from requests<3,>=2.20.0->mxnet) (2023.7.22)\n",
            "Installing collected packages: graphviz, mxnet\n",
            "  Attempting uninstall: graphviz\n",
            "    Found existing installation: graphviz 0.20.1\n",
            "    Uninstalling graphviz-0.20.1:\n",
            "      Successfully uninstalled graphviz-0.20.1\n",
            "Successfully installed graphviz-0.8.4 mxnet-1.9.1\n",
            "Collecting gluonnlp==0.8.0\n",
            "  Downloading gluonnlp-0.8.0.tar.gz (235 kB)\n",
            "\u001b[2K     \u001b[90m━━━━━━━━━━━━━━━━━━━━━━━━━━━━━━━━━━━━━━━\u001b[0m \u001b[32m235.5/235.5 kB\u001b[0m \u001b[31m3.1 MB/s\u001b[0m eta \u001b[36m0:00:00\u001b[0m\n",
            "\u001b[?25h  Preparing metadata (setup.py) ... \u001b[?25l\u001b[?25hdone\n",
            "Requirement already satisfied: numpy in /usr/local/lib/python3.10/dist-packages (from gluonnlp==0.8.0) (1.23.5)\n",
            "Building wheels for collected packages: gluonnlp\n",
            "  Building wheel for gluonnlp (setup.py) ... \u001b[?25l\u001b[?25hdone\n",
            "  Created wheel for gluonnlp: filename=gluonnlp-0.8.0-py3-none-any.whl size=292697 sha256=2bf44bf04f5d3dcf9ede8783713a40df28fa27700aed6663bb05efa434810911\n",
            "  Stored in directory: /root/.cache/pip/wheels/2d/cc/dc/7ec84dced25f738b8be400101abb67e4b50c905090a51017e4\n",
            "Successfully built gluonnlp\n",
            "Installing collected packages: gluonnlp\n",
            "Successfully installed gluonnlp-0.8.0\n",
            "Collecting sentencepiece==0.1.96\n",
            "  Downloading sentencepiece-0.1.96-cp310-cp310-manylinux_2_17_x86_64.manylinux2014_x86_64.whl (1.2 MB)\n",
            "\u001b[2K     \u001b[90m━━━━━━━━━━━━━━━━━━━━━━━━━━━━━━━━━━━━━━━━\u001b[0m \u001b[32m1.2/1.2 MB\u001b[0m \u001b[31m14.3 MB/s\u001b[0m eta \u001b[36m0:00:00\u001b[0m\n",
            "\u001b[?25hInstalling collected packages: sentencepiece\n",
            "Successfully installed sentencepiece-0.1.96\n",
            "Collecting transformers\n",
            "  Downloading transformers-4.31.0-py3-none-any.whl (7.4 MB)\n",
            "\u001b[2K     \u001b[90m━━━━━━━━━━━━━━━━━━━━━━━━━━━━━━━━━━━━━━━━\u001b[0m \u001b[32m7.4/7.4 MB\u001b[0m \u001b[31m17.6 MB/s\u001b[0m eta \u001b[36m0:00:00\u001b[0m\n",
            "\u001b[?25hRequirement already satisfied: filelock in /usr/local/lib/python3.10/dist-packages (from transformers) (3.12.2)\n",
            "Collecting huggingface-hub<1.0,>=0.14.1 (from transformers)\n",
            "  Downloading huggingface_hub-0.16.4-py3-none-any.whl (268 kB)\n",
            "\u001b[2K     \u001b[90m━━━━━━━━━━━━━━━━━━━━━━━━━━━━━━━━━━━━━━\u001b[0m \u001b[32m268.8/268.8 kB\u001b[0m \u001b[31m27.5 MB/s\u001b[0m eta \u001b[36m0:00:00\u001b[0m\n",
            "\u001b[?25hRequirement already satisfied: numpy>=1.17 in /usr/local/lib/python3.10/dist-packages (from transformers) (1.23.5)\n",
            "Requirement already satisfied: packaging>=20.0 in /usr/local/lib/python3.10/dist-packages (from transformers) (23.1)\n",
            "Requirement already satisfied: pyyaml>=5.1 in /usr/local/lib/python3.10/dist-packages (from transformers) (6.0.1)\n",
            "Requirement already satisfied: regex!=2019.12.17 in /usr/local/lib/python3.10/dist-packages (from transformers) (2023.6.3)\n",
            "Requirement already satisfied: requests in /usr/local/lib/python3.10/dist-packages (from transformers) (2.31.0)\n",
            "Collecting tokenizers!=0.11.3,<0.14,>=0.11.1 (from transformers)\n",
            "  Downloading tokenizers-0.13.3-cp310-cp310-manylinux_2_17_x86_64.manylinux2014_x86_64.whl (7.8 MB)\n",
            "\u001b[2K     \u001b[90m━━━━━━━━━━━━━━━━━━━━━━━━━━━━━━━━━━━━━━━━\u001b[0m \u001b[32m7.8/7.8 MB\u001b[0m \u001b[31m39.7 MB/s\u001b[0m eta \u001b[36m0:00:00\u001b[0m\n",
            "\u001b[?25hCollecting safetensors>=0.3.1 (from transformers)\n",
            "  Downloading safetensors-0.3.2-cp310-cp310-manylinux_2_17_x86_64.manylinux2014_x86_64.whl (1.3 MB)\n",
            "\u001b[2K     \u001b[90m━━━━━━━━━━━━━━━━━━━━━━━━━━━━━━━━━━━━━━━━\u001b[0m \u001b[32m1.3/1.3 MB\u001b[0m \u001b[31m44.4 MB/s\u001b[0m eta \u001b[36m0:00:00\u001b[0m\n",
            "\u001b[?25hRequirement already satisfied: tqdm>=4.27 in /usr/local/lib/python3.10/dist-packages (from transformers) (4.66.1)\n",
            "Requirement already satisfied: fsspec in /usr/local/lib/python3.10/dist-packages (from huggingface-hub<1.0,>=0.14.1->transformers) (2023.6.0)\n",
            "Requirement already satisfied: typing-extensions>=3.7.4.3 in /usr/local/lib/python3.10/dist-packages (from huggingface-hub<1.0,>=0.14.1->transformers) (4.7.1)\n",
            "Requirement already satisfied: charset-normalizer<4,>=2 in /usr/local/lib/python3.10/dist-packages (from requests->transformers) (3.2.0)\n",
            "Requirement already satisfied: idna<4,>=2.5 in /usr/local/lib/python3.10/dist-packages (from requests->transformers) (3.4)\n",
            "Requirement already satisfied: urllib3<3,>=1.21.1 in /usr/local/lib/python3.10/dist-packages (from requests->transformers) (2.0.4)\n",
            "Requirement already satisfied: certifi>=2017.4.17 in /usr/local/lib/python3.10/dist-packages (from requests->transformers) (2023.7.22)\n",
            "Installing collected packages: tokenizers, safetensors, huggingface-hub, transformers\n",
            "Successfully installed huggingface-hub-0.16.4 safetensors-0.3.2 tokenizers-0.13.3 transformers-4.31.0\n",
            "Requirement already satisfied: torch in /usr/local/lib/python3.10/dist-packages (2.0.1+cu118)\n",
            "Requirement already satisfied: filelock in /usr/local/lib/python3.10/dist-packages (from torch) (3.12.2)\n",
            "Requirement already satisfied: typing-extensions in /usr/local/lib/python3.10/dist-packages (from torch) (4.7.1)\n",
            "Requirement already satisfied: sympy in /usr/local/lib/python3.10/dist-packages (from torch) (1.12)\n",
            "Requirement already satisfied: networkx in /usr/local/lib/python3.10/dist-packages (from torch) (3.1)\n",
            "Requirement already satisfied: jinja2 in /usr/local/lib/python3.10/dist-packages (from torch) (3.1.2)\n",
            "Requirement already satisfied: triton==2.0.0 in /usr/local/lib/python3.10/dist-packages (from torch) (2.0.0)\n",
            "Requirement already satisfied: cmake in /usr/local/lib/python3.10/dist-packages (from triton==2.0.0->torch) (3.27.2)\n",
            "Requirement already satisfied: lit in /usr/local/lib/python3.10/dist-packages (from triton==2.0.0->torch) (16.0.6)\n",
            "Requirement already satisfied: MarkupSafe>=2.0 in /usr/local/lib/python3.10/dist-packages (from jinja2->torch) (2.1.3)\n",
            "Requirement already satisfied: mpmath>=0.19 in /usr/local/lib/python3.10/dist-packages (from sympy->torch) (1.3.0)\n"
          ]
        }
      ]
    },
    {
      "cell_type": "code",
      "source": [
        "!pip install sentencepiece"
      ],
      "metadata": {
        "colab": {
          "base_uri": "https://localhost:8080/"
        },
        "id": "AUnBQNOBCcDj",
        "outputId": "3038bec6-5870-485a-d694-e8212a512692"
      },
      "execution_count": 4,
      "outputs": [
        {
          "output_type": "stream",
          "name": "stdout",
          "text": [
            "Requirement already satisfied: sentencepiece in /usr/local/lib/python3.10/dist-packages (0.1.96)\n"
          ]
        }
      ]
    },
    {
      "cell_type": "code",
      "source": [
        "import torch\n",
        "from torch import nn\n",
        "import torch.nn.functional as F\n",
        "import torch.optim as optim\n",
        "from torch.utils.data import Dataset, DataLoader\n",
        "import gluonnlp as nlp\n",
        "import numpy as np\n",
        "from tqdm import tqdm\n",
        "from tqdm import notebook\n",
        "import string"
      ],
      "metadata": {
        "colab": {
          "base_uri": "https://localhost:8080/"
        },
        "id": "gZZHHGD3-Swz",
        "outputId": "12d75c5e-8bee-4f17-ecfa-04d193e3ac8c"
      },
      "execution_count": 5,
      "outputs": [
        {
          "output_type": "stream",
          "name": "stderr",
          "text": [
            "/usr/local/lib/python3.10/dist-packages/mxnet/optimizer/optimizer.py:163: UserWarning: WARNING: New optimizer gluonnlp.optimizer.lamb.LAMB is overriding existing optimizer mxnet.optimizer.optimizer.LAMB\n",
            "  warnings.warn('WARNING: New optimizer %s.%s is overriding '\n"
          ]
        }
      ]
    },
    {
      "cell_type": "code",
      "execution_count": 6,
      "metadata": {
        "id": "rSPlJnw2z0bF"
      },
      "outputs": [],
      "source": [
        "from sklearn.model_selection import train_test_split\n",
        "import re"
      ]
    },
    {
      "cell_type": "code",
      "source": [
        "## GPU\n",
        "device = torch.device(\"cuda:0\")"
      ],
      "metadata": {
        "id": "ZEhenseG-hdk"
      },
      "execution_count": 7,
      "outputs": []
    },
    {
      "cell_type": "code",
      "source": [
        "# ★ Hugging Face를 통한 모델 및 토크나이저 Import\n",
        "# from kobert_tokenizer import KoBERTTokenizer\n",
        "from transformers import BertModel\n",
        "\n",
        "from transformers import AdamW\n",
        "from transformers.optimization import get_cosine_schedule_with_warmup"
      ],
      "metadata": {
        "id": "qazR1x5u-4uB"
      },
      "execution_count": 8,
      "outputs": []
    },
    {
      "cell_type": "code",
      "execution_count": 9,
      "metadata": {
        "id": "UlWVirjstxOg"
      },
      "outputs": [],
      "source": [
        "#from transformers import BertModel, DistilBertModel\n",
        "#bert_model = BertModel.from_pretrained('monologg/kobert')\n",
        "#distilbert_model = DistilBertModel.from_pretrained('monologg/distilkobert')"
      ]
    },
    {
      "cell_type": "code",
      "source": [
        "from kobert_tokenizer import KoBERTTokenizer"
      ],
      "metadata": {
        "id": "BYjhP_RFDq5v"
      },
      "execution_count": 10,
      "outputs": []
    },
    {
      "cell_type": "code",
      "source": [
        "# ★\n",
        "tokenizer = KoBERTTokenizer.from_pretrained('skt/kobert-base-v1')\n",
        "bertmodel = BertModel.from_pretrained('skt/kobert-base-v1', return_dict=False)\n",
        "vocab = nlp.vocab.BERTVocab.from_sentencepiece(tokenizer.vocab_file, padding_token='[PAD]')"
      ],
      "metadata": {
        "colab": {
          "base_uri": "https://localhost:8080/",
          "height": 233,
          "referenced_widgets": [
            "cb91d4e8c1224acb8d40d53cf004e1b2",
            "8e664a2e34464fa3902a55e2fe19d414",
            "81516679286a4f448d760ce1ab08ed81",
            "a4d2005c194640299f851d462f547415",
            "ae9ab50134cf492080099e93f2681f67",
            "2f96094d363c4f21a4ce62046228d215",
            "83870ea8993d443491d758559a36dfec",
            "152b3e0ed1f54cb7998a42183416086e",
            "5adc7689869147c1a4e709a8d429c37c",
            "a891491ff1604f04a3dc2835c8954448",
            "262913665cca4455860dccb016a51743",
            "14207c6c7f84491db893a7970eabc687",
            "96b82a2081c64fd3b193b6d5bdebaac4",
            "223b8f17f58242209f0097fc0fd0bb8d",
            "74e028a5cb4c474c959e2eb074930dac",
            "14435ef4cd664ffc80eedeb99a6a5faa",
            "55e16564e9d340f6802e002b435f5cff",
            "a9325a84e4a741b8b4e6137ff158bd64",
            "f542f2fbbd51459caac0feac62d75f24",
            "7c392d18c4654b3abf9bf9e6fd3d566a",
            "67b3c2e371bf4ac184c21a46b41e577c",
            "c114938cbae2495ba79a30e987f4b0ee",
            "2395e04592444380a727bc7aef3647be",
            "8d819fe8af4e42ad99299c537d831b98",
            "0519e57d0b734be9bac88865e8038a37",
            "74a84297b7ea4f219dba4c61e7c324a1",
            "6ca40a1007f949af9721dd1748eeccc4",
            "a635e6678c3c4f838e67c0667937f7c8",
            "b98dc319acbc42d2948dae5d78489b1e",
            "d333784be4df44d2ac25908cfd4aaf3c",
            "f438a6562a664a8d86e1caed88ea52af",
            "c839ec13ae7c475fb6556168103a65da",
            "13655e11a70048c7a213af328522b956",
            "20975bbcd9364e7a9b06b592ca7e08af",
            "2b04e034f3614570966f8bbaddd4a43b",
            "820db01cba674aa0b8e7961d15d03ab9",
            "2f77927f425f418bb2b676d3455bd129",
            "54aff8cd3d4748b7a5914463ca14bbb1",
            "7ece1363aa2e4b90abe8ac80112e6216",
            "388e398857944851b368c0a4d0d029a8",
            "ca9dd7ff22f64bc7b8649349496db236",
            "7b63f5399d1c4c3985e3239be59acea2",
            "0afabdb60c504aa4b039ed7e34129a45",
            "6cdf2db18861497cb687ac21c8bc36d3",
            "1888325c588b4ff38cc45ea31b8ab12c",
            "276fc7366ad94069a81b0d9ebb94c658",
            "53b06052a75a40a6987ec7d48758b24d",
            "80c7b2bbccd9411680a865ae07ceaf02",
            "d152c4a5b6d94a039c0871d6f2d43031",
            "6fc990fab8474c93b08a83048f1fa5e8",
            "3cd7059baddc4b46bb0a07f1621435d7",
            "9ea96cc97c92455184f934272c850b37",
            "a7df7569347340fba086841d8f83684e",
            "7c5f15fe32f84a2d8d15979e27699c6a",
            "22c422e946ed443dbca4dff03054b0e7"
          ]
        },
        "id": "NDS0E1Ro_Tlp",
        "outputId": "a0e8a106-e71e-43ef-983f-bc978a0bb803"
      },
      "execution_count": 11,
      "outputs": [
        {
          "output_type": "display_data",
          "data": {
            "text/plain": [
              "Downloading (…)ve/main/spiece.model:   0%|          | 0.00/371k [00:00<?, ?B/s]"
            ],
            "application/vnd.jupyter.widget-view+json": {
              "version_major": 2,
              "version_minor": 0,
              "model_id": "cb91d4e8c1224acb8d40d53cf004e1b2"
            }
          },
          "metadata": {}
        },
        {
          "output_type": "display_data",
          "data": {
            "text/plain": [
              "Downloading (…)cial_tokens_map.json:   0%|          | 0.00/244 [00:00<?, ?B/s]"
            ],
            "application/vnd.jupyter.widget-view+json": {
              "version_major": 2,
              "version_minor": 0,
              "model_id": "14207c6c7f84491db893a7970eabc687"
            }
          },
          "metadata": {}
        },
        {
          "output_type": "display_data",
          "data": {
            "text/plain": [
              "Downloading (…)okenizer_config.json:   0%|          | 0.00/432 [00:00<?, ?B/s]"
            ],
            "application/vnd.jupyter.widget-view+json": {
              "version_major": 2,
              "version_minor": 0,
              "model_id": "2395e04592444380a727bc7aef3647be"
            }
          },
          "metadata": {}
        },
        {
          "output_type": "stream",
          "name": "stderr",
          "text": [
            "The tokenizer class you load from this checkpoint is not the same type as the class this function is called from. It may result in unexpected tokenization. \n",
            "The tokenizer class you load from this checkpoint is 'XLNetTokenizer'. \n",
            "The class this function is called from is 'KoBERTTokenizer'.\n"
          ]
        },
        {
          "output_type": "display_data",
          "data": {
            "text/plain": [
              "Downloading (…)lve/main/config.json:   0%|          | 0.00/535 [00:00<?, ?B/s]"
            ],
            "application/vnd.jupyter.widget-view+json": {
              "version_major": 2,
              "version_minor": 0,
              "model_id": "20975bbcd9364e7a9b06b592ca7e08af"
            }
          },
          "metadata": {}
        },
        {
          "output_type": "display_data",
          "data": {
            "text/plain": [
              "Downloading pytorch_model.bin:   0%|          | 0.00/369M [00:00<?, ?B/s]"
            ],
            "application/vnd.jupyter.widget-view+json": {
              "version_major": 2,
              "version_minor": 0,
              "model_id": "1888325c588b4ff38cc45ea31b8ab12c"
            }
          },
          "metadata": {}
        }
      ]
    },
    {
      "cell_type": "code",
      "execution_count": 44,
      "metadata": {
        "id": "5daesSK7uN6e",
        "colab": {
          "base_uri": "https://localhost:8080/"
        },
        "outputId": "70974271-34f1-4589-ab5d-9a9c99b4774d"
      },
      "outputs": [
        {
          "output_type": "stream",
          "name": "stdout",
          "text": [
            "Mounted at /content/drive\n"
          ]
        }
      ],
      "source": [
        "from google.colab import drive\n",
        "drive.mount('/content/drive')"
      ]
    },
    {
      "cell_type": "code",
      "execution_count": 13,
      "metadata": {
        "id": "ZoMM9jtPywVv"
      },
      "outputs": [],
      "source": [
        "import pandas as pd\n",
        "\n",
        "one = pd.read_csv('생활0.csv')\n",
        "two = pd.read_csv('IT_전자1.csv')\n",
        "three = pd.read_csv('의류_패션잡화2.csv')\n",
        "four = pd.read_csv('음식3.csv')\n",
        "five = pd.read_csv('문화4.csv')\n",
        "six = pd.read_csv('교육5.csv')"
      ]
    },
    {
      "cell_type": "code",
      "execution_count": 14,
      "metadata": {
        "id": "kjEARhGMAqmC"
      },
      "outputs": [],
      "source": [
        "df = [one, two, three, four, five, six]\n",
        "df = pd.concat(df, ignore_index=True)"
      ]
    },
    {
      "cell_type": "code",
      "execution_count": 15,
      "metadata": {
        "colab": {
          "base_uri": "https://localhost:8080/",
          "height": 206
        },
        "id": "iR03oGT5A0wQ",
        "outputId": "6f13320f-1306-4b0e-8cb9-06c633c3a617"
      },
      "outputs": [
        {
          "output_type": "execute_result",
          "data": {
            "text/plain": [
              "  company                                                url  \\\n",
              "0     머니S  https://n.news.naver.com/mnews/article/417/000...   \n",
              "1     뉴시스  https://n.news.naver.com/mnews/article/003/001...   \n",
              "2   스포츠서울  https://n.news.naver.com/mnews/article/468/000...   \n",
              "3    한국경제  https://n.news.naver.com/mnews/article/015/000...   \n",
              "4    동아일보  https://n.news.naver.com/mnews/article/020/000...   \n",
              "\n",
              "                                        title  \\\n",
              "0  '중국 앓이' 대기업 울고 '실속 챙긴' 중소기업 웃고… 희비 갈린 K-뷰티   \n",
              "1      '최대 66% 할인' 명품페스타…루트에너지 '태양광 펀드'[중기소식]   \n",
              "2             성남산업진흥원, 남다른상점 ‘성료’... 11월 또 개장   \n",
              "3            지금은 우리가 사모펀드처럼 투자할 때[김태엽의 PEF썰전]   \n",
              "4            “살려 달라”…대낮 서울 신림동 공원서 여성 때리고 성폭행   \n",
              "\n",
              "                                             content  label  \n",
              "0   [머니S리포트 - 판 커지는 K-뷰티(1)] ①'입소문' 난 중소 브랜드, K-뷰...      0  \n",
              "1   [서울=뉴시스] 대명아임레디 '명품 기획전'. (이미지=대명스테이션 제공) 202...      0  \n",
              "2   중소기업 유망브랜드 마켓 ‘남다른상점’. 제공=성남산업진흥원〔스포츠서울│성남=좌승...      0  \n",
              "3   [한경 CFO Insight]김태엽 어펄마캐피탈 한국대표 taeyub.kim@af...      0  \n",
              "4   서울 관악구 신림동의 도심 공원에서 여성을 무차별적으로 폭행한 후 성폭행까지 한 ...      0  "
            ],
            "text/html": [
              "\n",
              "  <div id=\"df-cf3b8e6b-eaee-4e87-b5ef-9783f54689a6\" class=\"colab-df-container\">\n",
              "    <div>\n",
              "<style scoped>\n",
              "    .dataframe tbody tr th:only-of-type {\n",
              "        vertical-align: middle;\n",
              "    }\n",
              "\n",
              "    .dataframe tbody tr th {\n",
              "        vertical-align: top;\n",
              "    }\n",
              "\n",
              "    .dataframe thead th {\n",
              "        text-align: right;\n",
              "    }\n",
              "</style>\n",
              "<table border=\"1\" class=\"dataframe\">\n",
              "  <thead>\n",
              "    <tr style=\"text-align: right;\">\n",
              "      <th></th>\n",
              "      <th>company</th>\n",
              "      <th>url</th>\n",
              "      <th>title</th>\n",
              "      <th>content</th>\n",
              "      <th>label</th>\n",
              "    </tr>\n",
              "  </thead>\n",
              "  <tbody>\n",
              "    <tr>\n",
              "      <th>0</th>\n",
              "      <td>머니S</td>\n",
              "      <td>https://n.news.naver.com/mnews/article/417/000...</td>\n",
              "      <td>'중국 앓이' 대기업 울고 '실속 챙긴' 중소기업 웃고… 희비 갈린 K-뷰티</td>\n",
              "      <td>[머니S리포트 - 판 커지는 K-뷰티(1)] ①'입소문' 난 중소 브랜드, K-뷰...</td>\n",
              "      <td>0</td>\n",
              "    </tr>\n",
              "    <tr>\n",
              "      <th>1</th>\n",
              "      <td>뉴시스</td>\n",
              "      <td>https://n.news.naver.com/mnews/article/003/001...</td>\n",
              "      <td>'최대 66% 할인' 명품페스타…루트에너지 '태양광 펀드'[중기소식]</td>\n",
              "      <td>[서울=뉴시스] 대명아임레디 '명품 기획전'. (이미지=대명스테이션 제공) 202...</td>\n",
              "      <td>0</td>\n",
              "    </tr>\n",
              "    <tr>\n",
              "      <th>2</th>\n",
              "      <td>스포츠서울</td>\n",
              "      <td>https://n.news.naver.com/mnews/article/468/000...</td>\n",
              "      <td>성남산업진흥원, 남다른상점 ‘성료’... 11월 또 개장</td>\n",
              "      <td>중소기업 유망브랜드 마켓 ‘남다른상점’. 제공=성남산업진흥원〔스포츠서울│성남=좌승...</td>\n",
              "      <td>0</td>\n",
              "    </tr>\n",
              "    <tr>\n",
              "      <th>3</th>\n",
              "      <td>한국경제</td>\n",
              "      <td>https://n.news.naver.com/mnews/article/015/000...</td>\n",
              "      <td>지금은 우리가 사모펀드처럼 투자할 때[김태엽의 PEF썰전]</td>\n",
              "      <td>[한경 CFO Insight]김태엽 어펄마캐피탈 한국대표 taeyub.kim@af...</td>\n",
              "      <td>0</td>\n",
              "    </tr>\n",
              "    <tr>\n",
              "      <th>4</th>\n",
              "      <td>동아일보</td>\n",
              "      <td>https://n.news.naver.com/mnews/article/020/000...</td>\n",
              "      <td>“살려 달라”…대낮 서울 신림동 공원서 여성 때리고 성폭행</td>\n",
              "      <td>서울 관악구 신림동의 도심 공원에서 여성을 무차별적으로 폭행한 후 성폭행까지 한 ...</td>\n",
              "      <td>0</td>\n",
              "    </tr>\n",
              "  </tbody>\n",
              "</table>\n",
              "</div>\n",
              "    <div class=\"colab-df-buttons\">\n",
              "\n",
              "  <div class=\"colab-df-container\">\n",
              "    <button class=\"colab-df-convert\" onclick=\"convertToInteractive('df-cf3b8e6b-eaee-4e87-b5ef-9783f54689a6')\"\n",
              "            title=\"Convert this dataframe to an interactive table.\"\n",
              "            style=\"display:none;\">\n",
              "\n",
              "  <svg xmlns=\"http://www.w3.org/2000/svg\" height=\"24px\" viewBox=\"0 -960 960 960\">\n",
              "    <path d=\"M120-120v-720h720v720H120Zm60-500h600v-160H180v160Zm220 220h160v-160H400v160Zm0 220h160v-160H400v160ZM180-400h160v-160H180v160Zm440 0h160v-160H620v160ZM180-180h160v-160H180v160Zm440 0h160v-160H620v160Z\"/>\n",
              "  </svg>\n",
              "    </button>\n",
              "\n",
              "  <style>\n",
              "    .colab-df-container {\n",
              "      display:flex;\n",
              "      gap: 12px;\n",
              "    }\n",
              "\n",
              "    .colab-df-convert {\n",
              "      background-color: #E8F0FE;\n",
              "      border: none;\n",
              "      border-radius: 50%;\n",
              "      cursor: pointer;\n",
              "      display: none;\n",
              "      fill: #1967D2;\n",
              "      height: 32px;\n",
              "      padding: 0 0 0 0;\n",
              "      width: 32px;\n",
              "    }\n",
              "\n",
              "    .colab-df-convert:hover {\n",
              "      background-color: #E2EBFA;\n",
              "      box-shadow: 0px 1px 2px rgba(60, 64, 67, 0.3), 0px 1px 3px 1px rgba(60, 64, 67, 0.15);\n",
              "      fill: #174EA6;\n",
              "    }\n",
              "\n",
              "    .colab-df-buttons div {\n",
              "      margin-bottom: 4px;\n",
              "    }\n",
              "\n",
              "    [theme=dark] .colab-df-convert {\n",
              "      background-color: #3B4455;\n",
              "      fill: #D2E3FC;\n",
              "    }\n",
              "\n",
              "    [theme=dark] .colab-df-convert:hover {\n",
              "      background-color: #434B5C;\n",
              "      box-shadow: 0px 1px 3px 1px rgba(0, 0, 0, 0.15);\n",
              "      filter: drop-shadow(0px 1px 2px rgba(0, 0, 0, 0.3));\n",
              "      fill: #FFFFFF;\n",
              "    }\n",
              "  </style>\n",
              "\n",
              "    <script>\n",
              "      const buttonEl =\n",
              "        document.querySelector('#df-cf3b8e6b-eaee-4e87-b5ef-9783f54689a6 button.colab-df-convert');\n",
              "      buttonEl.style.display =\n",
              "        google.colab.kernel.accessAllowed ? 'block' : 'none';\n",
              "\n",
              "      async function convertToInteractive(key) {\n",
              "        const element = document.querySelector('#df-cf3b8e6b-eaee-4e87-b5ef-9783f54689a6');\n",
              "        const dataTable =\n",
              "          await google.colab.kernel.invokeFunction('convertToInteractive',\n",
              "                                                    [key], {});\n",
              "        if (!dataTable) return;\n",
              "\n",
              "        const docLinkHtml = 'Like what you see? Visit the ' +\n",
              "          '<a target=\"_blank\" href=https://colab.research.google.com/notebooks/data_table.ipynb>data table notebook</a>'\n",
              "          + ' to learn more about interactive tables.';\n",
              "        element.innerHTML = '';\n",
              "        dataTable['output_type'] = 'display_data';\n",
              "        await google.colab.output.renderOutput(dataTable, element);\n",
              "        const docLink = document.createElement('div');\n",
              "        docLink.innerHTML = docLinkHtml;\n",
              "        element.appendChild(docLink);\n",
              "      }\n",
              "    </script>\n",
              "  </div>\n",
              "\n",
              "\n",
              "<div id=\"df-7bd12acc-0b6a-4c24-812c-1ecfeef378a8\">\n",
              "  <button class=\"colab-df-quickchart\" onclick=\"quickchart('df-7bd12acc-0b6a-4c24-812c-1ecfeef378a8')\"\n",
              "            title=\"Suggest charts.\"\n",
              "            style=\"display:none;\">\n",
              "\n",
              "<svg xmlns=\"http://www.w3.org/2000/svg\" height=\"24px\"viewBox=\"0 0 24 24\"\n",
              "     width=\"24px\">\n",
              "    <g>\n",
              "        <path d=\"M19 3H5c-1.1 0-2 .9-2 2v14c0 1.1.9 2 2 2h14c1.1 0 2-.9 2-2V5c0-1.1-.9-2-2-2zM9 17H7v-7h2v7zm4 0h-2V7h2v10zm4 0h-2v-4h2v4z\"/>\n",
              "    </g>\n",
              "</svg>\n",
              "  </button>\n",
              "\n",
              "<style>\n",
              "  .colab-df-quickchart {\n",
              "    background-color: #E8F0FE;\n",
              "    border: none;\n",
              "    border-radius: 50%;\n",
              "    cursor: pointer;\n",
              "    display: none;\n",
              "    fill: #1967D2;\n",
              "    height: 32px;\n",
              "    padding: 0 0 0 0;\n",
              "    width: 32px;\n",
              "  }\n",
              "\n",
              "  .colab-df-quickchart:hover {\n",
              "    background-color: #E2EBFA;\n",
              "    box-shadow: 0px 1px 2px rgba(60, 64, 67, 0.3), 0px 1px 3px 1px rgba(60, 64, 67, 0.15);\n",
              "    fill: #174EA6;\n",
              "  }\n",
              "\n",
              "  [theme=dark] .colab-df-quickchart {\n",
              "    background-color: #3B4455;\n",
              "    fill: #D2E3FC;\n",
              "  }\n",
              "\n",
              "  [theme=dark] .colab-df-quickchart:hover {\n",
              "    background-color: #434B5C;\n",
              "    box-shadow: 0px 1px 3px 1px rgba(0, 0, 0, 0.15);\n",
              "    filter: drop-shadow(0px 1px 2px rgba(0, 0, 0, 0.3));\n",
              "    fill: #FFFFFF;\n",
              "  }\n",
              "</style>\n",
              "\n",
              "  <script>\n",
              "    async function quickchart(key) {\n",
              "      const charts = await google.colab.kernel.invokeFunction(\n",
              "          'suggestCharts', [key], {});\n",
              "    }\n",
              "    (() => {\n",
              "      let quickchartButtonEl =\n",
              "        document.querySelector('#df-7bd12acc-0b6a-4c24-812c-1ecfeef378a8 button');\n",
              "      quickchartButtonEl.style.display =\n",
              "        google.colab.kernel.accessAllowed ? 'block' : 'none';\n",
              "    })();\n",
              "  </script>\n",
              "</div>\n",
              "    </div>\n",
              "  </div>\n"
            ]
          },
          "metadata": {},
          "execution_count": 15
        }
      ],
      "source": [
        "df.head()"
      ]
    },
    {
      "cell_type": "code",
      "execution_count": 16,
      "metadata": {
        "id": "sp7gQs_2q9Tc"
      },
      "outputs": [],
      "source": [
        "data_list = []\n",
        "for q, label in zip(df['content'], df['label'])  :\n",
        "    pro_data = []\n",
        "    pro_data.append(str(q))\n",
        "    pro_data.append(str(label))\n",
        "\n",
        "    data_list.append(pro_data)"
      ]
    },
    {
      "cell_type": "code",
      "execution_count": 17,
      "metadata": {
        "colab": {
          "base_uri": "https://localhost:8080/"
        },
        "id": "UBnTB6NcrBWM",
        "outputId": "6cec84d4-222a-41ef-a61d-face71fb8198"
      },
      "outputs": [
        {
          "output_type": "stream",
          "name": "stdout",
          "text": [
            "[' [머니S리포트 - 판 커지는 K-뷰티(1)] ①\\'입소문\\' 난 중소 브랜드, K-뷰티 아쉬움 채워[편집자주]아모레퍼시픽과 LG생활건강 등 대기업이 장악해 왔던 K-뷰티 시장에서 중소 화장품업체들이 주요 플레이어로 급부상했다. 엔데믹(감염병의 풍토병화) 이후 온라인 채널이 주요 판매 채널로 떠오르면서 톡톡 튀는 마케팅을 앞세운 중소업체의 약진이 두드러진 모습이다. K-뷰티가 해외시장에서 선전하면서 이들 제품의 제조를 맡은 화장품 ODM(제조자 개발생산)사도 웃음꽃이 피었다. K-뷰티의 인기가 높아지자 패션 기업 등이 브랜드를 론칭하거나 PB상품(Private Brand· 백화점, 마트, 편의점과 같은 대형 소매상이 매장 특성에 맞춰 자체 개발한 브랜드상품)을 선보이며 앞다퉈 시장에 뛰어들고 있다. 뷰티 대기업 실적이 악화되는 가운데 중소 뷰티 기업들의 상승세가 두드러진다. /그래픽=김은옥 기자 ◆기사 게재 순서①\\'중국 앓이\\' 대기업 울고 \\'실속 챙긴\\' 중소기업 웃고… 희비 갈린 K-뷰티②여전한 \\'궈차오\\', 중국 애국 소비 열풍에 우는 K-뷰티③\"전망 맑음\"… 화장품 제조업체 양대산맥 \\'한국콜마·코스맥스\\'K-뷰티 판도가 바뀌고 있다. K-뷰티 열풍의 중심이었던 중국에서 부진하면서 대기업들이 울상을 짓고 있다. 합리적인 가격에 탄탄한 제품력으로 입소문을 탄 중소기업들은 새로운 K-뷰티의 맥을 이어가려 한다. 한쪽이 흐리면 다른 한쪽이 빛을 내는 등 K-뷰티의 기상도가 다변화된 모습을 보인다.━ LG생활건강·아모레퍼시픽 \"옛날이 좋았지\"━ LG생활건강과 아모레퍼시픽이 실적 부진의 늪에 빠져 있다. 사진은 아모레퍼시픽 사옥. /사진=아모레퍼시픽 K-뷰티를 이끈 뷰티 대기업 LG생활건강과 아모레퍼시픽은 지난해부터 중국 매출 타격으로 인한 부진의 늪에서 빠져나오지 못하고 있다. LG생활건강은 2022년 매출(7조1858억원)과 영업이익(7111억원)이 각각 전년 대비 11.2%, 44.9% 감소했다. 18년 만에 역성장하면서 영업이익 1조원 클럽에서 내려왔다. 아모레퍼시픽그룹 역시 같은 기간 매출(4조4950억원)과 영업이익(2719억원)이 각각 15.6%, 23.7% 줄었다.올해 성적도 \\'흐림\\'이다. 아모레퍼시픽그룹은 2023년 2분기 매출이 1조308억원으로 지난해 같은 기간보다 0.4% 늘었고 영업이익은 117억원으로 흑자전환했다. LG생활건강은 매출(1조8077억원) 영업이익(1578억원)이 각각 3.0%, 27.1% 감소했다.두 뷰티 거인이 뒷걸음질을 친 이유는 매출 비중이 큰 중국에서 약세를 보였기 때문이다. 지난해의 경우 신종 코로나바이러스 감염증(코로나19) 변이 확산을 위한 당국의 대도시 봉쇄 조치가 내수 소비 침체로 이어졌다. 올해는 엔데믹(전염병의 풍토병화)으로 접어들었지만 중국 내 위상이 예전 같지 않아 매출 회복도 불투명해졌다. 올 2분기 실적의 경우 아모레퍼시픽의 면세 채널은 두 자릿수 매출 하락으로 부진했다. LG생활건강 역시 면세 매출이 두 자릿수 감소했고 중국 매출은 한 자릿수 역신장했다. 김성애 대한무역투자진흥공사 중국 베이징무역관은 \"수입 증가율과 수입시장 점유율 등을 비교해 볼 때 K-뷰티의 중국 수입시장 내 경쟁력이 약화 조짐을 보인다\"고 짚었다.━작지만 알차다… 기세 좋은 중소 뷰티 기업━ 클리오는 팬데믹 속에서 매출 성장을 이뤄냈다. 사진은 클리오 사옥. /사진=장동규 기자 대기업이 진땀을 빼는 동안 중소기업은 선전하고 있다. 매출 규모는 크지 않지만 실속을 챙겼다. 대부분 가성비(가격 대비 성능) 입소문을 타고 소비자들에게 호응을 얻었다. 지난 6월8일 코스닥 시장에 상장한 마녀공장은 기업공개(IPO) 시장 빙하기에도 상장 첫날 \\'따상\\'(시초가가 공모가 2배를 형성하고 상한가)을 기록했다. 마녀공장은 기초 화장품을 주로 선보인다. 특히 클렌징 제품에서 두각을 나타내고 있다. 대표 제품인 \\'퓨어 클렌징오일\\'은 누적 판매량 400만병을 넘어섰다.2012년 설립된 마녀공장은 10년 만인 2022년 매출 1000억원을 돌파했다. 지난해 매출은 1018억원으로 전년 대비 62.6% 증가했다. 같은 기간 영업이익은 245억원으로 영업이익률은 24.1%에 달한다. 마녀공장의 주력 시장은 한국과 일본이다. 지난해의 경우 매출 비중이 한국 44.7%, 해외 55.3%였다. 해외 매출에선 일본이 75.8%에 달한다. 중국 중심의 K-뷰티와 한한령 타격에서 비껴간다는 것도 강점으로 꼽힌다. 클리오, 마녀공장, 위시컴퍼니의 매출 추이. /그래픽=김은옥 기자 색조 화장품에서 강점을 보이는 클리오도 기세가 좋다. 국내·외에서 고른 매출 성장을 기록하며 최대 매출을 경신 중이다. 클리오 매출은 2019년 2505억원에서 2020년 2182억원으로 코로나19 여파로 잠시 주춤했으나 2021년 2327억원에 이어 2022년 2725억원을 기록하는 등 성장세다. 색조 화장품 수요가 급감한 팬데믹(세계적 감염병 대유행) 속에서도 매출 성장을 이뤄내 업계의 주목을 받았다.클리오는 올해 창립 30주년을 맞이했다. 클리오 관계자는 \"제품 교체주기가 짧고 트렌드 변화에 민감한 색조화장품 시장에서 제품 개발·디자인·마케팅 등에서 독보적인 경쟁력을 키워왔다\"며 \"중국, 일본, 미국, 동남아 외에도 유럽과 중동 등 신규 국가에 적극적으로 진출할 예정\"이라고 강조했다. 위시컴퍼니가 지난 6월 프랑스 파리 라파예트 백화점에서 진행한 팝업 이벤트 현장. /사진=위시컴퍼니 \\'디어, 클레어스\\'를 전개하는 위시컴퍼니는 국내보다 해외에서 더 유명하다. 매출의 80% 이상이 해외에서 발생한다. K-뷰티가 두각을 나타내기 전인 2013년부터 북미와 동남아에서 입지를 다졌다. 현재 60여개 국가에 진출해 8종의 밀리언셀러를 보유하고 있다.위시컴퍼니는 2021년까지 10년 연속 매출 성장세를 보였다. 2022년 잠시 주춤했으나 올 상반기의 경우 2021년 같은 기간보다 많은 매출을 기록하는 등 역대 최대 규모가 예상된다. 베트남 매출이 2배 이상 성장했고 북유럽 매출 비중이 커지고 있다. 유럽에서 인지도를 다지고 있는 몇 안되는 한국브랜드다.위시컴퍼니 관계자는 \"해외에서 인지도가 높은 이유는 10년째 활발히 운영 중인 콘텐츠 채널의 효과와 제품력, 브랜드 철학으로 분석된다\"며 \"콘텐츠 채널을 통해 고객과 소통하며 고객 의견을 바탕으로 제품을 개발하고 발전시켜왔다\"고 설명했다. 위시컴퍼니가 운영하는 채널의 팔로워는 855만명에 달하며 팔로워의 국적 분포도는 동남아 28%, 유럽 12%, 영어권 11% 등이다. ', '0']\n",
            "[' 윤석열 대통령이 시행 150여 일 앞둔 수능에 문제를 제기했다. 교육과정 밖 문항이 사교육 주범이라는 것이다. 교육 당국에 사실상 출제 지침을 지시했다. 교육계는 우려와 의문을 표한다. 2022학년도 대학수학능력시험이 치러진 서울 한 고등학교의 시험장 모습. ©시사IN 조남진‘한국은 전 국민이 교육정책 전문가’라는 말이 있다. ‘100명이 모이면 입시에 대한 견해도 100개’라고도 한다. 올해 대학수학능력시험(수능)에는 한 사람의 생각이 관철될 예정이다. 윤석열 대통령이다. 대통령은 수능 문제 일부가 교육과정 밖에서 출제된다고 판단해, 교육 당국에 개선을 지시했다. 구체적으로 ‘공교육 외 비문학 국어 문제와 과목 융합형 문제’를 문제 삼았다. 수능 도입 이래 정부 수반이 세부 출제 지침을 제시한 것은 유례가 없다. 시험을 불과 150여 일 앞두고 벌어진 일이다. 교육부는 “올해 수능부터 ‘킬러 문항’을 배제하겠다”라고 밝혔다.〈시사IN〉은 윤 대통령 발언이 나오기 전 수능 킬러 문항과 사교육 문제를 보도한 바 있다(〈시사IN〉 제821호 ‘기울어진 저울 위 춤추는 사교육’ 기사 참조). 킬러 문항은 정의가 모호한 개념이다. 넓게 보면 ‘몹시 어려운 문항’인데, ‘교과 이해도나 사고력보다 풀이 기술이 필요한 문항’이라고 보는 이도 있다. 수험생을 혼동하게 만드는 함정을 심거나 풀이에 들이는 시간을 극단적으로 늘린다. 킬러 문항이 비교육적이라는 데에는 교육계 인사 대부분이 동의한다. 그러나 윤석열 대통령이 주문한 ‘개선 방향’과 발언 시점에는 비판적인 이가 많다. 입시를 넘어, 국가 미래에 악영향을 끼칠 수 있는 사건이라는 평까지 나온다.갈등은 갑자기 불거졌다. 6월15일 윤 대통령은 이주호 사회부총리 겸 교육부 장관에게 “공교육을 넘어서는 분야 문제는 수능에서 배제해야 한다”라고 말했다. 교육개혁 방안을 보고받는 자리였다. 당초 교육부가 준비한 의제에 수능은 포함되지 않았다. 윤 대통령이 추가로 제기한 안건이었다. 이날 브리핑에서 이주호 부총리가 소개한 대통령 발언은 구체적이었고 강도도 높았다. “과도한 배경지식을 요구하거나 대학 전공 수준의 비문학 문항”을 비판하고, “교육 당국과 사교육 산업이 한편(카르텔)이란 말인가?”라고 질책했다. 6월15일 윤석열 대통령은 이주호 부총리에게 “공교육 교과과정에서 다루지 않는 분야는 수능에서 배제하라”고 지시했다.©대통령실통신사진기자단이후 상황은 숨 가쁘게 흘러갔다. 부총리 보고 다음 날인 6월16일 교육부는 대입 담당 국장을 대기발령 조치했다. 임명 6개월 만이다. 교육부는 총리실과 합동으로 한국교육과정평가원(평가원) 감사도 실시하겠다고 밝혔다. 사흘 뒤 이규민 평가원장은 사표를 던졌다. 교육부도 불똥을 피하지 못했다. 6월19일 이주호 부총리는 국회에서 열린 당정 협의회에서 대국민 사과를 했다. “지난 정부가 방치한 사교육 문제에 (…) 대통령이 여러 차례 지적했는데도 신속히 대책을 내놓지 못해 교육부 수장으로서 국민 여러분께 죄송하다”라고 말했다. 수능 출제기관 감사 결정과 책임자 사임, 교육부 대입 담당 공무원 교체와 부총리의 대국민 사과까지, 대통령 발언 이후 나흘 사이에 전개됐다.정부는 즉흥적 결정이 아니라고 밝힌다. 과거에도 윤석열 대통령은 교육과정 외 분야를 수능에서 배제하라고 지시했는데, 이행되지 않자 강경한 조치를 꺼내 들었다는 것이다. 계기는 지난 6월1일 실시한 수능 모의평가다. 6월 모의평가와 9월 모의평가는 평가원이 주관하는 모의고사로, 그해 수능과 가장 닮은 시험으로 평가받는다. 6월16일 장상윤 교육부 차관은 출입기자단 브리핑에서 “6월 모의평가를 준비하던 3월쯤부터 사교육비를 문제 인식의 기저로 공정하게 수능을 치러야 한다는 (대통령) 지시가 있었다. 6월 모의평가부터 이런 기조를 반영하도록 지시했는데 철저히 반영되지 못해 담당 국장에게 책임을 물었다”라고 말했다. 대통령실은 첫 지시 시점을 3월 이전으로 잡는다. “대통령은 이미 지난해부터 입시 전반에서 공교육 범위를 벗어난 문항을 제외하라고 교육부에 거듭 지시했다”라는 대통령실 관계자의 말이 보도됐다.실제 3월쯤부터 대통령이 수능에 대해 지시했는지, 그 내용이 무엇이었는지는 외부로 공개되지 않아 확인할 길이 없다. 그런데 이 해명을 받아들이더라도, ‘대통령의 지시를 교육부와 평가원이 이행하지 않았다’는 말에는 허점이 있다. 지시 불이행 여부를 누가 어떻게 판단했는지 분명치 않다.채점 결과 나오기도 전에 ‘지시 불이행’?정부가 문제 삼은 6월 모의평가는 아직 채점 결과가 나오지도 않았다. 평가원이 모의평가 시행부터 채점 결과를 발표하기까지는 보통 한 달여가 걸린다. 대통령은 평가 2주 뒤에 문제를 제기했다. 교육과정 밖 문제가 어느 정도 되는지, 수험생들이 어떻게 느꼈는지, 예년과 어떤 차이가 있었는지 따위를 분석하기에 이른 시점이다. “‘가채점’ 결과로 판단했다”라는 장상윤 교육부 차관의 말도 의문을 자아낸다. 분석도 끝나지 않은 가채점 결과가 어떻게 대통령에게 전해졌는지 알기 어렵다. 게다가 이주호 사회부총리 스스로 밝혔듯 6월15일 교육부의 대통령 보고에는 수능 관련 내용이 없었다. 이를 중요하고 긴급한 현안으로 여기지 않았다는 의미다. 이 부총리는 6월19일 당정 협의회에서도 “6월 모의고사(의 문제)는 분석 중이다. 어떤 부분에 문제가 있었는지 국민들께 소상히 말씀드리겠다”라고 말했다. 즉 평가원이나 교육부의 모의평가 분석 결과 나온 문제의식이 대통령에게 올라간 게 아니다. 윤석열 대통령이 모종의 과정을 통해 ‘수능에 문제가 있다’고 판단하게 되었고, 직접 정부 부처와 출제기관을 문책하고 있다.6월21일 국회 교육위원회 소속 민주당 의원들은 기자회견에서 정책 결정 과정을 비판했다. “언론과 교육부 홈페이지를 봐도 킬러 문항 금지 지시 사실은 찾을 수 없다. 사실이라 해도 이 중요한 문제를 ‘깜깜이’로 처리하려 했다는 건 문제다.” 이재명 대표는 같은 날 당 최고위원회의에서 대통령의 ‘발언 시점’을 문제 삼았다. “수능 5개월 앞둔 수험생은 발을 구르고 학부모는 속이 타들어간다. 대통령의 한마디에 교육 현장은 아수라장이 됐다.” 6월21일 이주호 사회부총리 겸 교육부 장관은 ‘공교육 경쟁력 제고 방안’을 발표했다.©연합뉴스킬러 문항이 사라지면 어떤 일이 벌어질까? 윤 대통령 이전부터 킬러 문항의 해악을 지적해온 교육계 전문가 중 몇몇은 의외로 “큰 입시 혼란은 없을 것”이라고 본다. 이른바 ‘물수능(매우 쉬운 수능)’에 따른 변별력 약화가 기우라는 것이다. 구본창 사교육걱정없는세상 정책대안연구소장은 이렇게 말했다. “상대평가에서 킬러 문항이 없다고 수능이 쉬워지지는 않는다. 백 보 양보해 난도가 떨어진다고 해도 입시 혼란은 없다. ‘역대급 물수능’이라는 보도가 나올 때도 변별은 이루어졌다.” 교육평론가 이범씨 역시 견해가 비슷하다. 그는 “전 과목 만점자가 수십 명 나오던 때도 여러 번 있었지만 정시 변별력을 가리는 데에는 전혀 문제가 없었다. 대학별 동점자 처리 기준을 활용하면 된다”라고 말했다. 다만 “등급을 나누기 위해 여타 문항의 난도를 조금씩만 높이는 묘기를 부려야 한다. 평가원이 애를 먹을 것이다. 1년쯤 전에 지시했으면 더 좋았을 것”이라고 덧붙였다.킬러 문항의 폐해를 선제적으로 비판해온 사교육걱정없는세상 2028 대입포럼 문호진 연구원 주장은 뉘앙스가 조금 다르다. “킬러 문항을 없애라는 대통령 지시는 유효한 방향이다. 다만 킬러 문항이 무엇인지 교통정리가 되어 있다는 전제하에 그렇다”라고 말했다. 그가 말하는 킬러 문항은 단순한 고난도 문제가 아니다. ‘공교육만 받아서는 풀기 어렵지만 출제 역량을 갖춘 일부 사교육 업체는 대비할 수 있는 문항’이 문제라고 문 연구원은 본다. 이런 ‘패턴화된 고난도 문제’를 제거해야 사교육의 힘이 빠진다는 것이다.대통령이 주도적으로 제기한 문제의식은 어디를 향할까? 대통령실이 밝힌 윤석열 대통령의 정확한 지시는 “공교육 교과과정에서 다루지 않는 분야를 수능에서 배제하라”였다. 구체적으로 “공교육 교과과정에서 아예 다루지 않는 비문학 국어 문제나, 학교에서 도저히 가르칠 수 없는 과목 융합형 문제 출제”를 비판했다. 즉, ‘수능 출제 범위가 공교육 안인지 밖인지’가 윤 대통령의 주된 관심사다. 일부 비문학 국어 문제와 과목 융합형 문제는 ‘공교육 밖 문제의 예시’다. 이런 문제가 없으면 사교육이 줄어들까? 국민의힘 교육위 간사 이태규 의원은 그렇게 본다. 6월20일 KBS 라디오에 출연해 이렇게 말했다. “공교육 과정 내에서 수능 변별력을 갖추라고 하면 가장 혼란스러운 사람은 대형 입시학원 사교육 업자다. 자기네들 영역이 없어지기 때문이다. 이걸 전체 학부모나 학생의 혼란이라고 주장해선 안 된다.”하지만 사교육 업계의 내밀한 속내는 정부·여당의 예상과 좀 다르다. 문호진 연구원이 지적한 ‘대형 사교육 업체의 역량’이 오히려 부각될 수 있다는 관측이 나온다. 대통령이 직접 예로 든 국어 과목이 특히 그렇다. 대치동 대형 학원의 국어 강사 A씨는 “문항 개발 역량이 있는 대형 사교육 업체에게 이번 지시는 환영할 일”이라고 말했다. 왜 그럴까? A 강사의 논리는 이렇다. 사교육이 공교육보다 우위인 점은 문항 개발 능력이다. 학원 강사가 고등학교 교사보다 뛰어난 역량을 갖췄다는 의미가 아니다. 대치동 학원은 매해 수능과 평가원 모의고사, 시중 문제집을 분석해 ‘수능 같은 문제’를 만들어내야 생존한다. 수준과 진로가 다른 학생들을 모아 가르치는 교사는 도저히 할 수 없는 일이다.사교육비 절감 효과도 불분명사실 이제까지 국어 과목 사교육이 처한 가장 큰 난제가 바로 시험범위였다고 A 강사는 말한다. “수능 비문학에서 어떤 기상천외한 지문이 나올지 알 수 없다. 고난도 지문을 ‘제로 베이스’에서 직접 쓰는 게 우리 일인데, 수능처럼 만들기 매우 까다롭다.” 대통령 말처럼 ‘대학 전공 수준의 비문학 문항’, ‘학교에서 도저히 가르칠 수 없는 과목 융합형 문제’를 배제하면 어떻게 될까? “압박을 받은 평가원으로서는 EBS 교재의 지문을 변형해 문제를 내는 게 안전하다. 예측 가능한 범위 내에서 출제될 법한 고난도 문제를 모조리 만들어 수험생에게 연습시키는 것, 이건 사교육의 전문 분야다.”윤석열 대통령이 ‘교과과정에서 다루지 않는 비문학 국어 문제’와 함께 킬러 문항의 유형으로 든 다른 예시는 ‘학교에서 도저히 가르칠 수 없는 과목 융합형 문제’다. 윤 대통령이 이 유형을 언급한 게 더 우려스러운 대목이라고 보는 시각도 있다. 수능 이전 학력고사로의 퇴행을 의미한다고 해석이 가능하기 때문이다. 6월20일 사교육걱정없는세상이 주관한 ‘대입 당사자가 함께하는 위풍당당 2028 대입 포럼 콘퍼런스’.©시사IN 박미소‘과목 융합형 평가’란 말 그대로 여러 과목의 개념을 결합해 묻는 시험이다. 예컨대 국어 시험에서 과학이나 경제에 대한 지문을 주고, 요지를 파악하고 생략된 바를 추론하게 하는 것이다. 이 평가 방식은 단순히 국어와 수학, 사회와 물리를 두루 잘 아는지 가늠하기 위해 설계된 게 아니다. 암기된 지식이 아닌 사고력과 응용력을 측정하기 위해 고안됐다. 목적에 충실하다면 지문이 대학이나 그 이상 수준이라도 문제 될 게 없다. 도리어 이롭다. 처음 보는 지문을 해독하는 것은 ‘대학 수학 능력’의 기본이며, 이 능력을 측정하기 위해 수능이 탄생했다고 학자들은 입을 모은다.김성천 한국교원대 교수(교육정책학)는 “공교육을 벗어난 킬러 문항 출제는 정의롭지 않은 입시가 맞다”라면서도, 대통령의 과목 융합형 평가 비판에 대해서는 부정적으로 본다. 현 교육과정의 취지와 맞지 않는다는 이유다. “교육과정 전반이 분과 학문에서 교과 융합형으로 전환되는 추세인 상황에서 이런 문항을 배제하기는 어렵다.” 실제 지난해 교육부가 내놓은 교육과정 고시에는 ‘타 교과와의 통합’ ‘다른 교과와의 연계’ ‘주제 통합적 수업’ 등 과목 융합적 교육을 권장하는 문구가 다수다. 김 교수는 “윤석열 대통령이 학력고사 관점을 가진 듯하다”라고 말했다. “수능 이전의 학력고사는 개별 과목의 교과서 지식만 중심으로 교육하고 평가했다. 사고력을 측정하는 데에 한계가 있다고 여겨 수능을 만들고, 과목 융합적 교육과정으로 전환한 것이다.”그래서 수능 출제기관에게 윤석열 대통령의 지시는 딜레마다. 대통령은 과목 융합형 문제를 콕 집어 비판했는데, 교육과정상 고교 교육 성취도를 온전히 평가하려면 교과 융합적 사고력을 물을 수밖에 없다. 출제자는 교육과 평가의 불일치를 감수하거나 대통령 뜻을 어겨야 한다.대통령 지시에 따라 ‘학력고사식’으로 수능을 바꾸고, 그 수능에 맞춰 학교를 바꾸면 어떨까. 입시 공정성을 이유로 교과 융합적 사고력을 가르치지 않는 교육은 어떤 결과를 가져올까? 2003년부터 10년 이상 서울대 입학본부에 몸 담은 김경범 교수(서어서문학과)는 ‘다양성’의 실종을 가장 두려워한다. 대학에 오는 인재들이 획일화된다는 것이다. “우선 생각이 획일화된다. 낯선 지문을 읽고 사고력을 적용하는 능력을 배제하되 변별은 유지해야 하니, 교육과정 내에서 배운 지식을 암기하는 데 치중한다. 학생 출신의 획일화도 부른다. 변별이 유지되는 한 사교육 영향은 사라지지 않으며 강남 지역, 특목고·자사고 학생들의 유리함이 계속된다. 비슷한 아이들이 대학에 간다.”다양성은 공정한 입시나 사교육비 경감보다 더 무거운 의제이며, 그 기원은 30여 년 전 5·31 교육개혁까지 거슬러 올라간다. ‘학력고사 체제로는 미래를 준비하기 어렵다’는 데 사회 전반이 합의했다. 그때 정치와 관료, 학자들이 구상한 대안을 역행한 게 바로 윤석열 대통령의 이번 발언이다. 김경범 교수는 이렇게 말했다. “먹고사는 데에는 새로운 산업, 새로운 지식이 필요하다. 새로운 지식은 창의력에서 나오며 창의력의 밑바탕이 다양성이다. 똑같은 지향점을 가진 아이들이 새로운 길을 제시할 수는 없다. 교육정책에 국가의 앞날을 보는 철학이 없으면 가난한 미래가 온다.”윤석열 대통령 지시가 올해 입시에 어떤 영향을 줄지는 알 수 없다. 출제 경향이 바뀌어도 어떤 방식으로든 변별력은 유지될 가능성이 높으며, 여기 적응하는 사교육은 살아남을 것이다. 이번 일의 파장은 더 중장기적으로, 사회 전반을 살펴야 온전히 보일 수도 있다. 윤 대통령이나 후임 정부가 출제 지침을 바꿀 때 되풀이될 논란은 그래도 대체로 예측이 가능한 편이다.정말 예측이 어렵고 불길한 것은 ‘공정한 변별력’이라는 외피를 쓴 암기식 평가가 귀환하고 지속되었을 때, 우리 미래 사회가 떠안을 손해와 퇴행이다. 장기적 안목과 사회적 합의가 필요한, 교육과 미래의 방향을 정하는 작업을 6월15일 윤석열 대통령은 거침없이 주관대로 밀어붙였다. 비전문가인 대통령이 불분명한 근거를 바탕으로 투명치 못한 과정을 거쳐 교통정리를 단행한 게 이번 일의 본질이다. 이 ‘교통경찰관’이 대통령이었다는 사실을 훗날 한국 사회는 비극으로 여기게 될지 모른다. ', '5']\n"
          ]
        }
      ],
      "source": [
        "print(data_list[0])\n",
        "print(data_list[-1])"
      ]
    },
    {
      "cell_type": "code",
      "execution_count": 18,
      "metadata": {
        "id": "Oyui9spv_XDI"
      },
      "outputs": [],
      "source": [
        "#불용어 사전 구축 후 사용\n",
        "with open('/content/korean_stopwords.txt','r',encoding='utf-8-sig') as f:\n",
        "    stopwords_list=[]\n",
        "    example =f.readlines()\n",
        "    for line in example:\n",
        "        stopwords_list.append(line.strip())"
      ]
    },
    {
      "cell_type": "code",
      "execution_count": 19,
      "metadata": {
        "id": "9YRvENmJ_YPU"
      },
      "outputs": [],
      "source": [
        "#불용어 더 추가해서 사용\n",
        "korean_stopwords='아 휴 아이구 아이쿠 아이고 어 나 우리 저희 따라 의해 을 를 에 의 가 으로 로 에게 뿐이다 의거하여 근거하여 입각하여 기준으로 예하면 예를 들면 예를 들자면 저 소인 소생 저희 지말고 하지마 하지마라 다른 물론 또한 그리고 비길수 없다 해서는 안된다 뿐만 아니라 만이 아니다 만은 아니다 막론하고 관계없이 그치지 않다 그러나 그런데 하지만 든간에 논하지 않다 따지지 않다 설사 비록 더라도 아니면 만 못하다 하는 편이 낫다 불문하고 향하여 향해서 향하다 쪽으로 틈타 이용하여 타다 오르다 제외하고 이 외에 이 밖에 하여야 비로소 한다면 몰라도 외에도 이곳 여기 부터 기점으로 따라서 할 생각이다 하려고하다 이리하여 그리하여 그렇게 함으로써 하지만 일때 할때 앞에서 중에서 보는데서 으로써 로써 까지 해야한다 일것이다 반드시 할줄알다 할수있다 할수있어 임에 틀림없다 한다면 등 등등 제 겨우 단지 다만 할뿐 딩동 댕그 대해서 대하여 대하면 훨씬 얼마나 얼마만큼 얼마큼 남짓 여 얼마간 약간 다소 좀 조금 다수 몇 얼마 지만 하물며 또한 그러나 그렇지만 하지만 이외에도 대해 말하자면 뿐이다 다음에 반대로 반대로 말하자면 이와 반대로 바꾸어서 말하면 바꾸어서 한다면 만약 그렇지않으면 까악 툭 딱 삐걱거리다 보드득 비걱거리다 꽈당 응당 해야한다 에 가서 각 각각 여러분 각종 각자 제각기 하도록하다 와 과 그러므로 그래서 고로 한 까닭에 하기 때문에 거니와 이지만 대하여 관하여 관한 과연 실로 아니나다를가 생각한대로 진짜로 한적이있다 하곤하였다 하 하하 허허 아하 거바 와 오 왜 어째서 무엇때문에 어찌 하겠는가 무슨 어디 어느곳 더군다나 하물며 더욱이는 어느때 언제 야 이봐 어이 여보시오 흐흐 흥 휴 헉헉 헐떡헐떡 영차 여차 어기여차 끙끙 아야 앗 아야 콸콸 졸졸 좍좍 뚝뚝 주룩주룩 솨 우르르 그래도 또 그리고 바꾸어말하면 바꾸어말하자면 혹은 혹시 답다 및 그에 따르는 때가 되어 즉 지든지 설령 가령 하더라도 할지라도 일지라도 지든지 몇 거의 하마터면 인젠 이젠 된바에야 된이상 만큼 어찌됏든 그위에 게다가 점에서 보아 비추어 보아 고려하면 하게될것이다 일것이다 비교적 좀 보다더 비하면 시키다 하게하다 할만하다 의해서 연이서 이어서 잇따라 뒤따라 뒤이어 결국 의지하여 기대여 통하여 자마자 더욱더 불구하고 얼마든지 마음대로 주저하지 않고 곧 즉시 바로 당장 하자마자 밖에 안된다 하면된다 그래 그렇지 요컨대 다시 말하자면 바꿔 말하면 즉 구체적으로 말하자면 시작하여 시초에 이상 허 헉 허걱 바와같이 해도좋다 해도된다 게다가 더구나 하물며 와르르 팍 퍽 펄렁 동안 이래 하고있었다 이었다 에서 로부터 까지 예하면 했어요 해요 함께 같이 더불어 마저 마저도 양자 모두 습니다 가까스로 하려고하다 즈음하여 다른 다른 방면으로 해봐요 습니까 했어요 말할것도 없고 무릎쓰고 개의치않고 하는것만 못하다 하는것이 낫다 매 매번 들 모 어느것 어느 로써 갖고말하자면 어디 어느쪽 어느것 어느해 어느 년도 라 해도 언젠가 어떤것 어느것 저기 저쪽 저것 그때 그럼 그러면 요만한걸 그래 그때 저것만큼 그저 이르기까지 할 줄 안다 할 힘이 있다 너 너희 당신 어찌 설마 차라리 할지언정 할지라도 할망정 할지언정 구토하다 게우다 토하다 메쓰겁다 옆사람 퉤 쳇 의거하여 근거하여 의해 따라 힘입어 그 다음 버금 두번째로 기타 첫번째로 나머지는 그중에서 견지에서 형식으로 쓰여 입장에서 위해서 단지 의해되다 하도록시키다 뿐만아니라 반대로 전후 전자 앞의것 잠시 잠깐 하면서 그렇지만 다음에 그러한즉 그런즉 남들 아무거나 어찌하든지 같다 비슷하다 예컨대 이럴정도로 어떻게 만약 만일 위에서 서술한바와같이 인 듯하다 하지 않는다면 만약에 무엇 무슨 어느 어떤 아래윗 조차 한데 그럼에도 불구하고 여전히 심지어 까지도 조차도 하지 않도록 않기 위하여 때 시각 무렵 시간 동안 어때 어떠한 하여금 네 예 우선 누구 누가 알겠는가 아무도 줄은모른다 줄은 몰랏다 하는 김에 겸사겸사 하는바 그런 까닭에 한 이유는 그러니 그러니까 때문에 그 너희 그들 너희들 타인 것 것들 너 위하여 공동으로 동시에 하기 위하여 어찌하여 무엇때문에 붕붕 윙윙 나 우리 엉엉 휘익 윙윙 오호 아하 어쨋든 만 못하다 하기보다는 차라리 하는 편이 낫다 흐흐 놀라다 상대적으로 말하자면 마치 아니라면 쉿 그렇지 않으면 그렇지 않다면 안 그러면 아니었다면 하든지 아니면 이라면 좋아 알았어 하는것도 그만이다 어쩔수 없다 하나 일 일반적으로 일단 한켠으로는 오자마자 이렇게되면 이와같다면 전부 한마디 한항목 근거로 하기에 아울러 하지 않도록 않기 위해서 이르기까지 이 되다 로 인하여 까닭으로 이유만으로 이로 인하여 그래서 이 때문에 그러므로 그런 까닭에 알 수 있다 결론을 낼 수 있다 으로 인하여 있다 어떤것 관계가 있다 관련이 있다 연관되다 어떤것들 에 대해 이리하여 그리하여 여부 하기보다는 하느니 하면 할수록 운운 이러이러하다 하구나 하도다 다시말하면 다음으로 에 있다 에 달려 있다 우리 우리들 오히려 하기는한데 어떻게 어떻해 어찌됏어 어때 어째서 본대로 자 이 이쪽 여기 이것 이번 이렇게말하자면 이런 이러한 이와 같은 요만큼 요만한 것 얼마 안 되는 것 이만큼 이 정도의 이렇게 많은 것 이와 같다 이때 이렇구나 것과 같이 끼익 삐걱 따위 와 같은 사람들 부류의 사람들 왜냐하면 중의하나 오직 오로지 에 한하다 하기만 하면 도착하다 까지 미치다 도달하다 정도에 이르다 할 지경이다 결과에 이르다 관해서는 여러분 하고 있다 한 후 혼자 자기 자기집 자신 우에 종합한것과같이 총적으로 보면 총적으로 말하면 총적으로 대로 하다 으로서 참 그만이다 할 따름이다 쿵 탕탕 쾅쾅 둥둥 봐 봐라 아이야 아니 와아 응 아이 참나 년 월 일 령 영 일 이 삼 사 오 육 륙 칠 팔 구 이천육 이천칠 이천팔 이천구 하나 둘 셋 넷 다섯 여섯 일곱 여덟 아홉 령 영 이 있 하 것 들 그 되 수 이 보 않 없 나 사람 주 아니 등 같 우리 때 년 가 한 지 대하 오 말 일 그렇 위하 때문 그것 두 말하 알 그러나 받 못하 일 그런 또 문제 더 사회 많 그리고 좋 크 따르 중 나오 가지 씨 시키 만들 지금 생각하 그러 속 하나 집 살 모르 적 월 데 자신 안 어떤 내 내 경우 명 생각 시간 그녀 다시 이런 앞 보이 번 나 다른 어떻 여자 개 전 들 사실 이렇 점 싶 말 정도 좀 원 잘 통하 놓'\n",
        "stop_words = korean_stopwords.split(' ')"
      ]
    },
    {
      "cell_type": "code",
      "execution_count": 20,
      "metadata": {
        "id": "xfgzib0tzIfM"
      },
      "outputs": [],
      "source": [
        "#불용어 사전 정의\n",
        "stop = stop_words+stopwords_list\n",
        "\n",
        "\n",
        "tqdm.pandas()\n",
        "\n",
        "def text_preproccessing(df):\n",
        "\n",
        "    df = df.copy()\n",
        "\n",
        "\n",
        "    # HTML tag 제거\n",
        "    def remove_html(text):\n",
        "        html=re.compile(r'<.*?>')\n",
        "        return html.sub(r'',text)\n",
        "\n",
        "\n",
        "    # 구두점 제거\n",
        "    def remove_punct(text):\n",
        "        table=str.maketrans('','',string.punctuation)\n",
        "        return text.translate(table)\n",
        "\n",
        "\n",
        "    # 불용어 제거\n",
        "    def remove_stopwords(x):\n",
        "        return ' '.join([i for i in x.split() if i not in stop])\n",
        "\n",
        "\n",
        "    df['content']=df['content'].apply(lambda x : remove_html(x))\n",
        "    df['content']=df['content'].apply(lambda x : remove_punct(x))\n",
        "    df['content']=df['content'].apply(lambda x : remove_stopwords(x))\n",
        "\n",
        "\n",
        "    return df"
      ]
    },
    {
      "cell_type": "code",
      "execution_count": 21,
      "metadata": {
        "id": "uT2lLjQe_w8W"
      },
      "outputs": [],
      "source": [
        "df = text_preproccessing(df)"
      ]
    },
    {
      "cell_type": "code",
      "execution_count": 22,
      "metadata": {
        "id": "KBnXq4UN_wfS"
      },
      "outputs": [],
      "source": [
        "#특수문자, 영어, 숫자 및 2칸이상 공백 제거\n",
        "df.content=df.content.apply(lambda x : re.sub('[^가-힣]', ' ', str(x)))\n",
        "df.content=df.content.apply(lambda x : re.sub(' +', ' ', str(x)))"
      ]
    },
    {
      "cell_type": "code",
      "execution_count": 23,
      "metadata": {
        "colab": {
          "base_uri": "https://localhost:8080/",
          "height": 206
        },
        "id": "xL11l7k2BcxK",
        "outputId": "d020bfb1-0b9f-46a6-a2cd-5c8d961abe5a"
      },
      "outputs": [
        {
          "output_type": "execute_result",
          "data": {
            "text/plain": [
              "  company                                                url  \\\n",
              "0     머니S  https://n.news.naver.com/mnews/article/417/000...   \n",
              "1     뉴시스  https://n.news.naver.com/mnews/article/003/001...   \n",
              "2   스포츠서울  https://n.news.naver.com/mnews/article/468/000...   \n",
              "3    한국경제  https://n.news.naver.com/mnews/article/015/000...   \n",
              "4    동아일보  https://n.news.naver.com/mnews/article/020/000...   \n",
              "\n",
              "                                        title  \\\n",
              "0  '중국 앓이' 대기업 울고 '실속 챙긴' 중소기업 웃고… 희비 갈린 K-뷰티   \n",
              "1      '최대 66% 할인' 명품페스타…루트에너지 '태양광 펀드'[중기소식]   \n",
              "2             성남산업진흥원, 남다른상점 ‘성료’... 11월 또 개장   \n",
              "3            지금은 우리가 사모펀드처럼 투자할 때[김태엽의 PEF썰전]   \n",
              "4            “살려 달라”…대낮 서울 신림동 공원서 여성 때리고 성폭행   \n",
              "\n",
              "                                             content  label  \n",
              "0  머니 리포트 판 커지는 뷰티 입소문 난 중소 브랜드 뷰티 아쉬움 채워편집자주아모레퍼...      0  \n",
              "1  서울뉴시스 대명아임레디 명품 기획전 이미지대명스테이션 제공 서울뉴시스 배민욱 기자 ...      0  \n",
              "2  중소기업 유망브랜드 마켓 남다른상점 제공성남산업진흥원 스포츠서울 성남좌승훈기자 성남...      0  \n",
              "3  한경 김태엽 어펄마캐피탈 한국대표 이 기사는 월 일 마켓인사이트에 게재된 기사입니다...      0  \n",
              "4  서울 관악구 신림동의 도심 공원에서 여성을 무차별적으로 폭행한 성폭행까지 남성이 경...      0  "
            ],
            "text/html": [
              "\n",
              "  <div id=\"df-d46647a1-9f5c-4d1e-b404-38d45be56bb7\" class=\"colab-df-container\">\n",
              "    <div>\n",
              "<style scoped>\n",
              "    .dataframe tbody tr th:only-of-type {\n",
              "        vertical-align: middle;\n",
              "    }\n",
              "\n",
              "    .dataframe tbody tr th {\n",
              "        vertical-align: top;\n",
              "    }\n",
              "\n",
              "    .dataframe thead th {\n",
              "        text-align: right;\n",
              "    }\n",
              "</style>\n",
              "<table border=\"1\" class=\"dataframe\">\n",
              "  <thead>\n",
              "    <tr style=\"text-align: right;\">\n",
              "      <th></th>\n",
              "      <th>company</th>\n",
              "      <th>url</th>\n",
              "      <th>title</th>\n",
              "      <th>content</th>\n",
              "      <th>label</th>\n",
              "    </tr>\n",
              "  </thead>\n",
              "  <tbody>\n",
              "    <tr>\n",
              "      <th>0</th>\n",
              "      <td>머니S</td>\n",
              "      <td>https://n.news.naver.com/mnews/article/417/000...</td>\n",
              "      <td>'중국 앓이' 대기업 울고 '실속 챙긴' 중소기업 웃고… 희비 갈린 K-뷰티</td>\n",
              "      <td>머니 리포트 판 커지는 뷰티 입소문 난 중소 브랜드 뷰티 아쉬움 채워편집자주아모레퍼...</td>\n",
              "      <td>0</td>\n",
              "    </tr>\n",
              "    <tr>\n",
              "      <th>1</th>\n",
              "      <td>뉴시스</td>\n",
              "      <td>https://n.news.naver.com/mnews/article/003/001...</td>\n",
              "      <td>'최대 66% 할인' 명품페스타…루트에너지 '태양광 펀드'[중기소식]</td>\n",
              "      <td>서울뉴시스 대명아임레디 명품 기획전 이미지대명스테이션 제공 서울뉴시스 배민욱 기자 ...</td>\n",
              "      <td>0</td>\n",
              "    </tr>\n",
              "    <tr>\n",
              "      <th>2</th>\n",
              "      <td>스포츠서울</td>\n",
              "      <td>https://n.news.naver.com/mnews/article/468/000...</td>\n",
              "      <td>성남산업진흥원, 남다른상점 ‘성료’... 11월 또 개장</td>\n",
              "      <td>중소기업 유망브랜드 마켓 남다른상점 제공성남산업진흥원 스포츠서울 성남좌승훈기자 성남...</td>\n",
              "      <td>0</td>\n",
              "    </tr>\n",
              "    <tr>\n",
              "      <th>3</th>\n",
              "      <td>한국경제</td>\n",
              "      <td>https://n.news.naver.com/mnews/article/015/000...</td>\n",
              "      <td>지금은 우리가 사모펀드처럼 투자할 때[김태엽의 PEF썰전]</td>\n",
              "      <td>한경 김태엽 어펄마캐피탈 한국대표 이 기사는 월 일 마켓인사이트에 게재된 기사입니다...</td>\n",
              "      <td>0</td>\n",
              "    </tr>\n",
              "    <tr>\n",
              "      <th>4</th>\n",
              "      <td>동아일보</td>\n",
              "      <td>https://n.news.naver.com/mnews/article/020/000...</td>\n",
              "      <td>“살려 달라”…대낮 서울 신림동 공원서 여성 때리고 성폭행</td>\n",
              "      <td>서울 관악구 신림동의 도심 공원에서 여성을 무차별적으로 폭행한 성폭행까지 남성이 경...</td>\n",
              "      <td>0</td>\n",
              "    </tr>\n",
              "  </tbody>\n",
              "</table>\n",
              "</div>\n",
              "    <div class=\"colab-df-buttons\">\n",
              "\n",
              "  <div class=\"colab-df-container\">\n",
              "    <button class=\"colab-df-convert\" onclick=\"convertToInteractive('df-d46647a1-9f5c-4d1e-b404-38d45be56bb7')\"\n",
              "            title=\"Convert this dataframe to an interactive table.\"\n",
              "            style=\"display:none;\">\n",
              "\n",
              "  <svg xmlns=\"http://www.w3.org/2000/svg\" height=\"24px\" viewBox=\"0 -960 960 960\">\n",
              "    <path d=\"M120-120v-720h720v720H120Zm60-500h600v-160H180v160Zm220 220h160v-160H400v160Zm0 220h160v-160H400v160ZM180-400h160v-160H180v160Zm440 0h160v-160H620v160ZM180-180h160v-160H180v160Zm440 0h160v-160H620v160Z\"/>\n",
              "  </svg>\n",
              "    </button>\n",
              "\n",
              "  <style>\n",
              "    .colab-df-container {\n",
              "      display:flex;\n",
              "      gap: 12px;\n",
              "    }\n",
              "\n",
              "    .colab-df-convert {\n",
              "      background-color: #E8F0FE;\n",
              "      border: none;\n",
              "      border-radius: 50%;\n",
              "      cursor: pointer;\n",
              "      display: none;\n",
              "      fill: #1967D2;\n",
              "      height: 32px;\n",
              "      padding: 0 0 0 0;\n",
              "      width: 32px;\n",
              "    }\n",
              "\n",
              "    .colab-df-convert:hover {\n",
              "      background-color: #E2EBFA;\n",
              "      box-shadow: 0px 1px 2px rgba(60, 64, 67, 0.3), 0px 1px 3px 1px rgba(60, 64, 67, 0.15);\n",
              "      fill: #174EA6;\n",
              "    }\n",
              "\n",
              "    .colab-df-buttons div {\n",
              "      margin-bottom: 4px;\n",
              "    }\n",
              "\n",
              "    [theme=dark] .colab-df-convert {\n",
              "      background-color: #3B4455;\n",
              "      fill: #D2E3FC;\n",
              "    }\n",
              "\n",
              "    [theme=dark] .colab-df-convert:hover {\n",
              "      background-color: #434B5C;\n",
              "      box-shadow: 0px 1px 3px 1px rgba(0, 0, 0, 0.15);\n",
              "      filter: drop-shadow(0px 1px 2px rgba(0, 0, 0, 0.3));\n",
              "      fill: #FFFFFF;\n",
              "    }\n",
              "  </style>\n",
              "\n",
              "    <script>\n",
              "      const buttonEl =\n",
              "        document.querySelector('#df-d46647a1-9f5c-4d1e-b404-38d45be56bb7 button.colab-df-convert');\n",
              "      buttonEl.style.display =\n",
              "        google.colab.kernel.accessAllowed ? 'block' : 'none';\n",
              "\n",
              "      async function convertToInteractive(key) {\n",
              "        const element = document.querySelector('#df-d46647a1-9f5c-4d1e-b404-38d45be56bb7');\n",
              "        const dataTable =\n",
              "          await google.colab.kernel.invokeFunction('convertToInteractive',\n",
              "                                                    [key], {});\n",
              "        if (!dataTable) return;\n",
              "\n",
              "        const docLinkHtml = 'Like what you see? Visit the ' +\n",
              "          '<a target=\"_blank\" href=https://colab.research.google.com/notebooks/data_table.ipynb>data table notebook</a>'\n",
              "          + ' to learn more about interactive tables.';\n",
              "        element.innerHTML = '';\n",
              "        dataTable['output_type'] = 'display_data';\n",
              "        await google.colab.output.renderOutput(dataTable, element);\n",
              "        const docLink = document.createElement('div');\n",
              "        docLink.innerHTML = docLinkHtml;\n",
              "        element.appendChild(docLink);\n",
              "      }\n",
              "    </script>\n",
              "  </div>\n",
              "\n",
              "\n",
              "<div id=\"df-7bbc923e-64bd-4830-9bb7-af96ea6675f9\">\n",
              "  <button class=\"colab-df-quickchart\" onclick=\"quickchart('df-7bbc923e-64bd-4830-9bb7-af96ea6675f9')\"\n",
              "            title=\"Suggest charts.\"\n",
              "            style=\"display:none;\">\n",
              "\n",
              "<svg xmlns=\"http://www.w3.org/2000/svg\" height=\"24px\"viewBox=\"0 0 24 24\"\n",
              "     width=\"24px\">\n",
              "    <g>\n",
              "        <path d=\"M19 3H5c-1.1 0-2 .9-2 2v14c0 1.1.9 2 2 2h14c1.1 0 2-.9 2-2V5c0-1.1-.9-2-2-2zM9 17H7v-7h2v7zm4 0h-2V7h2v10zm4 0h-2v-4h2v4z\"/>\n",
              "    </g>\n",
              "</svg>\n",
              "  </button>\n",
              "\n",
              "<style>\n",
              "  .colab-df-quickchart {\n",
              "    background-color: #E8F0FE;\n",
              "    border: none;\n",
              "    border-radius: 50%;\n",
              "    cursor: pointer;\n",
              "    display: none;\n",
              "    fill: #1967D2;\n",
              "    height: 32px;\n",
              "    padding: 0 0 0 0;\n",
              "    width: 32px;\n",
              "  }\n",
              "\n",
              "  .colab-df-quickchart:hover {\n",
              "    background-color: #E2EBFA;\n",
              "    box-shadow: 0px 1px 2px rgba(60, 64, 67, 0.3), 0px 1px 3px 1px rgba(60, 64, 67, 0.15);\n",
              "    fill: #174EA6;\n",
              "  }\n",
              "\n",
              "  [theme=dark] .colab-df-quickchart {\n",
              "    background-color: #3B4455;\n",
              "    fill: #D2E3FC;\n",
              "  }\n",
              "\n",
              "  [theme=dark] .colab-df-quickchart:hover {\n",
              "    background-color: #434B5C;\n",
              "    box-shadow: 0px 1px 3px 1px rgba(0, 0, 0, 0.15);\n",
              "    filter: drop-shadow(0px 1px 2px rgba(0, 0, 0, 0.3));\n",
              "    fill: #FFFFFF;\n",
              "  }\n",
              "</style>\n",
              "\n",
              "  <script>\n",
              "    async function quickchart(key) {\n",
              "      const charts = await google.colab.kernel.invokeFunction(\n",
              "          'suggestCharts', [key], {});\n",
              "    }\n",
              "    (() => {\n",
              "      let quickchartButtonEl =\n",
              "        document.querySelector('#df-7bbc923e-64bd-4830-9bb7-af96ea6675f9 button');\n",
              "      quickchartButtonEl.style.display =\n",
              "        google.colab.kernel.accessAllowed ? 'block' : 'none';\n",
              "    })();\n",
              "  </script>\n",
              "</div>\n",
              "    </div>\n",
              "  </div>\n"
            ]
          },
          "metadata": {},
          "execution_count": 23
        }
      ],
      "source": [
        "df.head()"
      ]
    },
    {
      "cell_type": "code",
      "execution_count": 24,
      "metadata": {
        "id": "YUqGF6TTUAcb"
      },
      "outputs": [],
      "source": [
        "#okt = Okt()\n",
        "#max_length = df['content'].apply(lambda x: len(okt.morphs(x))).max()\n",
        "#max_length\n",
        "\n",
        "#9141"
      ]
    },
    {
      "cell_type": "code",
      "source": [
        "class BERTDataset(Dataset):\n",
        "    def __init__(self, dataset, sent_idx, label_idx, bert_tokenizer, vocab, max_len,\n",
        "                 pad, pair):\n",
        "        transform = BERTSentenceTransform(bert_tokenizer, max_seq_length=max_len,vocab=vocab, pad=pad, pair=pair)\n",
        "        #transform = nlp.data.BERTSentenceTransform(\n",
        "        #    tokenizer, max_seq_length=max_len, pad=pad, pair=pair)\n",
        "        self.sentences = [transform([i[sent_idx]]) for i in dataset]\n",
        "        self.labels = [np.int32(i[label_idx]) for i in dataset]\n",
        "\n",
        "    def __getitem__(self, i):\n",
        "        return (self.sentences[i] + (self.labels[i], ))\n",
        "\n",
        "    def __len__(self):\n",
        "        return (len(self.labels))\n",
        "\n"
      ],
      "metadata": {
        "id": "7CqEDRVx6nrA"
      },
      "execution_count": 25,
      "outputs": []
    },
    {
      "cell_type": "code",
      "source": [
        "class BERTSentenceTransform:\n",
        "    r\"\"\"BERT style data transformation.\n",
        "\n",
        "    Parameters\n",
        "    ----------\n",
        "    tokenizer : BERTTokenizer.\n",
        "        Tokenizer for the sentences.\n",
        "    max_seq_length : int.\n",
        "        Maximum sequence length of the sentences.\n",
        "    pad : bool, default True\n",
        "        Whether to pad the sentences to maximum length.\n",
        "    pair : bool, default True\n",
        "        Whether to transform sentences or sentence pairs.\n",
        "    \"\"\"\n",
        "\n",
        "    def __init__(self, tokenizer, max_seq_length,vocab, pad=True, pair=True):\n",
        "        self._tokenizer = tokenizer\n",
        "        self._max_seq_length = max_seq_length\n",
        "        self._pad = pad\n",
        "        self._pair = pair\n",
        "        self._vocab = vocab\n",
        "\n",
        "    def __call__(self, line):\n",
        "        \"\"\"Perform transformation for sequence pairs or single sequences.\n",
        "\n",
        "        The transformation is processed in the following steps:\n",
        "        - tokenize the input sequences\n",
        "        - insert [CLS], [SEP] as necessary\n",
        "        - generate type ids to indicate whether a token belongs to the first\n",
        "        sequence or the second sequence.\n",
        "        - generate valid length\n",
        "\n",
        "        For sequence pairs, the input is a tuple of 2 strings:\n",
        "        text_a, text_b.\n",
        "\n",
        "        Inputs:\n",
        "            text_a: 'is this jacksonville ?'\n",
        "            text_b: 'no it is not'\n",
        "        Tokenization:\n",
        "            text_a: 'is this jack ##son ##ville ?'\n",
        "            text_b: 'no it is not .'\n",
        "        Processed:\n",
        "            tokens: '[CLS] is this jack ##son ##ville ? [SEP] no it is not . [SEP]'\n",
        "            type_ids: 0     0  0    0    0     0       0 0     1  1  1  1   1 1\n",
        "            valid_length: 14\n",
        "\n",
        "        For single sequences, the input is a tuple of single string:\n",
        "        text_a.\n",
        "\n",
        "        Inputs:\n",
        "            text_a: 'the dog is hairy .'\n",
        "        Tokenization:\n",
        "            text_a: 'the dog is hairy .'\n",
        "        Processed:\n",
        "            text_a: '[CLS] the dog is hairy . [SEP]'\n",
        "            type_ids: 0     0   0   0  0     0 0\n",
        "            valid_length: 7\n",
        "\n",
        "        Parameters\n",
        "        ----------\n",
        "        line: tuple of str\n",
        "            Input strings. For sequence pairs, the input is a tuple of 2 strings:\n",
        "            (text_a, text_b). For single sequences, the input is a tuple of single\n",
        "            string: (text_a,).\n",
        "\n",
        "        Returns\n",
        "        -------\n",
        "        np.array: input token ids in 'int32', shape (batch_size, seq_length)\n",
        "        np.array: valid length in 'int32', shape (batch_size,)\n",
        "        np.array: input token type ids in 'int32', shape (batch_size, seq_length)\n",
        "\n",
        "        \"\"\"\n",
        "\n",
        "        # convert to unicode\n",
        "        text_a = line[0]\n",
        "        if self._pair:\n",
        "            assert len(line) == 2\n",
        "            text_b = line[1]\n",
        "\n",
        "        tokens_a = self._tokenizer.tokenize(text_a)\n",
        "        tokens_b = None\n",
        "\n",
        "        if self._pair:\n",
        "            tokens_b = self._tokenizer(text_b)\n",
        "\n",
        "        if tokens_b:\n",
        "            # Modifies `tokens_a` and `tokens_b` in place so that the total\n",
        "            # length is less than the specified length.\n",
        "            # Account for [CLS], [SEP], [SEP] with \"- 3\"\n",
        "            self._truncate_seq_pair(tokens_a, tokens_b,\n",
        "                                    self._max_seq_length - 3)\n",
        "        else:\n",
        "            # Account for [CLS] and [SEP] with \"- 2\"\n",
        "            if len(tokens_a) > self._max_seq_length - 2:\n",
        "                tokens_a = tokens_a[0:(self._max_seq_length - 2)]\n",
        "\n",
        "        # The embedding vectors for `type=0` and `type=1` were learned during\n",
        "        # pre-training and are added to the wordpiece embedding vector\n",
        "        # (and position vector). This is not *strictly* necessary since\n",
        "        # the [SEP] token unambiguously separates the sequences, but it makes\n",
        "        # it easier for the model to learn the concept of sequences.\n",
        "\n",
        "        # For classification tasks, the first vector (corresponding to [CLS]) is\n",
        "        # used as as the \"sentence vector\". Note that this only makes sense because\n",
        "        # the entire model is fine-tuned.\n",
        "        #vocab = self._tokenizer.vocab\n",
        "        vocab = self._vocab\n",
        "        tokens = []\n",
        "        tokens.append(vocab.cls_token)\n",
        "        tokens.extend(tokens_a)\n",
        "        tokens.append(vocab.sep_token)\n",
        "        segment_ids = [0] * len(tokens)\n",
        "\n",
        "        if tokens_b:\n",
        "            tokens.extend(tokens_b)\n",
        "            tokens.append(vocab.sep_token)\n",
        "            segment_ids.extend([1] * (len(tokens) - len(segment_ids)))\n",
        "\n",
        "        input_ids = self._tokenizer.convert_tokens_to_ids(tokens)\n",
        "\n",
        "\n",
        "        # The valid length of sentences. Only real  tokens are attended to.\n",
        "        valid_length = len(input_ids)\n",
        "\n",
        "        if self._pad:\n",
        "            # Zero-pad up to the sequence length.\n",
        "            padding_length = self._max_seq_length - valid_length\n",
        "            # use padding tokens for the rest\n",
        "            input_ids.extend([vocab[vocab.padding_token]] * padding_length)\n",
        "            segment_ids.extend([0] * padding_length)\n",
        "\n",
        "        return np.array(input_ids, dtype='int32'), np.array(valid_length, dtype='int32'),\\\n",
        "            np.array(segment_ids, dtype='int32')\n",
        "\n",
        "\n"
      ],
      "metadata": {
        "id": "Tuy5P5sl6yG6"
      },
      "execution_count": 26,
      "outputs": []
    },
    {
      "cell_type": "code",
      "execution_count": 27,
      "metadata": {
        "id": "B96L9N4WrwMq"
      },
      "outputs": [],
      "source": [
        "train_data, val_data, train_label, val_label = train_test_split(df['content'].values,\n",
        "                                                df['label'].values,\n",
        "                                                test_size=0.2,\n",
        "                                                stratify=df['label'].values,\n",
        "                                                random_state=10)"
      ]
    },
    {
      "cell_type": "code",
      "source": [
        "train_label = list(map(str, train_label))\n",
        "val_label = list(map(str, val_label))"
      ],
      "metadata": {
        "id": "2_nPGbM2it0f"
      },
      "execution_count": 28,
      "outputs": []
    },
    {
      "cell_type": "code",
      "source": [
        "dataset_train = [[data, label] for data, label in zip(train_data, train_label)]\n",
        "dataset_test = [[data, label] for data, label in zip(val_data, val_label)]"
      ],
      "metadata": {
        "id": "q1r7kamKunnh"
      },
      "execution_count": 29,
      "outputs": []
    },
    {
      "cell_type": "code",
      "source": [
        "dataset_train[:2]"
      ],
      "metadata": {
        "colab": {
          "base_uri": "https://localhost:8080/"
        },
        "id": "i7R4dxbJuum2",
        "outputId": "10925ed0-5558-4a28-e50b-38e7c0787c50"
      },
      "execution_count": 30,
      "outputs": [
        {
          "output_type": "execute_result",
          "data": {
            "text/plain": [
              "[['제주 이민 년차들을 만나다 효율과 자율의 삶을 추구하는 지준호씨 제주 이주 열풍 이 분 어느덧 년이 넘었다 지난 년 제주를 떠난 사람도 있지만 남아있는 사람도 많다 그들의 진짜 삶이 궁금해 직접 인터뷰에 나섰다 오십 대 남자가 산다라고 이미지가 떠오를까 흐트러진 일상과 궁상맞아 보이는 집구석 굴러 다니는 술병 편견이 무섭다제주도 십 년차 이주민 인터뷰를 기획하면서 가장 찾기 어려운 경우가 십 제주에서 홀로 버틴 남자였다 홀로 사는 이주민들은 주위에 정말 많았다 남자는 드물었다 한국 사회에서 남자는 혼자서 살기 어려운 존재인 걸까사십 대 초반 혈혈단신 제주에 내려온 뒤 십 년째 홀로 살고 있는 남자분이 있어 인터뷰를 요청했다 제주 동쪽 세화리에서 민박집 탱자싸롱을 운영 중인 지준호 씨가 주인공이다제주 이주 아이를 낳아 기른다고 정신없이 시간을 보낸 나와는 달리 지준호씨는 선연하게 시간의 결을 느끼며 십 년을 살았을 같다는 생각이 들었다 그에게 제주에서의 십 년은 시간이었을까 자유롭게 살고 싶어서 프랑스 마르세유에서 지준호씨 유럽 여행 프랑스 마르세유 앞바다 부근에서 지준호씨가 휴식을 취하고 지준호 십 제주에 오셨지가 궁금해요그때 제주가 한창 핫할 때였어요 이주민들이 많아지고 있었죠 제주는 있는 걸 못 사람은 맞는다는데 저는 놀거든요 가볼까 생각이 들었죠 년 광고 쪽 일을 했는데 계속 나갈지도 의문이고 새로운 게 싶기도 자유롭게 살고 싶다는 생각도 들었어요 왠지 가면 좋은 여자를 만날 예감도 들었고요웃음 휴가 내고 왔는데 너무 좋아서 달 만에 사표를 내고 왔어요 기회가 닿아 땅을 사게 됐어요 게스트하우스 걸 해보고 싶다는 마음은 늘 있었거든요 사십 대 아직 젊을 게스트하우스를 열어서 손님들이랑 놀고 싶다는 생각이 들었어요 처음 년은 정말 재미있게 지냈어요손님들 왠지 이야기가 통할 분들이 있거든요 제가 지적인 대화를 좋아해서 관심사가 비슷한 분들을 만나면 이야기도 많이 술잔도 기울이고 그랬죠 제가 정말 진심으로 손님들한테 다가가고 소통을 하니까 즐거웠어요 그때는 장사도 돼서 스태프도 고용해서 운영했죠 그러다 갑자기 대인기피증이 왔어요 아무런 징조도 없이 갑자기요그때 집이 없었어요 게스트하우스 옆에 컨테이너에서 살았는데 삶이 너무 노출돼 있었죠 컨테이너 안에서 태풍도 겪었어요 너무 춥고 더운 데다 화장실이 안에 없어서 씻고 오가는 게 많이 불편했어요 공간인데 공간이 아니었죠 나오면 손님이랑 마주치고 웃으며 인사해야 가식적인 모습도 싫었어요 그러다 대인기피증이 왔죠그때 스태프한테 연락하지 말라고 숙소를 잡아서 박 일 그냥 누워서 뒹굴거리며 쉬다 왔어요 생각이 들더라고요 지치지 살려면 뭔가를 해야겠다 내가 집중할 있는 걸 매년 하나씩 정해서 하자 그때부터 스윙댄스도 배우고 골프도 치고 요가도 천문지도사 자격증도 땄어요 놀기의 달인이 되자 싶었죠탐험가처럼 제주도의 비밀 명소를 찾아다니기도 년에 번씩은 해외여행도 다녀왔죠 아이슬란드도 여행하고 산티아고 순례길도 걸었어요 중간중간 연애도 계속했고요웃음 식으로 뭐 하나에 빠지면 개월은 시간이 가더라고요 지금은 명리학에 빠져서 열심히 공부하고 있어요목표는 연봉만큼 벌자 혼자서 계속 뭔가 도전하고 성취해 나가는 걸 잘하시는 같아요 주위에 직업을 바꾼 분들도 많은데 십 숙박업만 하셨어요 이유가 있나요숙박업자가 좋은 같아요 숙박은 손님들 퇴실하는 오전 시부터 오후 시까지만 청소하고 나면 다 시간이거든요 혼자만의 시간을 보낼지 계발을 해두면 좋아요 시간을 이용해서 제주시내로 수영을 다니기도 요가원을 다니기도 했죠 이제 숙소 관리는 밥 먹는 같아서 피곤하지만 스트레스도 전혀 없어요 예전에는 패닉이 된 적도 많았지만 이제는 웬만한 변수에는 꿈쩍도 모든 걸 알아서 해결하게 됐죠 저는 시간에 무조건 제가 싶은 걸 게 목표예요 효율성을 중요하게 생각하는 편이라 최대한 빨리 청소를 끝내고 나머지 시간에는 목표한 걸 보내는 거죠 근데 장사라는 게 되잖아요 십 제주 경기도 요동쳤는데 먹고 사는 게 힘들진 않으셨나요숙박업은 초기 비용은 많이 들어가는데 이후에는 공과금이나 고정비를 제외하고는 별로 돈 들어갈 데가 없어요 근데 모든 업이 년만 같아요 이후에도 되려면 그동안 돈을 재투자해서 숙소를 근사하게 바꿔야 돼요 년은 먹고 있어요 식으로 하나씩 하나씩 바꾸는 걸 세 번이나 처음부터 목표는 마지막 연봉만큼은 벌어야 한다는 거예요 숙소에만 집중할 때도 있었고 임대 수익을 올릴 때도 있었어요 될 때는 남는 시간에 아르바이트도 숙소나 계단 청소를 때도 있었죠 식으로 모자란 부분을 벌었죠 그게 되면 씀씀이를 줄였어요 어떻게든 목표를 달성하면서 십 년을 버텼죠 민박집 탱자싸롱 지준호씨가 제주 동쪽 세화에서 운영 중인 민박집 탱자싸롱 전경 민박집 뒤로 푸른 세화 바다가 보인다 지준호 장사를 일정 수익을 계속 올린다는 게 쉬운 일이 아닌데 대단하신 같아요 남자 산다고 편견이 있잖아요 왠지 제대로 살지 않을 같고 근데 십 년이란 시간을 상당히 지혜롭게 보내신 같아요일종의 강박일 수도 있는데 하루를 루틴대로 보내요 칸트가 시만 되면 산책을 했다는 일화처럼 아침에 일어나서 예약표를 보고 예약률이 좋으면 금액을 조정해서 어떻게든 방이 나가게 숙소 청소하고 밥 먹고 수영하거나 헬스를 하거나 골프 연습장을 가죠 저는 정적인 취미와 동적인 취미를 갖고 있는데 요즘은 몸 쓰는 걸 주로 있어요 루틴대로 살아야 불안하지 않아요 내가 열심히 살고 있구나 싶고요 간섭하는 사람이 없어서 살아도 되거든요 늦게 일어나도 되고 늦게 자도 되고요 그럴 때도 가끔 있지만 알람을 맞추지 않아도 이제는 알아서 아침에 눈이 떠지더라고요 지내지만 계획대로 시간을 보내야 하루를 낭비하지 제대로 살았다는 생각이 들어요숙박업을 보니 살림 센스도 정말 많이 늘었어요 절약할 있는지 깔끔하게 쓸 있는지 아주 알죠 식사 준비하는 게 늘 기쁘지는 않지만 나를 건강하게 먹으려고 노력해요좋아하는 것에 집중하는 삶 십 전과 지금을 비교해 어떠세요 달라진 게 있나요많이 달라졌죠 제가 나이를 먹어서 건지 제주가 변한 건지는 모르겠어요 제주 오기 화려했던 시절이 전생 같아요웃음 예전에는 사람들과 어울리는 게 좋았는데 지금은 있는 게 편해요 인생을 바라보는 관점이나 중시하는 가치 추구하는 재미 게 많이 바뀐 같아요 십 제주는 힙한 게 있었거든요 굉장히 매력적인 느낌이 있었고 독특한 사람들도 많았어요 그때는 사람들과도 많이 어울리고 그랬죠 근데 언제부턴가 생활인이 돼서 그런지 요즘은 제주도도 그렇고 제주도에 있는 사람들도 그렇고 예전처럼 특별해 보이지는 않아요 삶에 집중하게 된 같아요 제주에 온 것도 지낼 있기 때문이기도 했죠 십 제주에 온 게 잘한 선택인 같나요이전보다 자유롭게 산 같아요 제주가 게 있어요 막일을 제주에서 달라 보이거든요 일을 서울에서 하층민 같은데 제주에서 뭔가 생각이 있어 보여요실제로 낮에는 막일을 밤에는 합창단 지휘하는 분을 본 적도 있어요 초창기에는 친구들이 부러워하니까 자유로워 보이려고 사는 것처럼 보이려고 애쓴 것도 있었죠 근데 사십 대 후반부터는 거품은 다 빠지고 제가 좋아하는 것에 집중해서 살게 됐어요사람 사는 건 다 거기서 거긴데 안에서 내가 뭘 하느냐가 가장 중요한 같아요 지적 호기심을 꾸준히 갖고 살면서 공부를 채워 나가면 행복한 같아요 제주가 면에서는 좋은 환경인 같아요 자연을 바라보거나 오름을 생각이 꼬리에 꼬리를 물면서 새로운 인사이트가 생길 있거든요 자연 속에서 그냥 있는 자체가 도움이 많이 돼요 계속 제주에 있으실 건가요제주에서 십 년을 살아봤으니까 새로운 경험을 해보고 싶다는 생각도 들어요 곳으로 가볼까 구상도 해보고 있습니다잘 산다는 건 뭘까 생각이 인터뷰 내내 머릿속을 떠나지 않았다 삶에서 진짜 재미란 무엇이고 진짜 행복이란 무엇일까 혼자든 누구와 함께든 도시에 살든 시골에 살든 가장 중요한 건 나를 놓지 않는 게 아닐까 자신의 삶에 애정을 갖고 나만의 규칙을 부여하며 세상에 대한 호기심을 놓지 하루하루 살아가는 타인은 모르지만 적어도 나는 오늘의 내가 어제의 나보다 나은 사람인지 아닌지 어제의 나보다 오늘의 내가 성장했는지 퇴보했는지 산다는 건 매일 조금씩 성장해 가는 삶을 사는 게 아닐까 성장의 맛을 아는 어디에 살든 살든 누구와 살든 삶은 결코 초라하지 않을 것이란 생각이 들었다 일상이 모여 일생이 되리라는 것도',\n",
              "  '4'],\n",
              " ['테무 로고로이터 연합뉴스 자료사진 서울연합뉴스 임상수 기자 중국의 대표적인 쇼핑앱 쉬인 과 테무 가 미국에서 법정 분쟁을 벌이는 시장 지배권을 둘러싸고 경쟁이 격화하고 있다고 로이터통신이 일현지시간 보도했다 이에 따르면 중국 대형 전자상거래업체 판둬둬의 해외 쇼핑 앱 테무는 지난 일 패스트패션 앱이자 경쟁사인 쉬인이 의류제조업체와 거래하는 과정에서 미국의 반독점법을 위반했다면서 보스턴 연방법원에 소송을 제기했다 양사는 이미 시카고 연방법원에서도 법정 공방을 벌이고 쉬인은 소송에서 테무가 인플루언서들과 협력해 소셜미디어에서 자신들을 비방했다고 주장했다 테무는 보스턴법원에 제출한 소장에서 쉬인이 시장 지배력을 남용해 제조업체들이 테무를 기피하도록 강요했다고 주장했다 테무는 쉬인이 제조업체들에 테무와 거래하지 않겠다는 충성 맹세 문서에 서명할 것을 강압적으로 요구했다면서 쉬인의 비즈니스 관행은 가격 상승을 부추겨 소비자의 선택권을 침해하는 것이라고 말했다 테무는 이날도 성명을 통해 쉬인에 자신들이 불법적인 배제 전술의 표적이 돼 왔다고 주장했다 이에 쉬인의 대변인은 테무의 소송이 실현 가능성이 없으며 적극적으로 방어에 나설 것이라고 말했다 앞서 쉬인은 지난주 조직적이고 반복적으로 저작권을 침해하고 있다는 이유로 디자이너들에 로스앤젤레스 연방법원에 피소되기도 했다 중국에서 창업한 쉬인은 달러약 만 천 원를 넘지 않는 신발과 달러약 만 천 원짜리 원피스 저가 의류를 온라인으로 판매하고 쉬인은 년 미국을 비롯해 유럽과 아시아 등지로 진출하면서 현재 시장가치가 억 달러약 조 원에 달한다 쉬인보다 저가에 판매한다고 홍보하는 테무는 기업데이터 분석업체 이핏데이터 의 분석 결과 미국 진출 시점인 지난해 월 총 상품가치가 만 달러약 억 원에서 지난 월에는 억 천 만 달러약 천 억 원로 증가했다고 로이터는 전했다 ',\n",
              "  '2']]"
            ]
          },
          "metadata": {},
          "execution_count": 30
        }
      ]
    },
    {
      "cell_type": "code",
      "source": [
        "print(len(dataset_train))\n",
        "print(len(dataset_test))"
      ],
      "metadata": {
        "colab": {
          "base_uri": "https://localhost:8080/"
        },
        "id": "Z3d8jQkJzQj6",
        "outputId": "7c9933d3-63d5-4d41-edc2-02e7009e062d"
      },
      "execution_count": 31,
      "outputs": [
        {
          "output_type": "stream",
          "name": "stdout",
          "text": [
            "2324\n",
            "582\n"
          ]
        }
      ]
    },
    {
      "cell_type": "code",
      "execution_count": 32,
      "metadata": {
        "id": "cfbSss5spZ55"
      },
      "outputs": [],
      "source": [
        "# Setting parameters\n",
        "max_len = 512\n",
        "batch_size = 4\n",
        "warmup_ratio = 0.1\n",
        "num_epochs = 5\n",
        "max_grad_norm = 1\n",
        "log_interval = 200\n",
        "learning_rate =  5e-5"
      ]
    },
    {
      "cell_type": "code",
      "execution_count": 33,
      "metadata": {
        "id": "VYM99tYtpgRV"
      },
      "outputs": [],
      "source": [
        "# ★\n",
        "\n",
        "\n",
        "data_train = BERTDataset(dataset_train, 0, 1, tokenizer,vocab, max_len, True, False)\n",
        "data_test = BERTDataset(dataset_test, 0, 1, tokenizer, vocab, max_len, True, False)"
      ]
    },
    {
      "cell_type": "code",
      "source": [
        "train_dataloader = torch.utils.data.DataLoader(data_train, batch_size=batch_size, num_workers=2) #5\n",
        "test_dataloader = torch.utils.data.DataLoader(data_test, batch_size=batch_size, num_workers=2)   #5"
      ],
      "metadata": {
        "id": "bSGIDrUc7PtT"
      },
      "execution_count": 34,
      "outputs": []
    },
    {
      "cell_type": "code",
      "execution_count": 35,
      "metadata": {
        "id": "vfkWMJRNh_4A"
      },
      "outputs": [],
      "source": [
        "class BERTClassifier(nn.Module):\n",
        "    def __init__(self,\n",
        "                 bert,\n",
        "                 hidden_size = 768,\n",
        "                 num_classes=6,          ############\n",
        "                 dr_rate=None,\n",
        "                 params=None):\n",
        "        super(BERTClassifier, self).__init__()\n",
        "        self.bert = bert\n",
        "        self.dr_rate = dr_rate\n",
        "\n",
        "        self.classifier = nn.Linear(hidden_size , num_classes)\n",
        "        if dr_rate:\n",
        "            self.dropout = nn.Dropout(p=dr_rate)\n",
        "\n",
        "    def gen_attention_mask(self, token_ids, valid_length):\n",
        "        attention_mask = torch.zeros_like(token_ids)\n",
        "        for i, v in enumerate(valid_length):\n",
        "            attention_mask[i][:v] = 1\n",
        "        return attention_mask.float()\n",
        "\n",
        "    def forward(self, token_ids, valid_length, segment_ids):\n",
        "        attention_mask = self.gen_attention_mask(token_ids, valid_length)\n",
        "\n",
        "        _, pooler = self.bert(input_ids = token_ids, token_type_ids = segment_ids.long(), attention_mask = attention_mask.float().to(token_ids.device))\n",
        "        if self.dr_rate:\n",
        "            out = self.dropout(pooler)\n",
        "        return self.classifier(out)"
      ]
    },
    {
      "cell_type": "code",
      "execution_count": 36,
      "metadata": {
        "id": "zsiPAhLmh_6a"
      },
      "outputs": [],
      "source": [
        "model = BERTClassifier(bertmodel,  dr_rate=0.5).to(device)"
      ]
    },
    {
      "cell_type": "code",
      "source": [
        "# Prepare optimizer and schedule (linear warmup and decay)\n",
        "no_decay = ['bias', 'LayerNorm.weight']\n",
        "optimizer_grouped_parameters = [\n",
        "    {'params': [p for n, p in model.named_parameters() if not any(nd in n for nd in no_decay)], 'weight_decay': 0.01},\n",
        "    {'params': [p for n, p in model.named_parameters() if any(nd in n for nd in no_decay)], 'weight_decay': 0.0}\n",
        "]"
      ],
      "metadata": {
        "id": "xTZ8YjAX7IUB"
      },
      "execution_count": 37,
      "outputs": []
    },
    {
      "cell_type": "code",
      "source": [
        "optimizer = AdamW(optimizer_grouped_parameters, lr=learning_rate)\n",
        "loss_fn = nn.CrossEntropyLoss()\n",
        "\n",
        "t_total = len(train_dataloader) * num_epochs\n",
        "warmup_step = int(t_total * warmup_ratio)\n",
        "\n",
        "scheduler = get_cosine_schedule_with_warmup(optimizer, num_warmup_steps=warmup_step, num_training_steps=t_total)"
      ],
      "metadata": {
        "colab": {
          "base_uri": "https://localhost:8080/"
        },
        "id": "UPAfKJcu7KMf",
        "outputId": "1be35ca3-9c92-4a2b-f9f8-5ab2fffea4d1"
      },
      "execution_count": 38,
      "outputs": [
        {
          "output_type": "stream",
          "name": "stderr",
          "text": [
            "/usr/local/lib/python3.10/dist-packages/transformers/optimization.py:411: FutureWarning: This implementation of AdamW is deprecated and will be removed in a future version. Use the PyTorch implementation torch.optim.AdamW instead, or set `no_deprecation_warning=True` to disable this warning\n",
            "  warnings.warn(\n"
          ]
        }
      ]
    },
    {
      "cell_type": "code",
      "source": [
        "def calc_accuracy(X,Y):\n",
        "    max_vals, max_indices = torch.max(X, 1)\n",
        "    train_acc = (max_indices == Y).sum().data.cpu().numpy()/max_indices.size()[0]\n",
        "    return train_acc"
      ],
      "metadata": {
        "id": "0qv8qpKD7McO"
      },
      "execution_count": 39,
      "outputs": []
    },
    {
      "cell_type": "code",
      "source": [
        "#batch size 크기를 줄여가면서 gpu 캐시를 비워주는 코드\n",
        "\n",
        "import gc\n",
        "import torch\n",
        "\n",
        "gc.collect()\n",
        "torch.cuda.empty_cache()"
      ],
      "metadata": {
        "id": "TNz1PC-K9JeH"
      },
      "execution_count": 40,
      "outputs": []
    },
    {
      "cell_type": "code",
      "source": [
        "import os\n",
        "os.environ['CUDA_LAUNCH_BLOCKING'] = \"1\"\n",
        "os.environ[\"CUDA_VISIBLE_DEVICES\"] = \"0\""
      ],
      "metadata": {
        "id": "zzZt5IO-LTnl"
      },
      "execution_count": 41,
      "outputs": []
    },
    {
      "cell_type": "code",
      "source": [
        "for e in range(num_epochs):\n",
        "    train_acc = 0.0\n",
        "    test_acc = 0.0\n",
        "    model.train()\n",
        "    for batch_id, (token_ids, valid_length, segment_ids, label) in enumerate(tqdm(train_dataloader)):\n",
        "        optimizer.zero_grad()\n",
        "        token_ids = token_ids.long().to(device)\n",
        "        segment_ids = segment_ids.long().to(device)\n",
        "        valid_length= valid_length\n",
        "        label = label.long().to(device)\n",
        "        out = model(token_ids, valid_length, segment_ids)\n",
        "        loss = loss_fn(out, label)\n",
        "        loss.backward()\n",
        "        torch.nn.utils.clip_grad_norm_(model.parameters(), max_grad_norm)\n",
        "        optimizer.step()\n",
        "        scheduler.step()  # Update learning rate schedule\n",
        "        train_acc += calc_accuracy(out, label)\n",
        "        if batch_id % log_interval == 0:\n",
        "            print(\"epoch {} batch id {} loss {} train acc {}\".format(e+1, batch_id+1, loss.data.cpu().numpy(), train_acc / (batch_id+1)))\n",
        "    print(\"epoch {} train acc {}\".format(e+1, train_acc / (batch_id+1)))\n",
        "    model.eval()\n",
        "    for batch_id, (token_ids, valid_length, segment_ids, label) in enumerate(tqdm(test_dataloader)):\n",
        "        token_ids = token_ids.long().to(device)\n",
        "        segment_ids = segment_ids.long().to(device)\n",
        "        valid_length= valid_length\n",
        "        label = label.long().to(device)\n",
        "        out = model(token_ids, valid_length, segment_ids)\n",
        "        test_acc += calc_accuracy(out, label)\n",
        "    print(\"epoch {} test acc {}\".format(e+1, test_acc / (batch_id+1)))"
      ],
      "metadata": {
        "colab": {
          "base_uri": "https://localhost:8080/"
        },
        "id": "9wfxjaXd7Mer",
        "outputId": "cc3b80ed-2e76-4a72-d0d5-c1b9921c9fb1"
      },
      "execution_count": 42,
      "outputs": [
        {
          "output_type": "stream",
          "name": "stderr",
          "text": [
            "  0%|          | 1/581 [00:02<19:27,  2.01s/it]"
          ]
        },
        {
          "output_type": "stream",
          "name": "stdout",
          "text": [
            "epoch 1 batch id 1 loss 1.9637162685394287 train acc 0.25\n"
          ]
        },
        {
          "output_type": "stream",
          "name": "stderr",
          "text": [
            " 35%|███▍      | 201/581 [01:22<02:43,  2.33it/s]"
          ]
        },
        {
          "output_type": "stream",
          "name": "stdout",
          "text": [
            "epoch 1 batch id 201 loss 0.5682252645492554 train acc 0.43034825870646765\n"
          ]
        },
        {
          "output_type": "stream",
          "name": "stderr",
          "text": [
            " 69%|██████▉   | 401/581 [02:47<01:17,  2.33it/s]"
          ]
        },
        {
          "output_type": "stream",
          "name": "stdout",
          "text": [
            "epoch 1 batch id 401 loss 0.7302300930023193 train acc 0.6172069825436409\n"
          ]
        },
        {
          "output_type": "stream",
          "name": "stderr",
          "text": [
            "100%|██████████| 581/581 [04:04<00:00,  2.38it/s]\n"
          ]
        },
        {
          "output_type": "stream",
          "name": "stdout",
          "text": [
            "epoch 1 train acc 0.6932013769363167\n"
          ]
        },
        {
          "output_type": "stream",
          "name": "stderr",
          "text": [
            "100%|██████████| 146/146 [00:21<00:00,  6.92it/s]\n"
          ]
        },
        {
          "output_type": "stream",
          "name": "stdout",
          "text": [
            "epoch 1 test acc 0.8304794520547946\n"
          ]
        },
        {
          "output_type": "stream",
          "name": "stderr",
          "text": [
            "  0%|          | 1/581 [00:00<04:34,  2.12it/s]"
          ]
        },
        {
          "output_type": "stream",
          "name": "stdout",
          "text": [
            "epoch 2 batch id 1 loss 0.020688943564891815 train acc 1.0\n"
          ]
        },
        {
          "output_type": "stream",
          "name": "stderr",
          "text": [
            " 35%|███▍      | 201/581 [01:25<02:40,  2.36it/s]"
          ]
        },
        {
          "output_type": "stream",
          "name": "stdout",
          "text": [
            "epoch 2 batch id 201 loss 0.050403982400894165 train acc 0.8432835820895522\n"
          ]
        },
        {
          "output_type": "stream",
          "name": "stderr",
          "text": [
            " 69%|██████▉   | 401/581 [02:50<01:17,  2.34it/s]"
          ]
        },
        {
          "output_type": "stream",
          "name": "stdout",
          "text": [
            "epoch 2 batch id 401 loss 1.532214641571045 train acc 0.8528678304239401\n"
          ]
        },
        {
          "output_type": "stream",
          "name": "stderr",
          "text": [
            "100%|██████████| 581/581 [04:06<00:00,  2.36it/s]\n"
          ]
        },
        {
          "output_type": "stream",
          "name": "stdout",
          "text": [
            "epoch 2 train acc 0.8687607573149742\n"
          ]
        },
        {
          "output_type": "stream",
          "name": "stderr",
          "text": [
            "100%|██████████| 146/146 [00:21<00:00,  6.95it/s]\n"
          ]
        },
        {
          "output_type": "stream",
          "name": "stdout",
          "text": [
            "epoch 2 test acc 0.8715753424657534\n"
          ]
        },
        {
          "output_type": "stream",
          "name": "stderr",
          "text": [
            "  0%|          | 1/581 [00:00<04:34,  2.11it/s]"
          ]
        },
        {
          "output_type": "stream",
          "name": "stdout",
          "text": [
            "epoch 3 batch id 1 loss 0.02179272286593914 train acc 1.0\n"
          ]
        },
        {
          "output_type": "stream",
          "name": "stderr",
          "text": [
            " 35%|███▍      | 201/581 [01:25<02:41,  2.35it/s]"
          ]
        },
        {
          "output_type": "stream",
          "name": "stdout",
          "text": [
            "epoch 3 batch id 201 loss 0.41339606046676636 train acc 0.8868159203980099\n"
          ]
        },
        {
          "output_type": "stream",
          "name": "stderr",
          "text": [
            " 69%|██████▉   | 401/581 [02:50<01:16,  2.34it/s]"
          ]
        },
        {
          "output_type": "stream",
          "name": "stdout",
          "text": [
            "epoch 3 batch id 401 loss 1.4613007307052612 train acc 0.8952618453865336\n"
          ]
        },
        {
          "output_type": "stream",
          "name": "stderr",
          "text": [
            "100%|██████████| 581/581 [04:06<00:00,  2.36it/s]\n"
          ]
        },
        {
          "output_type": "stream",
          "name": "stdout",
          "text": [
            "epoch 3 train acc 0.9079173838209983\n"
          ]
        },
        {
          "output_type": "stream",
          "name": "stderr",
          "text": [
            "100%|██████████| 146/146 [00:21<00:00,  6.94it/s]\n"
          ]
        },
        {
          "output_type": "stream",
          "name": "stdout",
          "text": [
            "epoch 3 test acc 0.9041095890410958\n"
          ]
        },
        {
          "output_type": "stream",
          "name": "stderr",
          "text": [
            "  0%|          | 1/581 [00:00<04:54,  1.97it/s]"
          ]
        },
        {
          "output_type": "stream",
          "name": "stdout",
          "text": [
            "epoch 4 batch id 1 loss 0.010782928206026554 train acc 1.0\n"
          ]
        },
        {
          "output_type": "stream",
          "name": "stderr",
          "text": [
            " 35%|███▍      | 201/581 [01:25<02:42,  2.34it/s]"
          ]
        },
        {
          "output_type": "stream",
          "name": "stdout",
          "text": [
            "epoch 4 batch id 201 loss 0.003737398888915777 train acc 0.9303482587064676\n"
          ]
        },
        {
          "output_type": "stream",
          "name": "stderr",
          "text": [
            " 69%|██████▉   | 401/581 [02:50<01:16,  2.35it/s]"
          ]
        },
        {
          "output_type": "stream",
          "name": "stdout",
          "text": [
            "epoch 4 batch id 401 loss 1.4958335161209106 train acc 0.9301745635910225\n"
          ]
        },
        {
          "output_type": "stream",
          "name": "stderr",
          "text": [
            "100%|██████████| 581/581 [04:07<00:00,  2.35it/s]\n"
          ]
        },
        {
          "output_type": "stream",
          "name": "stdout",
          "text": [
            "epoch 4 train acc 0.939328743545611\n"
          ]
        },
        {
          "output_type": "stream",
          "name": "stderr",
          "text": [
            "100%|██████████| 146/146 [00:21<00:00,  6.91it/s]\n"
          ]
        },
        {
          "output_type": "stream",
          "name": "stdout",
          "text": [
            "epoch 4 test acc 0.886986301369863\n"
          ]
        },
        {
          "output_type": "stream",
          "name": "stderr",
          "text": [
            "  0%|          | 1/581 [00:00<04:34,  2.11it/s]"
          ]
        },
        {
          "output_type": "stream",
          "name": "stdout",
          "text": [
            "epoch 5 batch id 1 loss 0.005814848467707634 train acc 1.0\n"
          ]
        },
        {
          "output_type": "stream",
          "name": "stderr",
          "text": [
            " 35%|███▍      | 201/581 [01:25<02:40,  2.36it/s]"
          ]
        },
        {
          "output_type": "stream",
          "name": "stdout",
          "text": [
            "epoch 5 batch id 201 loss 0.004694755654782057 train acc 0.9502487562189055\n"
          ]
        },
        {
          "output_type": "stream",
          "name": "stderr",
          "text": [
            " 69%|██████▉   | 401/581 [02:50<01:17,  2.34it/s]"
          ]
        },
        {
          "output_type": "stream",
          "name": "stdout",
          "text": [
            "epoch 5 batch id 401 loss 0.7308350801467896 train acc 0.949501246882793\n"
          ]
        },
        {
          "output_type": "stream",
          "name": "stderr",
          "text": [
            "100%|██████████| 581/581 [04:06<00:00,  2.35it/s]\n"
          ]
        },
        {
          "output_type": "stream",
          "name": "stdout",
          "text": [
            "epoch 5 train acc 0.9565404475043029\n"
          ]
        },
        {
          "output_type": "stream",
          "name": "stderr",
          "text": [
            "100%|██████████| 146/146 [00:21<00:00,  6.93it/s]"
          ]
        },
        {
          "output_type": "stream",
          "name": "stdout",
          "text": [
            "epoch 5 test acc 0.8904109589041096\n"
          ]
        },
        {
          "output_type": "stream",
          "name": "stderr",
          "text": [
            "\n"
          ]
        }
      ]
    },
    {
      "cell_type": "code",
      "source": [
        "## 학습 모델 저장\n",
        "PATH = '/content/drive/MyDrive/대구 빅데이터/' # google 드라이브 연동 해야함. 관련코드는 뺐음\n",
        "torch.save(model, PATH + 'koert_train.pkl')  # 전체 모델 저장\n",
        "torch.save(model.state_dict(), PATH + 'model_state_dict.pkl')  # 모델 객체의 state_dict 저장\n",
        "torch.save({\n",
        "    'model': model.state_dict(),\n",
        "    'optimizer': optimizer.state_dict()\n",
        "}, PATH + 'all.tar')  # 여러 가지 값 저장, 학습 중 진행 상황 저장을 위해 epoch, loss 값 등 일반 scalar값 저장 가능"
      ],
      "metadata": {
        "id": "gRA7B684MNqy"
      },
      "execution_count": 46,
      "outputs": []
    },
    {
      "cell_type": "code",
      "execution_count": 62,
      "metadata": {
        "id": "cSihptCCr5ub"
      },
      "outputs": [],
      "source": [
        "# KoBERT에 입력될 데이터셋 정리\n",
        "# ★\n",
        "\n",
        "class BERTDataset(Dataset):\n",
        "    def __init__(self, dataset, sent_idx, label_idx, bert_tokenizer, vocab, max_len,\n",
        "                 pad, pair):\n",
        "        transform = BERTSentenceTransform(bert_tokenizer, max_seq_length=max_len,vocab=vocab, pad=pad, pair=pair)\n",
        "        #transform = nlp.data.BERTSentenceTransform(\n",
        "        #    tokenizer, max_seq_length=max_len, pad=pad, pair=pair)\n",
        "        self.sentences = [transform([i[sent_idx]]) for i in dataset]\n",
        "        self.labels = [np.int32(i[label_idx]) for i in dataset]\n",
        "\n",
        "    def __getitem__(self, i):\n",
        "        return (self.sentences[i] + (self.labels[i], ))\n",
        "\n",
        "    def __len__(self):\n",
        "        return (len(self.labels))\n",
        "\n",
        "\n",
        "class BERTClassifier(nn.Module):\n",
        "    def __init__(self,\n",
        "                 bert,\n",
        "                 hidden_size = 768,\n",
        "                 num_classes=6,          ############\n",
        "                 dr_rate=None,\n",
        "                 params=None):\n",
        "        super(BERTClassifier, self).__init__()\n",
        "        self.bert = bert\n",
        "        self.dr_rate = dr_rate\n",
        "\n",
        "        self.classifier = nn.Linear(hidden_size , num_classes)\n",
        "        if dr_rate:\n",
        "            self.dropout = nn.Dropout(p=dr_rate)\n",
        "\n",
        "    def gen_attention_mask(self, token_ids, valid_length):\n",
        "        attention_mask = torch.zeros_like(token_ids)\n",
        "        for i, v in enumerate(valid_length):\n",
        "            attention_mask[i][:v] = 1\n",
        "        return attention_mask.float()\n",
        "\n",
        "    def forward(self, token_ids, valid_length, segment_ids):\n",
        "        attention_mask = self.gen_attention_mask(token_ids, valid_length)\n",
        "\n",
        "        _, pooler = self.bert(input_ids = token_ids, token_type_ids = segment_ids.long(), attention_mask = attention_mask.float().to(token_ids.device))\n",
        "        if self.dr_rate:\n",
        "            out = self.dropout(pooler)\n",
        "        return self.classifier(out)\n",
        "\n",
        "# Setting parameters\n",
        "max_len = 64\n",
        "batch_size = 4\n",
        "warmup_ratio = 0.1\n",
        "num_epochs = 20\n",
        "max_grad_norm = 1\n",
        "log_interval = 100\n",
        "learning_rate =  5e-5\n",
        "\n",
        "## 학습 모델 로드\n",
        "PATH = '/content/drive/MyDrive/대구 빅데이터/'\n",
        "model = torch.load(PATH + 'koert_train.pkl')  # 전체 모델을 통째로 불러옴, 클래스 선언 필수\n",
        "model.load_state_dict(torch.load(PATH + 'model_state_dict.pkl'))  # state_dict를 불러 온 후, 모델에 저장\n",
        "\n",
        "\n",
        "def new_softmax(a) :\n",
        "    c = np.max(a) # 최댓값\n",
        "    exp_a = np.exp(a-c) # 각각의 원소에 최댓값을 뺀 값에 exp를 취한다. (이를 통해 overflow 방지)\n",
        "    sum_exp_a = np.sum(exp_a)\n",
        "    y = (exp_a / sum_exp_a) * 100\n",
        "    return np.round(y, 3)\n",
        "\n",
        "\n",
        "# 예측 모델 설정\n",
        "def predict(predict_sentence):\n",
        "\n",
        "    data = [predict_sentence, '0']\n",
        "    dataset_another = [data]\n",
        "\n",
        "    another_test = BERTDataset(dataset_another, 0, 1, tokenizer, vocab, max_len, True, False)\n",
        "    test_dataloader = torch.utils.data.DataLoader(another_test, batch_size=batch_size, num_workers=2)\n",
        "\n",
        "    model.eval()\n",
        "\n",
        "    for batch_id, (token_ids, valid_length, segment_ids, label) in enumerate(test_dataloader):\n",
        "        token_ids = token_ids.long().to(device)\n",
        "        segment_ids = segment_ids.long().to(device)\n",
        "\n",
        "        valid_length= valid_length\n",
        "        label = label.long().to(device)\n",
        "\n",
        "        out = model(token_ids, valid_length, segment_ids)\n",
        "\n",
        "        test_eval=[]\n",
        "        for i in out:\n",
        "            logits=i\n",
        "            logits = logits.detach().cpu().numpy()\n",
        "            min_v = min(logits)\n",
        "            total = 0\n",
        "            category = ['생활', 'IT_전자', '의류_패션잡화', '음식', '문화', '교육']\n",
        "            probability = []\n",
        "            logits = np.round(new_softmax(logits), 3).tolist()\n",
        "            for logit in logits:\n",
        "                probability.append(np.round(logit, 3))\n",
        "                sort_prob = sorted(probability, reverse=True)\n",
        "\n",
        "\n",
        "            answer = []\n",
        "\n",
        "\n",
        "\n",
        "            for i in range(len(probability)):\n",
        "                for j in range(1):\n",
        "                    if probability[i] == sort_prob[j]:\n",
        "                        answer.append(category[i])\n",
        "\n",
        "\n",
        "    return answer,  probability"
      ]
    },
    {
      "cell_type": "code",
      "source": [
        "predict('''수능''')"
      ],
      "metadata": {
        "colab": {
          "base_uri": "https://localhost:8080/"
        },
        "id": "IlkVQjTTvJX5",
        "outputId": "dbd4e190-f7d6-4983-d0f9-02c460749307"
      },
      "execution_count": 67,
      "outputs": [
        {
          "output_type": "execute_result",
          "data": {
            "text/plain": [
              "(['생활'], [38.176, 0.683, 1.377, 8.075, 15.145, 36.544])"
            ]
          },
          "metadata": {},
          "execution_count": 67
        }
      ]
    },
    {
      "cell_type": "code",
      "source": [],
      "metadata": {
        "id": "JEiPUCLAvZSC"
      },
      "execution_count": null,
      "outputs": []
    }
  ],
  "metadata": {
    "accelerator": "GPU",
    "colab": {
      "provenance": [],
      "include_colab_link": true
    },
    "kernelspec": {
      "display_name": "Python 3",
      "name": "python3"
    },
    "widgets": {
      "application/vnd.jupyter.widget-state+json": {
        "cb91d4e8c1224acb8d40d53cf004e1b2": {
          "model_module": "@jupyter-widgets/controls",
          "model_name": "HBoxModel",
          "model_module_version": "1.5.0",
          "state": {
            "_dom_classes": [],
            "_model_module": "@jupyter-widgets/controls",
            "_model_module_version": "1.5.0",
            "_model_name": "HBoxModel",
            "_view_count": null,
            "_view_module": "@jupyter-widgets/controls",
            "_view_module_version": "1.5.0",
            "_view_name": "HBoxView",
            "box_style": "",
            "children": [
              "IPY_MODEL_8e664a2e34464fa3902a55e2fe19d414",
              "IPY_MODEL_81516679286a4f448d760ce1ab08ed81",
              "IPY_MODEL_a4d2005c194640299f851d462f547415"
            ],
            "layout": "IPY_MODEL_ae9ab50134cf492080099e93f2681f67"
          }
        },
        "8e664a2e34464fa3902a55e2fe19d414": {
          "model_module": "@jupyter-widgets/controls",
          "model_name": "HTMLModel",
          "model_module_version": "1.5.0",
          "state": {
            "_dom_classes": [],
            "_model_module": "@jupyter-widgets/controls",
            "_model_module_version": "1.5.0",
            "_model_name": "HTMLModel",
            "_view_count": null,
            "_view_module": "@jupyter-widgets/controls",
            "_view_module_version": "1.5.0",
            "_view_name": "HTMLView",
            "description": "",
            "description_tooltip": null,
            "layout": "IPY_MODEL_2f96094d363c4f21a4ce62046228d215",
            "placeholder": "​",
            "style": "IPY_MODEL_83870ea8993d443491d758559a36dfec",
            "value": "Downloading (…)ve/main/spiece.model: 100%"
          }
        },
        "81516679286a4f448d760ce1ab08ed81": {
          "model_module": "@jupyter-widgets/controls",
          "model_name": "FloatProgressModel",
          "model_module_version": "1.5.0",
          "state": {
            "_dom_classes": [],
            "_model_module": "@jupyter-widgets/controls",
            "_model_module_version": "1.5.0",
            "_model_name": "FloatProgressModel",
            "_view_count": null,
            "_view_module": "@jupyter-widgets/controls",
            "_view_module_version": "1.5.0",
            "_view_name": "ProgressView",
            "bar_style": "success",
            "description": "",
            "description_tooltip": null,
            "layout": "IPY_MODEL_152b3e0ed1f54cb7998a42183416086e",
            "max": 371427,
            "min": 0,
            "orientation": "horizontal",
            "style": "IPY_MODEL_5adc7689869147c1a4e709a8d429c37c",
            "value": 371427
          }
        },
        "a4d2005c194640299f851d462f547415": {
          "model_module": "@jupyter-widgets/controls",
          "model_name": "HTMLModel",
          "model_module_version": "1.5.0",
          "state": {
            "_dom_classes": [],
            "_model_module": "@jupyter-widgets/controls",
            "_model_module_version": "1.5.0",
            "_model_name": "HTMLModel",
            "_view_count": null,
            "_view_module": "@jupyter-widgets/controls",
            "_view_module_version": "1.5.0",
            "_view_name": "HTMLView",
            "description": "",
            "description_tooltip": null,
            "layout": "IPY_MODEL_a891491ff1604f04a3dc2835c8954448",
            "placeholder": "​",
            "style": "IPY_MODEL_262913665cca4455860dccb016a51743",
            "value": " 371k/371k [00:00&lt;00:00, 3.87MB/s]"
          }
        },
        "ae9ab50134cf492080099e93f2681f67": {
          "model_module": "@jupyter-widgets/base",
          "model_name": "LayoutModel",
          "model_module_version": "1.2.0",
          "state": {
            "_model_module": "@jupyter-widgets/base",
            "_model_module_version": "1.2.0",
            "_model_name": "LayoutModel",
            "_view_count": null,
            "_view_module": "@jupyter-widgets/base",
            "_view_module_version": "1.2.0",
            "_view_name": "LayoutView",
            "align_content": null,
            "align_items": null,
            "align_self": null,
            "border": null,
            "bottom": null,
            "display": null,
            "flex": null,
            "flex_flow": null,
            "grid_area": null,
            "grid_auto_columns": null,
            "grid_auto_flow": null,
            "grid_auto_rows": null,
            "grid_column": null,
            "grid_gap": null,
            "grid_row": null,
            "grid_template_areas": null,
            "grid_template_columns": null,
            "grid_template_rows": null,
            "height": null,
            "justify_content": null,
            "justify_items": null,
            "left": null,
            "margin": null,
            "max_height": null,
            "max_width": null,
            "min_height": null,
            "min_width": null,
            "object_fit": null,
            "object_position": null,
            "order": null,
            "overflow": null,
            "overflow_x": null,
            "overflow_y": null,
            "padding": null,
            "right": null,
            "top": null,
            "visibility": null,
            "width": null
          }
        },
        "2f96094d363c4f21a4ce62046228d215": {
          "model_module": "@jupyter-widgets/base",
          "model_name": "LayoutModel",
          "model_module_version": "1.2.0",
          "state": {
            "_model_module": "@jupyter-widgets/base",
            "_model_module_version": "1.2.0",
            "_model_name": "LayoutModel",
            "_view_count": null,
            "_view_module": "@jupyter-widgets/base",
            "_view_module_version": "1.2.0",
            "_view_name": "LayoutView",
            "align_content": null,
            "align_items": null,
            "align_self": null,
            "border": null,
            "bottom": null,
            "display": null,
            "flex": null,
            "flex_flow": null,
            "grid_area": null,
            "grid_auto_columns": null,
            "grid_auto_flow": null,
            "grid_auto_rows": null,
            "grid_column": null,
            "grid_gap": null,
            "grid_row": null,
            "grid_template_areas": null,
            "grid_template_columns": null,
            "grid_template_rows": null,
            "height": null,
            "justify_content": null,
            "justify_items": null,
            "left": null,
            "margin": null,
            "max_height": null,
            "max_width": null,
            "min_height": null,
            "min_width": null,
            "object_fit": null,
            "object_position": null,
            "order": null,
            "overflow": null,
            "overflow_x": null,
            "overflow_y": null,
            "padding": null,
            "right": null,
            "top": null,
            "visibility": null,
            "width": null
          }
        },
        "83870ea8993d443491d758559a36dfec": {
          "model_module": "@jupyter-widgets/controls",
          "model_name": "DescriptionStyleModel",
          "model_module_version": "1.5.0",
          "state": {
            "_model_module": "@jupyter-widgets/controls",
            "_model_module_version": "1.5.0",
            "_model_name": "DescriptionStyleModel",
            "_view_count": null,
            "_view_module": "@jupyter-widgets/base",
            "_view_module_version": "1.2.0",
            "_view_name": "StyleView",
            "description_width": ""
          }
        },
        "152b3e0ed1f54cb7998a42183416086e": {
          "model_module": "@jupyter-widgets/base",
          "model_name": "LayoutModel",
          "model_module_version": "1.2.0",
          "state": {
            "_model_module": "@jupyter-widgets/base",
            "_model_module_version": "1.2.0",
            "_model_name": "LayoutModel",
            "_view_count": null,
            "_view_module": "@jupyter-widgets/base",
            "_view_module_version": "1.2.0",
            "_view_name": "LayoutView",
            "align_content": null,
            "align_items": null,
            "align_self": null,
            "border": null,
            "bottom": null,
            "display": null,
            "flex": null,
            "flex_flow": null,
            "grid_area": null,
            "grid_auto_columns": null,
            "grid_auto_flow": null,
            "grid_auto_rows": null,
            "grid_column": null,
            "grid_gap": null,
            "grid_row": null,
            "grid_template_areas": null,
            "grid_template_columns": null,
            "grid_template_rows": null,
            "height": null,
            "justify_content": null,
            "justify_items": null,
            "left": null,
            "margin": null,
            "max_height": null,
            "max_width": null,
            "min_height": null,
            "min_width": null,
            "object_fit": null,
            "object_position": null,
            "order": null,
            "overflow": null,
            "overflow_x": null,
            "overflow_y": null,
            "padding": null,
            "right": null,
            "top": null,
            "visibility": null,
            "width": null
          }
        },
        "5adc7689869147c1a4e709a8d429c37c": {
          "model_module": "@jupyter-widgets/controls",
          "model_name": "ProgressStyleModel",
          "model_module_version": "1.5.0",
          "state": {
            "_model_module": "@jupyter-widgets/controls",
            "_model_module_version": "1.5.0",
            "_model_name": "ProgressStyleModel",
            "_view_count": null,
            "_view_module": "@jupyter-widgets/base",
            "_view_module_version": "1.2.0",
            "_view_name": "StyleView",
            "bar_color": null,
            "description_width": ""
          }
        },
        "a891491ff1604f04a3dc2835c8954448": {
          "model_module": "@jupyter-widgets/base",
          "model_name": "LayoutModel",
          "model_module_version": "1.2.0",
          "state": {
            "_model_module": "@jupyter-widgets/base",
            "_model_module_version": "1.2.0",
            "_model_name": "LayoutModel",
            "_view_count": null,
            "_view_module": "@jupyter-widgets/base",
            "_view_module_version": "1.2.0",
            "_view_name": "LayoutView",
            "align_content": null,
            "align_items": null,
            "align_self": null,
            "border": null,
            "bottom": null,
            "display": null,
            "flex": null,
            "flex_flow": null,
            "grid_area": null,
            "grid_auto_columns": null,
            "grid_auto_flow": null,
            "grid_auto_rows": null,
            "grid_column": null,
            "grid_gap": null,
            "grid_row": null,
            "grid_template_areas": null,
            "grid_template_columns": null,
            "grid_template_rows": null,
            "height": null,
            "justify_content": null,
            "justify_items": null,
            "left": null,
            "margin": null,
            "max_height": null,
            "max_width": null,
            "min_height": null,
            "min_width": null,
            "object_fit": null,
            "object_position": null,
            "order": null,
            "overflow": null,
            "overflow_x": null,
            "overflow_y": null,
            "padding": null,
            "right": null,
            "top": null,
            "visibility": null,
            "width": null
          }
        },
        "262913665cca4455860dccb016a51743": {
          "model_module": "@jupyter-widgets/controls",
          "model_name": "DescriptionStyleModel",
          "model_module_version": "1.5.0",
          "state": {
            "_model_module": "@jupyter-widgets/controls",
            "_model_module_version": "1.5.0",
            "_model_name": "DescriptionStyleModel",
            "_view_count": null,
            "_view_module": "@jupyter-widgets/base",
            "_view_module_version": "1.2.0",
            "_view_name": "StyleView",
            "description_width": ""
          }
        },
        "14207c6c7f84491db893a7970eabc687": {
          "model_module": "@jupyter-widgets/controls",
          "model_name": "HBoxModel",
          "model_module_version": "1.5.0",
          "state": {
            "_dom_classes": [],
            "_model_module": "@jupyter-widgets/controls",
            "_model_module_version": "1.5.0",
            "_model_name": "HBoxModel",
            "_view_count": null,
            "_view_module": "@jupyter-widgets/controls",
            "_view_module_version": "1.5.0",
            "_view_name": "HBoxView",
            "box_style": "",
            "children": [
              "IPY_MODEL_96b82a2081c64fd3b193b6d5bdebaac4",
              "IPY_MODEL_223b8f17f58242209f0097fc0fd0bb8d",
              "IPY_MODEL_74e028a5cb4c474c959e2eb074930dac"
            ],
            "layout": "IPY_MODEL_14435ef4cd664ffc80eedeb99a6a5faa"
          }
        },
        "96b82a2081c64fd3b193b6d5bdebaac4": {
          "model_module": "@jupyter-widgets/controls",
          "model_name": "HTMLModel",
          "model_module_version": "1.5.0",
          "state": {
            "_dom_classes": [],
            "_model_module": "@jupyter-widgets/controls",
            "_model_module_version": "1.5.0",
            "_model_name": "HTMLModel",
            "_view_count": null,
            "_view_module": "@jupyter-widgets/controls",
            "_view_module_version": "1.5.0",
            "_view_name": "HTMLView",
            "description": "",
            "description_tooltip": null,
            "layout": "IPY_MODEL_55e16564e9d340f6802e002b435f5cff",
            "placeholder": "​",
            "style": "IPY_MODEL_a9325a84e4a741b8b4e6137ff158bd64",
            "value": "Downloading (…)cial_tokens_map.json: 100%"
          }
        },
        "223b8f17f58242209f0097fc0fd0bb8d": {
          "model_module": "@jupyter-widgets/controls",
          "model_name": "FloatProgressModel",
          "model_module_version": "1.5.0",
          "state": {
            "_dom_classes": [],
            "_model_module": "@jupyter-widgets/controls",
            "_model_module_version": "1.5.0",
            "_model_name": "FloatProgressModel",
            "_view_count": null,
            "_view_module": "@jupyter-widgets/controls",
            "_view_module_version": "1.5.0",
            "_view_name": "ProgressView",
            "bar_style": "success",
            "description": "",
            "description_tooltip": null,
            "layout": "IPY_MODEL_f542f2fbbd51459caac0feac62d75f24",
            "max": 244,
            "min": 0,
            "orientation": "horizontal",
            "style": "IPY_MODEL_7c392d18c4654b3abf9bf9e6fd3d566a",
            "value": 244
          }
        },
        "74e028a5cb4c474c959e2eb074930dac": {
          "model_module": "@jupyter-widgets/controls",
          "model_name": "HTMLModel",
          "model_module_version": "1.5.0",
          "state": {
            "_dom_classes": [],
            "_model_module": "@jupyter-widgets/controls",
            "_model_module_version": "1.5.0",
            "_model_name": "HTMLModel",
            "_view_count": null,
            "_view_module": "@jupyter-widgets/controls",
            "_view_module_version": "1.5.0",
            "_view_name": "HTMLView",
            "description": "",
            "description_tooltip": null,
            "layout": "IPY_MODEL_67b3c2e371bf4ac184c21a46b41e577c",
            "placeholder": "​",
            "style": "IPY_MODEL_c114938cbae2495ba79a30e987f4b0ee",
            "value": " 244/244 [00:00&lt;00:00, 18.0kB/s]"
          }
        },
        "14435ef4cd664ffc80eedeb99a6a5faa": {
          "model_module": "@jupyter-widgets/base",
          "model_name": "LayoutModel",
          "model_module_version": "1.2.0",
          "state": {
            "_model_module": "@jupyter-widgets/base",
            "_model_module_version": "1.2.0",
            "_model_name": "LayoutModel",
            "_view_count": null,
            "_view_module": "@jupyter-widgets/base",
            "_view_module_version": "1.2.0",
            "_view_name": "LayoutView",
            "align_content": null,
            "align_items": null,
            "align_self": null,
            "border": null,
            "bottom": null,
            "display": null,
            "flex": null,
            "flex_flow": null,
            "grid_area": null,
            "grid_auto_columns": null,
            "grid_auto_flow": null,
            "grid_auto_rows": null,
            "grid_column": null,
            "grid_gap": null,
            "grid_row": null,
            "grid_template_areas": null,
            "grid_template_columns": null,
            "grid_template_rows": null,
            "height": null,
            "justify_content": null,
            "justify_items": null,
            "left": null,
            "margin": null,
            "max_height": null,
            "max_width": null,
            "min_height": null,
            "min_width": null,
            "object_fit": null,
            "object_position": null,
            "order": null,
            "overflow": null,
            "overflow_x": null,
            "overflow_y": null,
            "padding": null,
            "right": null,
            "top": null,
            "visibility": null,
            "width": null
          }
        },
        "55e16564e9d340f6802e002b435f5cff": {
          "model_module": "@jupyter-widgets/base",
          "model_name": "LayoutModel",
          "model_module_version": "1.2.0",
          "state": {
            "_model_module": "@jupyter-widgets/base",
            "_model_module_version": "1.2.0",
            "_model_name": "LayoutModel",
            "_view_count": null,
            "_view_module": "@jupyter-widgets/base",
            "_view_module_version": "1.2.0",
            "_view_name": "LayoutView",
            "align_content": null,
            "align_items": null,
            "align_self": null,
            "border": null,
            "bottom": null,
            "display": null,
            "flex": null,
            "flex_flow": null,
            "grid_area": null,
            "grid_auto_columns": null,
            "grid_auto_flow": null,
            "grid_auto_rows": null,
            "grid_column": null,
            "grid_gap": null,
            "grid_row": null,
            "grid_template_areas": null,
            "grid_template_columns": null,
            "grid_template_rows": null,
            "height": null,
            "justify_content": null,
            "justify_items": null,
            "left": null,
            "margin": null,
            "max_height": null,
            "max_width": null,
            "min_height": null,
            "min_width": null,
            "object_fit": null,
            "object_position": null,
            "order": null,
            "overflow": null,
            "overflow_x": null,
            "overflow_y": null,
            "padding": null,
            "right": null,
            "top": null,
            "visibility": null,
            "width": null
          }
        },
        "a9325a84e4a741b8b4e6137ff158bd64": {
          "model_module": "@jupyter-widgets/controls",
          "model_name": "DescriptionStyleModel",
          "model_module_version": "1.5.0",
          "state": {
            "_model_module": "@jupyter-widgets/controls",
            "_model_module_version": "1.5.0",
            "_model_name": "DescriptionStyleModel",
            "_view_count": null,
            "_view_module": "@jupyter-widgets/base",
            "_view_module_version": "1.2.0",
            "_view_name": "StyleView",
            "description_width": ""
          }
        },
        "f542f2fbbd51459caac0feac62d75f24": {
          "model_module": "@jupyter-widgets/base",
          "model_name": "LayoutModel",
          "model_module_version": "1.2.0",
          "state": {
            "_model_module": "@jupyter-widgets/base",
            "_model_module_version": "1.2.0",
            "_model_name": "LayoutModel",
            "_view_count": null,
            "_view_module": "@jupyter-widgets/base",
            "_view_module_version": "1.2.0",
            "_view_name": "LayoutView",
            "align_content": null,
            "align_items": null,
            "align_self": null,
            "border": null,
            "bottom": null,
            "display": null,
            "flex": null,
            "flex_flow": null,
            "grid_area": null,
            "grid_auto_columns": null,
            "grid_auto_flow": null,
            "grid_auto_rows": null,
            "grid_column": null,
            "grid_gap": null,
            "grid_row": null,
            "grid_template_areas": null,
            "grid_template_columns": null,
            "grid_template_rows": null,
            "height": null,
            "justify_content": null,
            "justify_items": null,
            "left": null,
            "margin": null,
            "max_height": null,
            "max_width": null,
            "min_height": null,
            "min_width": null,
            "object_fit": null,
            "object_position": null,
            "order": null,
            "overflow": null,
            "overflow_x": null,
            "overflow_y": null,
            "padding": null,
            "right": null,
            "top": null,
            "visibility": null,
            "width": null
          }
        },
        "7c392d18c4654b3abf9bf9e6fd3d566a": {
          "model_module": "@jupyter-widgets/controls",
          "model_name": "ProgressStyleModel",
          "model_module_version": "1.5.0",
          "state": {
            "_model_module": "@jupyter-widgets/controls",
            "_model_module_version": "1.5.0",
            "_model_name": "ProgressStyleModel",
            "_view_count": null,
            "_view_module": "@jupyter-widgets/base",
            "_view_module_version": "1.2.0",
            "_view_name": "StyleView",
            "bar_color": null,
            "description_width": ""
          }
        },
        "67b3c2e371bf4ac184c21a46b41e577c": {
          "model_module": "@jupyter-widgets/base",
          "model_name": "LayoutModel",
          "model_module_version": "1.2.0",
          "state": {
            "_model_module": "@jupyter-widgets/base",
            "_model_module_version": "1.2.0",
            "_model_name": "LayoutModel",
            "_view_count": null,
            "_view_module": "@jupyter-widgets/base",
            "_view_module_version": "1.2.0",
            "_view_name": "LayoutView",
            "align_content": null,
            "align_items": null,
            "align_self": null,
            "border": null,
            "bottom": null,
            "display": null,
            "flex": null,
            "flex_flow": null,
            "grid_area": null,
            "grid_auto_columns": null,
            "grid_auto_flow": null,
            "grid_auto_rows": null,
            "grid_column": null,
            "grid_gap": null,
            "grid_row": null,
            "grid_template_areas": null,
            "grid_template_columns": null,
            "grid_template_rows": null,
            "height": null,
            "justify_content": null,
            "justify_items": null,
            "left": null,
            "margin": null,
            "max_height": null,
            "max_width": null,
            "min_height": null,
            "min_width": null,
            "object_fit": null,
            "object_position": null,
            "order": null,
            "overflow": null,
            "overflow_x": null,
            "overflow_y": null,
            "padding": null,
            "right": null,
            "top": null,
            "visibility": null,
            "width": null
          }
        },
        "c114938cbae2495ba79a30e987f4b0ee": {
          "model_module": "@jupyter-widgets/controls",
          "model_name": "DescriptionStyleModel",
          "model_module_version": "1.5.0",
          "state": {
            "_model_module": "@jupyter-widgets/controls",
            "_model_module_version": "1.5.0",
            "_model_name": "DescriptionStyleModel",
            "_view_count": null,
            "_view_module": "@jupyter-widgets/base",
            "_view_module_version": "1.2.0",
            "_view_name": "StyleView",
            "description_width": ""
          }
        },
        "2395e04592444380a727bc7aef3647be": {
          "model_module": "@jupyter-widgets/controls",
          "model_name": "HBoxModel",
          "model_module_version": "1.5.0",
          "state": {
            "_dom_classes": [],
            "_model_module": "@jupyter-widgets/controls",
            "_model_module_version": "1.5.0",
            "_model_name": "HBoxModel",
            "_view_count": null,
            "_view_module": "@jupyter-widgets/controls",
            "_view_module_version": "1.5.0",
            "_view_name": "HBoxView",
            "box_style": "",
            "children": [
              "IPY_MODEL_8d819fe8af4e42ad99299c537d831b98",
              "IPY_MODEL_0519e57d0b734be9bac88865e8038a37",
              "IPY_MODEL_74a84297b7ea4f219dba4c61e7c324a1"
            ],
            "layout": "IPY_MODEL_6ca40a1007f949af9721dd1748eeccc4"
          }
        },
        "8d819fe8af4e42ad99299c537d831b98": {
          "model_module": "@jupyter-widgets/controls",
          "model_name": "HTMLModel",
          "model_module_version": "1.5.0",
          "state": {
            "_dom_classes": [],
            "_model_module": "@jupyter-widgets/controls",
            "_model_module_version": "1.5.0",
            "_model_name": "HTMLModel",
            "_view_count": null,
            "_view_module": "@jupyter-widgets/controls",
            "_view_module_version": "1.5.0",
            "_view_name": "HTMLView",
            "description": "",
            "description_tooltip": null,
            "layout": "IPY_MODEL_a635e6678c3c4f838e67c0667937f7c8",
            "placeholder": "​",
            "style": "IPY_MODEL_b98dc319acbc42d2948dae5d78489b1e",
            "value": "Downloading (…)okenizer_config.json: 100%"
          }
        },
        "0519e57d0b734be9bac88865e8038a37": {
          "model_module": "@jupyter-widgets/controls",
          "model_name": "FloatProgressModel",
          "model_module_version": "1.5.0",
          "state": {
            "_dom_classes": [],
            "_model_module": "@jupyter-widgets/controls",
            "_model_module_version": "1.5.0",
            "_model_name": "FloatProgressModel",
            "_view_count": null,
            "_view_module": "@jupyter-widgets/controls",
            "_view_module_version": "1.5.0",
            "_view_name": "ProgressView",
            "bar_style": "success",
            "description": "",
            "description_tooltip": null,
            "layout": "IPY_MODEL_d333784be4df44d2ac25908cfd4aaf3c",
            "max": 432,
            "min": 0,
            "orientation": "horizontal",
            "style": "IPY_MODEL_f438a6562a664a8d86e1caed88ea52af",
            "value": 432
          }
        },
        "74a84297b7ea4f219dba4c61e7c324a1": {
          "model_module": "@jupyter-widgets/controls",
          "model_name": "HTMLModel",
          "model_module_version": "1.5.0",
          "state": {
            "_dom_classes": [],
            "_model_module": "@jupyter-widgets/controls",
            "_model_module_version": "1.5.0",
            "_model_name": "HTMLModel",
            "_view_count": null,
            "_view_module": "@jupyter-widgets/controls",
            "_view_module_version": "1.5.0",
            "_view_name": "HTMLView",
            "description": "",
            "description_tooltip": null,
            "layout": "IPY_MODEL_c839ec13ae7c475fb6556168103a65da",
            "placeholder": "​",
            "style": "IPY_MODEL_13655e11a70048c7a213af328522b956",
            "value": " 432/432 [00:00&lt;00:00, 33.9kB/s]"
          }
        },
        "6ca40a1007f949af9721dd1748eeccc4": {
          "model_module": "@jupyter-widgets/base",
          "model_name": "LayoutModel",
          "model_module_version": "1.2.0",
          "state": {
            "_model_module": "@jupyter-widgets/base",
            "_model_module_version": "1.2.0",
            "_model_name": "LayoutModel",
            "_view_count": null,
            "_view_module": "@jupyter-widgets/base",
            "_view_module_version": "1.2.0",
            "_view_name": "LayoutView",
            "align_content": null,
            "align_items": null,
            "align_self": null,
            "border": null,
            "bottom": null,
            "display": null,
            "flex": null,
            "flex_flow": null,
            "grid_area": null,
            "grid_auto_columns": null,
            "grid_auto_flow": null,
            "grid_auto_rows": null,
            "grid_column": null,
            "grid_gap": null,
            "grid_row": null,
            "grid_template_areas": null,
            "grid_template_columns": null,
            "grid_template_rows": null,
            "height": null,
            "justify_content": null,
            "justify_items": null,
            "left": null,
            "margin": null,
            "max_height": null,
            "max_width": null,
            "min_height": null,
            "min_width": null,
            "object_fit": null,
            "object_position": null,
            "order": null,
            "overflow": null,
            "overflow_x": null,
            "overflow_y": null,
            "padding": null,
            "right": null,
            "top": null,
            "visibility": null,
            "width": null
          }
        },
        "a635e6678c3c4f838e67c0667937f7c8": {
          "model_module": "@jupyter-widgets/base",
          "model_name": "LayoutModel",
          "model_module_version": "1.2.0",
          "state": {
            "_model_module": "@jupyter-widgets/base",
            "_model_module_version": "1.2.0",
            "_model_name": "LayoutModel",
            "_view_count": null,
            "_view_module": "@jupyter-widgets/base",
            "_view_module_version": "1.2.0",
            "_view_name": "LayoutView",
            "align_content": null,
            "align_items": null,
            "align_self": null,
            "border": null,
            "bottom": null,
            "display": null,
            "flex": null,
            "flex_flow": null,
            "grid_area": null,
            "grid_auto_columns": null,
            "grid_auto_flow": null,
            "grid_auto_rows": null,
            "grid_column": null,
            "grid_gap": null,
            "grid_row": null,
            "grid_template_areas": null,
            "grid_template_columns": null,
            "grid_template_rows": null,
            "height": null,
            "justify_content": null,
            "justify_items": null,
            "left": null,
            "margin": null,
            "max_height": null,
            "max_width": null,
            "min_height": null,
            "min_width": null,
            "object_fit": null,
            "object_position": null,
            "order": null,
            "overflow": null,
            "overflow_x": null,
            "overflow_y": null,
            "padding": null,
            "right": null,
            "top": null,
            "visibility": null,
            "width": null
          }
        },
        "b98dc319acbc42d2948dae5d78489b1e": {
          "model_module": "@jupyter-widgets/controls",
          "model_name": "DescriptionStyleModel",
          "model_module_version": "1.5.0",
          "state": {
            "_model_module": "@jupyter-widgets/controls",
            "_model_module_version": "1.5.0",
            "_model_name": "DescriptionStyleModel",
            "_view_count": null,
            "_view_module": "@jupyter-widgets/base",
            "_view_module_version": "1.2.0",
            "_view_name": "StyleView",
            "description_width": ""
          }
        },
        "d333784be4df44d2ac25908cfd4aaf3c": {
          "model_module": "@jupyter-widgets/base",
          "model_name": "LayoutModel",
          "model_module_version": "1.2.0",
          "state": {
            "_model_module": "@jupyter-widgets/base",
            "_model_module_version": "1.2.0",
            "_model_name": "LayoutModel",
            "_view_count": null,
            "_view_module": "@jupyter-widgets/base",
            "_view_module_version": "1.2.0",
            "_view_name": "LayoutView",
            "align_content": null,
            "align_items": null,
            "align_self": null,
            "border": null,
            "bottom": null,
            "display": null,
            "flex": null,
            "flex_flow": null,
            "grid_area": null,
            "grid_auto_columns": null,
            "grid_auto_flow": null,
            "grid_auto_rows": null,
            "grid_column": null,
            "grid_gap": null,
            "grid_row": null,
            "grid_template_areas": null,
            "grid_template_columns": null,
            "grid_template_rows": null,
            "height": null,
            "justify_content": null,
            "justify_items": null,
            "left": null,
            "margin": null,
            "max_height": null,
            "max_width": null,
            "min_height": null,
            "min_width": null,
            "object_fit": null,
            "object_position": null,
            "order": null,
            "overflow": null,
            "overflow_x": null,
            "overflow_y": null,
            "padding": null,
            "right": null,
            "top": null,
            "visibility": null,
            "width": null
          }
        },
        "f438a6562a664a8d86e1caed88ea52af": {
          "model_module": "@jupyter-widgets/controls",
          "model_name": "ProgressStyleModel",
          "model_module_version": "1.5.0",
          "state": {
            "_model_module": "@jupyter-widgets/controls",
            "_model_module_version": "1.5.0",
            "_model_name": "ProgressStyleModel",
            "_view_count": null,
            "_view_module": "@jupyter-widgets/base",
            "_view_module_version": "1.2.0",
            "_view_name": "StyleView",
            "bar_color": null,
            "description_width": ""
          }
        },
        "c839ec13ae7c475fb6556168103a65da": {
          "model_module": "@jupyter-widgets/base",
          "model_name": "LayoutModel",
          "model_module_version": "1.2.0",
          "state": {
            "_model_module": "@jupyter-widgets/base",
            "_model_module_version": "1.2.0",
            "_model_name": "LayoutModel",
            "_view_count": null,
            "_view_module": "@jupyter-widgets/base",
            "_view_module_version": "1.2.0",
            "_view_name": "LayoutView",
            "align_content": null,
            "align_items": null,
            "align_self": null,
            "border": null,
            "bottom": null,
            "display": null,
            "flex": null,
            "flex_flow": null,
            "grid_area": null,
            "grid_auto_columns": null,
            "grid_auto_flow": null,
            "grid_auto_rows": null,
            "grid_column": null,
            "grid_gap": null,
            "grid_row": null,
            "grid_template_areas": null,
            "grid_template_columns": null,
            "grid_template_rows": null,
            "height": null,
            "justify_content": null,
            "justify_items": null,
            "left": null,
            "margin": null,
            "max_height": null,
            "max_width": null,
            "min_height": null,
            "min_width": null,
            "object_fit": null,
            "object_position": null,
            "order": null,
            "overflow": null,
            "overflow_x": null,
            "overflow_y": null,
            "padding": null,
            "right": null,
            "top": null,
            "visibility": null,
            "width": null
          }
        },
        "13655e11a70048c7a213af328522b956": {
          "model_module": "@jupyter-widgets/controls",
          "model_name": "DescriptionStyleModel",
          "model_module_version": "1.5.0",
          "state": {
            "_model_module": "@jupyter-widgets/controls",
            "_model_module_version": "1.5.0",
            "_model_name": "DescriptionStyleModel",
            "_view_count": null,
            "_view_module": "@jupyter-widgets/base",
            "_view_module_version": "1.2.0",
            "_view_name": "StyleView",
            "description_width": ""
          }
        },
        "20975bbcd9364e7a9b06b592ca7e08af": {
          "model_module": "@jupyter-widgets/controls",
          "model_name": "HBoxModel",
          "model_module_version": "1.5.0",
          "state": {
            "_dom_classes": [],
            "_model_module": "@jupyter-widgets/controls",
            "_model_module_version": "1.5.0",
            "_model_name": "HBoxModel",
            "_view_count": null,
            "_view_module": "@jupyter-widgets/controls",
            "_view_module_version": "1.5.0",
            "_view_name": "HBoxView",
            "box_style": "",
            "children": [
              "IPY_MODEL_2b04e034f3614570966f8bbaddd4a43b",
              "IPY_MODEL_820db01cba674aa0b8e7961d15d03ab9",
              "IPY_MODEL_2f77927f425f418bb2b676d3455bd129"
            ],
            "layout": "IPY_MODEL_54aff8cd3d4748b7a5914463ca14bbb1"
          }
        },
        "2b04e034f3614570966f8bbaddd4a43b": {
          "model_module": "@jupyter-widgets/controls",
          "model_name": "HTMLModel",
          "model_module_version": "1.5.0",
          "state": {
            "_dom_classes": [],
            "_model_module": "@jupyter-widgets/controls",
            "_model_module_version": "1.5.0",
            "_model_name": "HTMLModel",
            "_view_count": null,
            "_view_module": "@jupyter-widgets/controls",
            "_view_module_version": "1.5.0",
            "_view_name": "HTMLView",
            "description": "",
            "description_tooltip": null,
            "layout": "IPY_MODEL_7ece1363aa2e4b90abe8ac80112e6216",
            "placeholder": "​",
            "style": "IPY_MODEL_388e398857944851b368c0a4d0d029a8",
            "value": "Downloading (…)lve/main/config.json: 100%"
          }
        },
        "820db01cba674aa0b8e7961d15d03ab9": {
          "model_module": "@jupyter-widgets/controls",
          "model_name": "FloatProgressModel",
          "model_module_version": "1.5.0",
          "state": {
            "_dom_classes": [],
            "_model_module": "@jupyter-widgets/controls",
            "_model_module_version": "1.5.0",
            "_model_name": "FloatProgressModel",
            "_view_count": null,
            "_view_module": "@jupyter-widgets/controls",
            "_view_module_version": "1.5.0",
            "_view_name": "ProgressView",
            "bar_style": "success",
            "description": "",
            "description_tooltip": null,
            "layout": "IPY_MODEL_ca9dd7ff22f64bc7b8649349496db236",
            "max": 535,
            "min": 0,
            "orientation": "horizontal",
            "style": "IPY_MODEL_7b63f5399d1c4c3985e3239be59acea2",
            "value": 535
          }
        },
        "2f77927f425f418bb2b676d3455bd129": {
          "model_module": "@jupyter-widgets/controls",
          "model_name": "HTMLModel",
          "model_module_version": "1.5.0",
          "state": {
            "_dom_classes": [],
            "_model_module": "@jupyter-widgets/controls",
            "_model_module_version": "1.5.0",
            "_model_name": "HTMLModel",
            "_view_count": null,
            "_view_module": "@jupyter-widgets/controls",
            "_view_module_version": "1.5.0",
            "_view_name": "HTMLView",
            "description": "",
            "description_tooltip": null,
            "layout": "IPY_MODEL_0afabdb60c504aa4b039ed7e34129a45",
            "placeholder": "​",
            "style": "IPY_MODEL_6cdf2db18861497cb687ac21c8bc36d3",
            "value": " 535/535 [00:00&lt;00:00, 13.2kB/s]"
          }
        },
        "54aff8cd3d4748b7a5914463ca14bbb1": {
          "model_module": "@jupyter-widgets/base",
          "model_name": "LayoutModel",
          "model_module_version": "1.2.0",
          "state": {
            "_model_module": "@jupyter-widgets/base",
            "_model_module_version": "1.2.0",
            "_model_name": "LayoutModel",
            "_view_count": null,
            "_view_module": "@jupyter-widgets/base",
            "_view_module_version": "1.2.0",
            "_view_name": "LayoutView",
            "align_content": null,
            "align_items": null,
            "align_self": null,
            "border": null,
            "bottom": null,
            "display": null,
            "flex": null,
            "flex_flow": null,
            "grid_area": null,
            "grid_auto_columns": null,
            "grid_auto_flow": null,
            "grid_auto_rows": null,
            "grid_column": null,
            "grid_gap": null,
            "grid_row": null,
            "grid_template_areas": null,
            "grid_template_columns": null,
            "grid_template_rows": null,
            "height": null,
            "justify_content": null,
            "justify_items": null,
            "left": null,
            "margin": null,
            "max_height": null,
            "max_width": null,
            "min_height": null,
            "min_width": null,
            "object_fit": null,
            "object_position": null,
            "order": null,
            "overflow": null,
            "overflow_x": null,
            "overflow_y": null,
            "padding": null,
            "right": null,
            "top": null,
            "visibility": null,
            "width": null
          }
        },
        "7ece1363aa2e4b90abe8ac80112e6216": {
          "model_module": "@jupyter-widgets/base",
          "model_name": "LayoutModel",
          "model_module_version": "1.2.0",
          "state": {
            "_model_module": "@jupyter-widgets/base",
            "_model_module_version": "1.2.0",
            "_model_name": "LayoutModel",
            "_view_count": null,
            "_view_module": "@jupyter-widgets/base",
            "_view_module_version": "1.2.0",
            "_view_name": "LayoutView",
            "align_content": null,
            "align_items": null,
            "align_self": null,
            "border": null,
            "bottom": null,
            "display": null,
            "flex": null,
            "flex_flow": null,
            "grid_area": null,
            "grid_auto_columns": null,
            "grid_auto_flow": null,
            "grid_auto_rows": null,
            "grid_column": null,
            "grid_gap": null,
            "grid_row": null,
            "grid_template_areas": null,
            "grid_template_columns": null,
            "grid_template_rows": null,
            "height": null,
            "justify_content": null,
            "justify_items": null,
            "left": null,
            "margin": null,
            "max_height": null,
            "max_width": null,
            "min_height": null,
            "min_width": null,
            "object_fit": null,
            "object_position": null,
            "order": null,
            "overflow": null,
            "overflow_x": null,
            "overflow_y": null,
            "padding": null,
            "right": null,
            "top": null,
            "visibility": null,
            "width": null
          }
        },
        "388e398857944851b368c0a4d0d029a8": {
          "model_module": "@jupyter-widgets/controls",
          "model_name": "DescriptionStyleModel",
          "model_module_version": "1.5.0",
          "state": {
            "_model_module": "@jupyter-widgets/controls",
            "_model_module_version": "1.5.0",
            "_model_name": "DescriptionStyleModel",
            "_view_count": null,
            "_view_module": "@jupyter-widgets/base",
            "_view_module_version": "1.2.0",
            "_view_name": "StyleView",
            "description_width": ""
          }
        },
        "ca9dd7ff22f64bc7b8649349496db236": {
          "model_module": "@jupyter-widgets/base",
          "model_name": "LayoutModel",
          "model_module_version": "1.2.0",
          "state": {
            "_model_module": "@jupyter-widgets/base",
            "_model_module_version": "1.2.0",
            "_model_name": "LayoutModel",
            "_view_count": null,
            "_view_module": "@jupyter-widgets/base",
            "_view_module_version": "1.2.0",
            "_view_name": "LayoutView",
            "align_content": null,
            "align_items": null,
            "align_self": null,
            "border": null,
            "bottom": null,
            "display": null,
            "flex": null,
            "flex_flow": null,
            "grid_area": null,
            "grid_auto_columns": null,
            "grid_auto_flow": null,
            "grid_auto_rows": null,
            "grid_column": null,
            "grid_gap": null,
            "grid_row": null,
            "grid_template_areas": null,
            "grid_template_columns": null,
            "grid_template_rows": null,
            "height": null,
            "justify_content": null,
            "justify_items": null,
            "left": null,
            "margin": null,
            "max_height": null,
            "max_width": null,
            "min_height": null,
            "min_width": null,
            "object_fit": null,
            "object_position": null,
            "order": null,
            "overflow": null,
            "overflow_x": null,
            "overflow_y": null,
            "padding": null,
            "right": null,
            "top": null,
            "visibility": null,
            "width": null
          }
        },
        "7b63f5399d1c4c3985e3239be59acea2": {
          "model_module": "@jupyter-widgets/controls",
          "model_name": "ProgressStyleModel",
          "model_module_version": "1.5.0",
          "state": {
            "_model_module": "@jupyter-widgets/controls",
            "_model_module_version": "1.5.0",
            "_model_name": "ProgressStyleModel",
            "_view_count": null,
            "_view_module": "@jupyter-widgets/base",
            "_view_module_version": "1.2.0",
            "_view_name": "StyleView",
            "bar_color": null,
            "description_width": ""
          }
        },
        "0afabdb60c504aa4b039ed7e34129a45": {
          "model_module": "@jupyter-widgets/base",
          "model_name": "LayoutModel",
          "model_module_version": "1.2.0",
          "state": {
            "_model_module": "@jupyter-widgets/base",
            "_model_module_version": "1.2.0",
            "_model_name": "LayoutModel",
            "_view_count": null,
            "_view_module": "@jupyter-widgets/base",
            "_view_module_version": "1.2.0",
            "_view_name": "LayoutView",
            "align_content": null,
            "align_items": null,
            "align_self": null,
            "border": null,
            "bottom": null,
            "display": null,
            "flex": null,
            "flex_flow": null,
            "grid_area": null,
            "grid_auto_columns": null,
            "grid_auto_flow": null,
            "grid_auto_rows": null,
            "grid_column": null,
            "grid_gap": null,
            "grid_row": null,
            "grid_template_areas": null,
            "grid_template_columns": null,
            "grid_template_rows": null,
            "height": null,
            "justify_content": null,
            "justify_items": null,
            "left": null,
            "margin": null,
            "max_height": null,
            "max_width": null,
            "min_height": null,
            "min_width": null,
            "object_fit": null,
            "object_position": null,
            "order": null,
            "overflow": null,
            "overflow_x": null,
            "overflow_y": null,
            "padding": null,
            "right": null,
            "top": null,
            "visibility": null,
            "width": null
          }
        },
        "6cdf2db18861497cb687ac21c8bc36d3": {
          "model_module": "@jupyter-widgets/controls",
          "model_name": "DescriptionStyleModel",
          "model_module_version": "1.5.0",
          "state": {
            "_model_module": "@jupyter-widgets/controls",
            "_model_module_version": "1.5.0",
            "_model_name": "DescriptionStyleModel",
            "_view_count": null,
            "_view_module": "@jupyter-widgets/base",
            "_view_module_version": "1.2.0",
            "_view_name": "StyleView",
            "description_width": ""
          }
        },
        "1888325c588b4ff38cc45ea31b8ab12c": {
          "model_module": "@jupyter-widgets/controls",
          "model_name": "HBoxModel",
          "model_module_version": "1.5.0",
          "state": {
            "_dom_classes": [],
            "_model_module": "@jupyter-widgets/controls",
            "_model_module_version": "1.5.0",
            "_model_name": "HBoxModel",
            "_view_count": null,
            "_view_module": "@jupyter-widgets/controls",
            "_view_module_version": "1.5.0",
            "_view_name": "HBoxView",
            "box_style": "",
            "children": [
              "IPY_MODEL_276fc7366ad94069a81b0d9ebb94c658",
              "IPY_MODEL_53b06052a75a40a6987ec7d48758b24d",
              "IPY_MODEL_80c7b2bbccd9411680a865ae07ceaf02"
            ],
            "layout": "IPY_MODEL_d152c4a5b6d94a039c0871d6f2d43031"
          }
        },
        "276fc7366ad94069a81b0d9ebb94c658": {
          "model_module": "@jupyter-widgets/controls",
          "model_name": "HTMLModel",
          "model_module_version": "1.5.0",
          "state": {
            "_dom_classes": [],
            "_model_module": "@jupyter-widgets/controls",
            "_model_module_version": "1.5.0",
            "_model_name": "HTMLModel",
            "_view_count": null,
            "_view_module": "@jupyter-widgets/controls",
            "_view_module_version": "1.5.0",
            "_view_name": "HTMLView",
            "description": "",
            "description_tooltip": null,
            "layout": "IPY_MODEL_6fc990fab8474c93b08a83048f1fa5e8",
            "placeholder": "​",
            "style": "IPY_MODEL_3cd7059baddc4b46bb0a07f1621435d7",
            "value": "Downloading pytorch_model.bin: 100%"
          }
        },
        "53b06052a75a40a6987ec7d48758b24d": {
          "model_module": "@jupyter-widgets/controls",
          "model_name": "FloatProgressModel",
          "model_module_version": "1.5.0",
          "state": {
            "_dom_classes": [],
            "_model_module": "@jupyter-widgets/controls",
            "_model_module_version": "1.5.0",
            "_model_name": "FloatProgressModel",
            "_view_count": null,
            "_view_module": "@jupyter-widgets/controls",
            "_view_module_version": "1.5.0",
            "_view_name": "ProgressView",
            "bar_style": "success",
            "description": "",
            "description_tooltip": null,
            "layout": "IPY_MODEL_9ea96cc97c92455184f934272c850b37",
            "max": 368792544,
            "min": 0,
            "orientation": "horizontal",
            "style": "IPY_MODEL_a7df7569347340fba086841d8f83684e",
            "value": 368792544
          }
        },
        "80c7b2bbccd9411680a865ae07ceaf02": {
          "model_module": "@jupyter-widgets/controls",
          "model_name": "HTMLModel",
          "model_module_version": "1.5.0",
          "state": {
            "_dom_classes": [],
            "_model_module": "@jupyter-widgets/controls",
            "_model_module_version": "1.5.0",
            "_model_name": "HTMLModel",
            "_view_count": null,
            "_view_module": "@jupyter-widgets/controls",
            "_view_module_version": "1.5.0",
            "_view_name": "HTMLView",
            "description": "",
            "description_tooltip": null,
            "layout": "IPY_MODEL_7c5f15fe32f84a2d8d15979e27699c6a",
            "placeholder": "​",
            "style": "IPY_MODEL_22c422e946ed443dbca4dff03054b0e7",
            "value": " 369M/369M [00:03&lt;00:00, 99.9MB/s]"
          }
        },
        "d152c4a5b6d94a039c0871d6f2d43031": {
          "model_module": "@jupyter-widgets/base",
          "model_name": "LayoutModel",
          "model_module_version": "1.2.0",
          "state": {
            "_model_module": "@jupyter-widgets/base",
            "_model_module_version": "1.2.0",
            "_model_name": "LayoutModel",
            "_view_count": null,
            "_view_module": "@jupyter-widgets/base",
            "_view_module_version": "1.2.0",
            "_view_name": "LayoutView",
            "align_content": null,
            "align_items": null,
            "align_self": null,
            "border": null,
            "bottom": null,
            "display": null,
            "flex": null,
            "flex_flow": null,
            "grid_area": null,
            "grid_auto_columns": null,
            "grid_auto_flow": null,
            "grid_auto_rows": null,
            "grid_column": null,
            "grid_gap": null,
            "grid_row": null,
            "grid_template_areas": null,
            "grid_template_columns": null,
            "grid_template_rows": null,
            "height": null,
            "justify_content": null,
            "justify_items": null,
            "left": null,
            "margin": null,
            "max_height": null,
            "max_width": null,
            "min_height": null,
            "min_width": null,
            "object_fit": null,
            "object_position": null,
            "order": null,
            "overflow": null,
            "overflow_x": null,
            "overflow_y": null,
            "padding": null,
            "right": null,
            "top": null,
            "visibility": null,
            "width": null
          }
        },
        "6fc990fab8474c93b08a83048f1fa5e8": {
          "model_module": "@jupyter-widgets/base",
          "model_name": "LayoutModel",
          "model_module_version": "1.2.0",
          "state": {
            "_model_module": "@jupyter-widgets/base",
            "_model_module_version": "1.2.0",
            "_model_name": "LayoutModel",
            "_view_count": null,
            "_view_module": "@jupyter-widgets/base",
            "_view_module_version": "1.2.0",
            "_view_name": "LayoutView",
            "align_content": null,
            "align_items": null,
            "align_self": null,
            "border": null,
            "bottom": null,
            "display": null,
            "flex": null,
            "flex_flow": null,
            "grid_area": null,
            "grid_auto_columns": null,
            "grid_auto_flow": null,
            "grid_auto_rows": null,
            "grid_column": null,
            "grid_gap": null,
            "grid_row": null,
            "grid_template_areas": null,
            "grid_template_columns": null,
            "grid_template_rows": null,
            "height": null,
            "justify_content": null,
            "justify_items": null,
            "left": null,
            "margin": null,
            "max_height": null,
            "max_width": null,
            "min_height": null,
            "min_width": null,
            "object_fit": null,
            "object_position": null,
            "order": null,
            "overflow": null,
            "overflow_x": null,
            "overflow_y": null,
            "padding": null,
            "right": null,
            "top": null,
            "visibility": null,
            "width": null
          }
        },
        "3cd7059baddc4b46bb0a07f1621435d7": {
          "model_module": "@jupyter-widgets/controls",
          "model_name": "DescriptionStyleModel",
          "model_module_version": "1.5.0",
          "state": {
            "_model_module": "@jupyter-widgets/controls",
            "_model_module_version": "1.5.0",
            "_model_name": "DescriptionStyleModel",
            "_view_count": null,
            "_view_module": "@jupyter-widgets/base",
            "_view_module_version": "1.2.0",
            "_view_name": "StyleView",
            "description_width": ""
          }
        },
        "9ea96cc97c92455184f934272c850b37": {
          "model_module": "@jupyter-widgets/base",
          "model_name": "LayoutModel",
          "model_module_version": "1.2.0",
          "state": {
            "_model_module": "@jupyter-widgets/base",
            "_model_module_version": "1.2.0",
            "_model_name": "LayoutModel",
            "_view_count": null,
            "_view_module": "@jupyter-widgets/base",
            "_view_module_version": "1.2.0",
            "_view_name": "LayoutView",
            "align_content": null,
            "align_items": null,
            "align_self": null,
            "border": null,
            "bottom": null,
            "display": null,
            "flex": null,
            "flex_flow": null,
            "grid_area": null,
            "grid_auto_columns": null,
            "grid_auto_flow": null,
            "grid_auto_rows": null,
            "grid_column": null,
            "grid_gap": null,
            "grid_row": null,
            "grid_template_areas": null,
            "grid_template_columns": null,
            "grid_template_rows": null,
            "height": null,
            "justify_content": null,
            "justify_items": null,
            "left": null,
            "margin": null,
            "max_height": null,
            "max_width": null,
            "min_height": null,
            "min_width": null,
            "object_fit": null,
            "object_position": null,
            "order": null,
            "overflow": null,
            "overflow_x": null,
            "overflow_y": null,
            "padding": null,
            "right": null,
            "top": null,
            "visibility": null,
            "width": null
          }
        },
        "a7df7569347340fba086841d8f83684e": {
          "model_module": "@jupyter-widgets/controls",
          "model_name": "ProgressStyleModel",
          "model_module_version": "1.5.0",
          "state": {
            "_model_module": "@jupyter-widgets/controls",
            "_model_module_version": "1.5.0",
            "_model_name": "ProgressStyleModel",
            "_view_count": null,
            "_view_module": "@jupyter-widgets/base",
            "_view_module_version": "1.2.0",
            "_view_name": "StyleView",
            "bar_color": null,
            "description_width": ""
          }
        },
        "7c5f15fe32f84a2d8d15979e27699c6a": {
          "model_module": "@jupyter-widgets/base",
          "model_name": "LayoutModel",
          "model_module_version": "1.2.0",
          "state": {
            "_model_module": "@jupyter-widgets/base",
            "_model_module_version": "1.2.0",
            "_model_name": "LayoutModel",
            "_view_count": null,
            "_view_module": "@jupyter-widgets/base",
            "_view_module_version": "1.2.0",
            "_view_name": "LayoutView",
            "align_content": null,
            "align_items": null,
            "align_self": null,
            "border": null,
            "bottom": null,
            "display": null,
            "flex": null,
            "flex_flow": null,
            "grid_area": null,
            "grid_auto_columns": null,
            "grid_auto_flow": null,
            "grid_auto_rows": null,
            "grid_column": null,
            "grid_gap": null,
            "grid_row": null,
            "grid_template_areas": null,
            "grid_template_columns": null,
            "grid_template_rows": null,
            "height": null,
            "justify_content": null,
            "justify_items": null,
            "left": null,
            "margin": null,
            "max_height": null,
            "max_width": null,
            "min_height": null,
            "min_width": null,
            "object_fit": null,
            "object_position": null,
            "order": null,
            "overflow": null,
            "overflow_x": null,
            "overflow_y": null,
            "padding": null,
            "right": null,
            "top": null,
            "visibility": null,
            "width": null
          }
        },
        "22c422e946ed443dbca4dff03054b0e7": {
          "model_module": "@jupyter-widgets/controls",
          "model_name": "DescriptionStyleModel",
          "model_module_version": "1.5.0",
          "state": {
            "_model_module": "@jupyter-widgets/controls",
            "_model_module_version": "1.5.0",
            "_model_name": "DescriptionStyleModel",
            "_view_count": null,
            "_view_module": "@jupyter-widgets/base",
            "_view_module_version": "1.2.0",
            "_view_name": "StyleView",
            "description_width": ""
          }
        }
      }
    }
  },
  "nbformat": 4,
  "nbformat_minor": 0
}